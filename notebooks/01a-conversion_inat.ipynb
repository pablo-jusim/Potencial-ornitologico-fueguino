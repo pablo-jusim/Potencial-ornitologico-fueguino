{
 "cells": [
  {
   "cell_type": "markdown",
   "id": "239bfce3",
   "metadata": {},
   "source": [
    "# Potencial Ornitológico Fueguino\n",
    "### **Autor:** Pablo Jusim"
   ]
  },
  {
   "cell_type": "markdown",
   "id": "07251064",
   "metadata": {},
   "source": [
    "# Script de preprocesamiento de observaciones de iNaturalist\n",
    "Se realizan virificaciones antes de obtener el dataframe final.\n",
    "\n",
    "La salida de este script será un dataframe de pandas donde cada fila representará una observación de iNaturalist.\n",
    "\n",
    "El dataframe final tendrá las siguientes **columnas**: id_obs, id_celda, especie, familia, orden, fecha"
   ]
  },
  {
   "cell_type": "markdown",
   "id": "a6595383",
   "metadata": {},
   "source": [
    "## Importaciones"
   ]
  },
  {
   "cell_type": "code",
   "execution_count": 1,
   "id": "575bfad1",
   "metadata": {},
   "outputs": [],
   "source": [
    "import pandas as pd\n",
    "import sys\n",
    "from pathlib import Path\n",
    "from IPython.display import display\n",
    "\n",
    "# Modulos propios\n",
    "sys.path.append(str(Path('..')/'src'))\n",
    "import asociar_grilla"
   ]
  },
  {
   "cell_type": "markdown",
   "id": "d2c7fbb2",
   "metadata": {},
   "source": [
    "## Carga de datos"
   ]
  },
  {
   "cell_type": "code",
   "execution_count": 2,
   "id": "9087b58d",
   "metadata": {},
   "outputs": [
    {
     "data": {
      "application/vnd.microsoft.datawrangler.viewer.v0+json": {
       "columns": [
        {
         "name": "index",
         "rawType": "int64",
         "type": "integer"
        },
        {
         "name": "id",
         "rawType": "int64",
         "type": "integer"
        },
        {
         "name": "uuid",
         "rawType": "object",
         "type": "string"
        },
        {
         "name": "observed_on_string",
         "rawType": "object",
         "type": "string"
        },
        {
         "name": "observed_on",
         "rawType": "object",
         "type": "string"
        },
        {
         "name": "time_observed_at",
         "rawType": "object",
         "type": "unknown"
        },
        {
         "name": "user_id",
         "rawType": "int64",
         "type": "integer"
        },
        {
         "name": "user_name",
         "rawType": "object",
         "type": "string"
        },
        {
         "name": "created_at",
         "rawType": "object",
         "type": "string"
        },
        {
         "name": "quality_grade",
         "rawType": "object",
         "type": "string"
        },
        {
         "name": "captive_cultivated",
         "rawType": "bool",
         "type": "boolean"
        },
        {
         "name": "place_guess",
         "rawType": "object",
         "type": "string"
        },
        {
         "name": "latitude",
         "rawType": "float64",
         "type": "float"
        },
        {
         "name": "longitude",
         "rawType": "float64",
         "type": "float"
        },
        {
         "name": "positional_accuracy",
         "rawType": "float64",
         "type": "float"
        },
        {
         "name": "private_place_guess",
         "rawType": "float64",
         "type": "float"
        },
        {
         "name": "private_latitude",
         "rawType": "float64",
         "type": "float"
        },
        {
         "name": "private_longitude",
         "rawType": "float64",
         "type": "float"
        },
        {
         "name": "public_positional_accuracy",
         "rawType": "float64",
         "type": "float"
        },
        {
         "name": "geoprivacy",
         "rawType": "float64",
         "type": "float"
        },
        {
         "name": "taxon_geoprivacy",
         "rawType": "object",
         "type": "string"
        },
        {
         "name": "coordinates_obscured",
         "rawType": "bool",
         "type": "boolean"
        },
        {
         "name": "positioning_method",
         "rawType": "object",
         "type": "unknown"
        },
        {
         "name": "positioning_device",
         "rawType": "object",
         "type": "unknown"
        },
        {
         "name": "place_town_name",
         "rawType": "float64",
         "type": "float"
        },
        {
         "name": "place_county_name",
         "rawType": "object",
         "type": "string"
        },
        {
         "name": "place_state_name",
         "rawType": "object",
         "type": "string"
        },
        {
         "name": "place_country_name",
         "rawType": "object",
         "type": "string"
        },
        {
         "name": "place_admin1_name",
         "rawType": "object",
         "type": "string"
        },
        {
         "name": "place_admin2_name",
         "rawType": "object",
         "type": "string"
        },
        {
         "name": "species_guess",
         "rawType": "object",
         "type": "string"
        },
        {
         "name": "scientific_name",
         "rawType": "object",
         "type": "string"
        },
        {
         "name": "common_name",
         "rawType": "object",
         "type": "string"
        },
        {
         "name": "iconic_taxon_name",
         "rawType": "object",
         "type": "string"
        },
        {
         "name": "taxon_id",
         "rawType": "int64",
         "type": "integer"
        },
        {
         "name": "taxon_order_name",
         "rawType": "object",
         "type": "string"
        },
        {
         "name": "taxon_family_name",
         "rawType": "object",
         "type": "string"
        },
        {
         "name": "taxon_genus_name",
         "rawType": "object",
         "type": "string"
        },
        {
         "name": "taxon_subspecies_name",
         "rawType": "object",
         "type": "unknown"
        }
       ],
       "ref": "3c583443-9829-4f80-8911-2b2822e29413",
       "rows": [
        [
         "0",
         "43929",
         "bf9ff5ac-0a0f-45eb-9c7b-e86e9298d192",
         "January 06, 2011 16:29",
         "2011-01-06",
         "2011-01-06 19:29:00 UTC",
         "4083",
         "Liam Quinn",
         "2011-12-18 19:58:12 UTC",
         "research",
         "False",
         "Lapataia, Tierra del Fuego, Argentina",
         "-54.85423",
         "-68.579063",
         null,
         null,
         null,
         null,
         null,
         null,
         "open",
         "False",
         null,
         null,
         null,
         "Ushuaia",
         "Tierra del Fuego",
         "Argentina",
         "Tierra del Fuego",
         "Ushuaia",
         "Rufous-collared Sparrow",
         "Zonotrichia capensis",
         "Chingolo",
         "Aves",
         "9183",
         "Passeriformes",
         "Passerellidae",
         "Zonotrichia",
         null
        ],
        [
         "1",
         "44127",
         "dfa80126-6707-43dd-80e8-cf6230a6b41a",
         "January 06, 2011 12:44",
         "2011-01-06",
         "2011-01-06 15:44:00 UTC",
         "4083",
         "Liam Quinn",
         "2011-12-19 03:36:06 UTC",
         "research",
         "False",
         "Lapataia, Tierra del Fuego, Argentina",
         "-54.847955",
         "-68.542327",
         null,
         null,
         null,
         null,
         null,
         null,
         "open",
         "False",
         null,
         null,
         null,
         "Ushuaia",
         "Tierra del Fuego",
         "Argentina",
         "Tierra del Fuego",
         "Ushuaia",
         "Austral Thrush",
         "Turdus falcklandii",
         "Zorzal patagónico",
         "Aves",
         "12751",
         "Passeriformes",
         "Turdidae",
         "Turdus",
         null
        ],
        [
         "2",
         "143793",
         "2c967eea-825c-4707-9c9a-a0aa157cfe10",
         "2011-12-31 12:27:52",
         "2011-12-31",
         "2011-12-31 20:27:52 UTC",
         "10201",
         "edwardrooks",
         "2012-11-04 22:32:17 UTC",
         "research",
         "False",
         "Tierra del Fuego, Argentina",
         "-54.841826",
         "-68.488769",
         null,
         null,
         null,
         null,
         null,
         null,
         "open",
         "False",
         null,
         null,
         null,
         "Ushuaia",
         "Tierra del Fuego",
         "Argentina",
         "Tierra del Fuego",
         "Ushuaia",
         "Black-necked Swan",
         "Cygnus melancoryphus",
         "Cisne cuello negro",
         "Aves",
         "72789",
         "Anseriformes",
         "Anatidae",
         "Cygnus",
         null
        ],
        [
         "3",
         "143794",
         "818697e7-2cff-4004-af67-b70b3ec39baf",
         "2011-12-30 15:12:17",
         "2011-12-30",
         "2011-12-30 23:12:17 UTC",
         "10201",
         "edwardrooks",
         "2012-11-04 22:32:18 UTC",
         "research",
         "False",
         "Tierra del Fuego, Argentina",
         "-54.305307",
         "-67.27478",
         null,
         null,
         null,
         null,
         null,
         null,
         "open",
         "False",
         null,
         null,
         null,
         "Rió Grande",
         "Tierra del Fuego",
         "Argentina",
         "Tierra del Fuego",
         "Rió Grande",
         "Southern Lapwing",
         "Vanellus chilensis",
         "Tero",
         "Aves",
         "4867",
         "Charadriiformes",
         "Charadriidae",
         "Vanellus",
         null
        ],
        [
         "4",
         "335952",
         "7efa102f-eb4a-45e5-a17b-7bb68db01940",
         "2009-11-19",
         "2009-11-19",
         null,
         "15211",
         "Carmelo López Abad",
         "2013-07-18 00:40:23 UTC",
         "research",
         "False",
         "Ushuaia, Tierra del Fuego province, Argentina.",
         "-54.818789",
         "-68.188534",
         null,
         null,
         null,
         null,
         null,
         null,
         "open",
         "False",
         null,
         null,
         null,
         "Ushuaia",
         "Tierra del Fuego",
         "Argentina",
         "Tierra del Fuego",
         "Ushuaia",
         "Crested Duck",
         "Lophonetta specularioides",
         "Pato Crestón",
         "Aves",
         "72994",
         "Anseriformes",
         "Anatidae",
         "Lophonetta",
         null
        ]
       ],
       "shape": {
        "columns": 38,
        "rows": 5
       }
      },
      "text/html": [
       "<div>\n",
       "<style scoped>\n",
       "    .dataframe tbody tr th:only-of-type {\n",
       "        vertical-align: middle;\n",
       "    }\n",
       "\n",
       "    .dataframe tbody tr th {\n",
       "        vertical-align: top;\n",
       "    }\n",
       "\n",
       "    .dataframe thead th {\n",
       "        text-align: right;\n",
       "    }\n",
       "</style>\n",
       "<table border=\"1\" class=\"dataframe\">\n",
       "  <thead>\n",
       "    <tr style=\"text-align: right;\">\n",
       "      <th></th>\n",
       "      <th>id</th>\n",
       "      <th>uuid</th>\n",
       "      <th>observed_on_string</th>\n",
       "      <th>observed_on</th>\n",
       "      <th>time_observed_at</th>\n",
       "      <th>user_id</th>\n",
       "      <th>user_name</th>\n",
       "      <th>created_at</th>\n",
       "      <th>quality_grade</th>\n",
       "      <th>captive_cultivated</th>\n",
       "      <th>...</th>\n",
       "      <th>place_admin2_name</th>\n",
       "      <th>species_guess</th>\n",
       "      <th>scientific_name</th>\n",
       "      <th>common_name</th>\n",
       "      <th>iconic_taxon_name</th>\n",
       "      <th>taxon_id</th>\n",
       "      <th>taxon_order_name</th>\n",
       "      <th>taxon_family_name</th>\n",
       "      <th>taxon_genus_name</th>\n",
       "      <th>taxon_subspecies_name</th>\n",
       "    </tr>\n",
       "  </thead>\n",
       "  <tbody>\n",
       "    <tr>\n",
       "      <th>0</th>\n",
       "      <td>43929</td>\n",
       "      <td>bf9ff5ac-0a0f-45eb-9c7b-e86e9298d192</td>\n",
       "      <td>January 06, 2011 16:29</td>\n",
       "      <td>2011-01-06</td>\n",
       "      <td>2011-01-06 19:29:00 UTC</td>\n",
       "      <td>4083</td>\n",
       "      <td>Liam Quinn</td>\n",
       "      <td>2011-12-18 19:58:12 UTC</td>\n",
       "      <td>research</td>\n",
       "      <td>False</td>\n",
       "      <td>...</td>\n",
       "      <td>Ushuaia</td>\n",
       "      <td>Rufous-collared Sparrow</td>\n",
       "      <td>Zonotrichia capensis</td>\n",
       "      <td>Chingolo</td>\n",
       "      <td>Aves</td>\n",
       "      <td>9183</td>\n",
       "      <td>Passeriformes</td>\n",
       "      <td>Passerellidae</td>\n",
       "      <td>Zonotrichia</td>\n",
       "      <td>NaN</td>\n",
       "    </tr>\n",
       "    <tr>\n",
       "      <th>1</th>\n",
       "      <td>44127</td>\n",
       "      <td>dfa80126-6707-43dd-80e8-cf6230a6b41a</td>\n",
       "      <td>January 06, 2011 12:44</td>\n",
       "      <td>2011-01-06</td>\n",
       "      <td>2011-01-06 15:44:00 UTC</td>\n",
       "      <td>4083</td>\n",
       "      <td>Liam Quinn</td>\n",
       "      <td>2011-12-19 03:36:06 UTC</td>\n",
       "      <td>research</td>\n",
       "      <td>False</td>\n",
       "      <td>...</td>\n",
       "      <td>Ushuaia</td>\n",
       "      <td>Austral Thrush</td>\n",
       "      <td>Turdus falcklandii</td>\n",
       "      <td>Zorzal patagónico</td>\n",
       "      <td>Aves</td>\n",
       "      <td>12751</td>\n",
       "      <td>Passeriformes</td>\n",
       "      <td>Turdidae</td>\n",
       "      <td>Turdus</td>\n",
       "      <td>NaN</td>\n",
       "    </tr>\n",
       "    <tr>\n",
       "      <th>2</th>\n",
       "      <td>143793</td>\n",
       "      <td>2c967eea-825c-4707-9c9a-a0aa157cfe10</td>\n",
       "      <td>2011-12-31 12:27:52</td>\n",
       "      <td>2011-12-31</td>\n",
       "      <td>2011-12-31 20:27:52 UTC</td>\n",
       "      <td>10201</td>\n",
       "      <td>edwardrooks</td>\n",
       "      <td>2012-11-04 22:32:17 UTC</td>\n",
       "      <td>research</td>\n",
       "      <td>False</td>\n",
       "      <td>...</td>\n",
       "      <td>Ushuaia</td>\n",
       "      <td>Black-necked Swan</td>\n",
       "      <td>Cygnus melancoryphus</td>\n",
       "      <td>Cisne cuello negro</td>\n",
       "      <td>Aves</td>\n",
       "      <td>72789</td>\n",
       "      <td>Anseriformes</td>\n",
       "      <td>Anatidae</td>\n",
       "      <td>Cygnus</td>\n",
       "      <td>NaN</td>\n",
       "    </tr>\n",
       "    <tr>\n",
       "      <th>3</th>\n",
       "      <td>143794</td>\n",
       "      <td>818697e7-2cff-4004-af67-b70b3ec39baf</td>\n",
       "      <td>2011-12-30 15:12:17</td>\n",
       "      <td>2011-12-30</td>\n",
       "      <td>2011-12-30 23:12:17 UTC</td>\n",
       "      <td>10201</td>\n",
       "      <td>edwardrooks</td>\n",
       "      <td>2012-11-04 22:32:18 UTC</td>\n",
       "      <td>research</td>\n",
       "      <td>False</td>\n",
       "      <td>...</td>\n",
       "      <td>Rió Grande</td>\n",
       "      <td>Southern Lapwing</td>\n",
       "      <td>Vanellus chilensis</td>\n",
       "      <td>Tero</td>\n",
       "      <td>Aves</td>\n",
       "      <td>4867</td>\n",
       "      <td>Charadriiformes</td>\n",
       "      <td>Charadriidae</td>\n",
       "      <td>Vanellus</td>\n",
       "      <td>NaN</td>\n",
       "    </tr>\n",
       "    <tr>\n",
       "      <th>4</th>\n",
       "      <td>335952</td>\n",
       "      <td>7efa102f-eb4a-45e5-a17b-7bb68db01940</td>\n",
       "      <td>2009-11-19</td>\n",
       "      <td>2009-11-19</td>\n",
       "      <td>NaN</td>\n",
       "      <td>15211</td>\n",
       "      <td>Carmelo López Abad</td>\n",
       "      <td>2013-07-18 00:40:23 UTC</td>\n",
       "      <td>research</td>\n",
       "      <td>False</td>\n",
       "      <td>...</td>\n",
       "      <td>Ushuaia</td>\n",
       "      <td>Crested Duck</td>\n",
       "      <td>Lophonetta specularioides</td>\n",
       "      <td>Pato Crestón</td>\n",
       "      <td>Aves</td>\n",
       "      <td>72994</td>\n",
       "      <td>Anseriformes</td>\n",
       "      <td>Anatidae</td>\n",
       "      <td>Lophonetta</td>\n",
       "      <td>NaN</td>\n",
       "    </tr>\n",
       "  </tbody>\n",
       "</table>\n",
       "<p>5 rows × 38 columns</p>\n",
       "</div>"
      ],
      "text/plain": [
       "       id                                  uuid      observed_on_string  \\\n",
       "0   43929  bf9ff5ac-0a0f-45eb-9c7b-e86e9298d192  January 06, 2011 16:29   \n",
       "1   44127  dfa80126-6707-43dd-80e8-cf6230a6b41a  January 06, 2011 12:44   \n",
       "2  143793  2c967eea-825c-4707-9c9a-a0aa157cfe10     2011-12-31 12:27:52   \n",
       "3  143794  818697e7-2cff-4004-af67-b70b3ec39baf     2011-12-30 15:12:17   \n",
       "4  335952  7efa102f-eb4a-45e5-a17b-7bb68db01940              2009-11-19   \n",
       "\n",
       "  observed_on         time_observed_at  user_id           user_name  \\\n",
       "0  2011-01-06  2011-01-06 19:29:00 UTC     4083          Liam Quinn   \n",
       "1  2011-01-06  2011-01-06 15:44:00 UTC     4083          Liam Quinn   \n",
       "2  2011-12-31  2011-12-31 20:27:52 UTC    10201         edwardrooks   \n",
       "3  2011-12-30  2011-12-30 23:12:17 UTC    10201         edwardrooks   \n",
       "4  2009-11-19                      NaN    15211  Carmelo López Abad   \n",
       "\n",
       "                created_at quality_grade  captive_cultivated  ...  \\\n",
       "0  2011-12-18 19:58:12 UTC      research               False  ...   \n",
       "1  2011-12-19 03:36:06 UTC      research               False  ...   \n",
       "2  2012-11-04 22:32:17 UTC      research               False  ...   \n",
       "3  2012-11-04 22:32:18 UTC      research               False  ...   \n",
       "4  2013-07-18 00:40:23 UTC      research               False  ...   \n",
       "\n",
       "  place_admin2_name            species_guess            scientific_name  \\\n",
       "0           Ushuaia  Rufous-collared Sparrow       Zonotrichia capensis   \n",
       "1           Ushuaia           Austral Thrush         Turdus falcklandii   \n",
       "2           Ushuaia        Black-necked Swan       Cygnus melancoryphus   \n",
       "3        Rió Grande         Southern Lapwing         Vanellus chilensis   \n",
       "4           Ushuaia             Crested Duck  Lophonetta specularioides   \n",
       "\n",
       "          common_name  iconic_taxon_name  taxon_id  taxon_order_name  \\\n",
       "0            Chingolo               Aves      9183     Passeriformes   \n",
       "1   Zorzal patagónico               Aves     12751     Passeriformes   \n",
       "2  Cisne cuello negro               Aves     72789      Anseriformes   \n",
       "3                Tero               Aves      4867   Charadriiformes   \n",
       "4        Pato Crestón               Aves     72994      Anseriformes   \n",
       "\n",
       "   taxon_family_name  taxon_genus_name taxon_subspecies_name  \n",
       "0      Passerellidae       Zonotrichia                   NaN  \n",
       "1           Turdidae            Turdus                   NaN  \n",
       "2           Anatidae            Cygnus                   NaN  \n",
       "3       Charadriidae          Vanellus                   NaN  \n",
       "4           Anatidae        Lophonetta                   NaN  \n",
       "\n",
       "[5 rows x 38 columns]"
      ]
     },
     "metadata": {},
     "output_type": "display_data"
    }
   ],
   "source": [
    "archivo = '../data/external/obs_iNat.csv'\n",
    "try:\n",
    "    df_base = pd.read_csv(archivo)\n",
    "    display(df_base.head())\n",
    "except FileNotFoundError:\n",
    "    print('No se encuentra el archivo en la ruta ' + archivo)"
   ]
  },
  {
   "cell_type": "markdown",
   "id": "8d40d47b",
   "metadata": {},
   "source": [
    "## Limpieza de datos"
   ]
  },
  {
   "cell_type": "markdown",
   "id": "381371c4",
   "metadata": {},
   "source": [
    "### Revisión de datos y eliminación de columnas no útiles"
   ]
  },
  {
   "cell_type": "markdown",
   "id": "0b369c19",
   "metadata": {},
   "source": [
    "#### Revisión del contenido de columnas con posibles errores y eliminación de las mismas"
   ]
  },
  {
   "cell_type": "markdown",
   "id": "1a0a9a7f",
   "metadata": {},
   "source": [
    "##### Verificaciones"
   ]
  },
  {
   "cell_type": "code",
   "execution_count": 3,
   "id": "1262da4f",
   "metadata": {},
   "outputs": [
    {
     "name": "stdout",
     "output_type": "stream",
     "text": [
      "quality_grade: ['research']\n",
      "captive: [False]\n",
      "private_place_guess: [nan]\n",
      "private_latitude: [nan]\n",
      "private_longitude: [nan]\n",
      "geoprivacy: [nan]\n",
      "taxon_geoprivacy: ['open' nan]\n",
      "coordinates_obscured: [False]\n",
      "place_town_name: [nan]\n",
      "place_county_name: ['Ushuaia' 'Rió Grande']\n",
      "place_state_name: ['Tierra del Fuego']\n",
      "iconic_taxon_name: ['Aves']\n"
     ]
    }
   ],
   "source": [
    "# Columna \"quality_grade\": segun la busqueda realizada en iNat, los datos deberian estar todos en \"research\"\n",
    "print(f'quality_grade: {df_base['quality_grade'].unique()}')\n",
    "\n",
    "# Columna \"captive_cultivated\": ninguna observacion deberia ser \"true\" (aves cautivas)\n",
    "print(f'captive: {df_base['captive_cultivated'].unique()}')\n",
    "\n",
    "# Columna \"private_place_guess\": ninguna observacion deberia tener datos ya que la búsqueda solo incluyó ubicaciones públicas\n",
    "print(f'private_place_guess: {df_base[\"private_place_guess\"].unique()}')\n",
    "\n",
    "# Columnas \"private_latitude\" y \"private:longitude\": ninguna observacion deberia tener datos ya que la búsqueda solo incluyó ubicaciones públicas\n",
    "print(f'private_latitude: {df_base[\"private_latitude\"].unique()}')\n",
    "print(f'private_longitude: {df_base[\"private_longitude\"].unique()}')\n",
    "\n",
    "# Columna \"geoprivacy\": ninguna observacion deberia tener datos ya que la búsqueda solo incluyó ubicaciones públicas\n",
    "print(f'geoprivacy: {df_base[\"geoprivacy\"].unique()}')\n",
    "\n",
    "# Columna \"taxon_geoprivacy\": las observaciones deberian ser \"open\" o carecer el dato\n",
    "print(f'taxon_geoprivacy: {df_base[\"taxon_geoprivacy\"].unique()}')\n",
    "\n",
    "# Columna \"coordinates_obscured\": las observaciones deberian ser \"false\" o carecer el dato\n",
    "print(f'coordinates_obscured: {df_base[\"coordinates_obscured\"].unique()}')\n",
    "\n",
    "# Columna \"place_town_name\": se revisa si hay datos en la columna, sino se elimina\n",
    "print(f'place_town_name: {df_base[\"place_town_name\"].unique()}')\n",
    "\n",
    "# Columna \"place_county_name\": los valores deberian ser los departamentos de TIerras del Fuego\n",
    "print(f'place_county_name: {df_base[\"place_county_name\"].unique()}')\n",
    "\n",
    "# Columna \"place_state_name\": los valores deberian ser \"Tierra del Fuego\"\n",
    "print(f'place_state_name: {df_base[\"place_state_name\"].unique()}')\n",
    "\n",
    "# Columna \"iconic_taxon_name\": los valores deberian ser \"Aves\"\n",
    "print(f'iconic_taxon_name: {df_base[\"iconic_taxon_name\"].unique()}')\n",
    "\n"
   ]
  },
  {
   "cell_type": "code",
   "execution_count": 4,
   "id": "b70c6958",
   "metadata": {},
   "outputs": [
    {
     "name": "stdout",
     "output_type": "stream",
     "text": [
      "Filas totales: 15651\n",
      "Columnas totales: 38\n"
     ]
    }
   ],
   "source": [
    "print(f'Filas totales: {len(df_base)}')\n",
    "print(f'Columnas totales: {len(df_base.columns)}')"
   ]
  },
  {
   "cell_type": "markdown",
   "id": "88e981c1",
   "metadata": {},
   "source": [
    "### Revisión de valores de filas"
   ]
  },
  {
   "cell_type": "markdown",
   "id": "6a56d3db",
   "metadata": {},
   "source": [
    "##### Precisión"
   ]
  },
  {
   "cell_type": "code",
   "execution_count": 5,
   "id": "4fae436e",
   "metadata": {},
   "outputs": [
    {
     "name": "stdout",
     "output_type": "stream",
     "text": [
      "Filas restantes: 8087\n"
     ]
    }
   ],
   "source": [
    "# Precision de las observaciones: Se descartan observaciones con una precisión menor\n",
    "# a la mitad del tramaño de la celda (2500 m o más)\n",
    "df_filtrada_1 = df_base[df_base['positional_accuracy'] < 2500]\n",
    "print(f'Filas restantes: {len(df_filtrada_1)}')"
   ]
  },
  {
   "cell_type": "markdown",
   "id": "d29faaba",
   "metadata": {},
   "source": [
    "##### Nombres científicos\n",
    "Los nombres cientificos constan de dos palabras, el genero y el epíteto específico.\n",
    "Si hay una tercera palabra, esta puede corresponder a una subespecie.\n",
    "Tener observaciones de la misma especie con dos o tres palabras puede complicar el conteo"
   ]
  },
  {
   "cell_type": "code",
   "execution_count": 6,
   "id": "6885bc8c",
   "metadata": {},
   "outputs": [
    {
     "data": {
      "application/vnd.microsoft.datawrangler.viewer.v0+json": {
       "columns": [
        {
         "name": "index",
         "rawType": "int64",
         "type": "integer"
        },
        {
         "name": "id",
         "rawType": "int64",
         "type": "integer"
        },
        {
         "name": "uuid",
         "rawType": "object",
         "type": "string"
        },
        {
         "name": "observed_on_string",
         "rawType": "object",
         "type": "string"
        },
        {
         "name": "observed_on",
         "rawType": "object",
         "type": "string"
        },
        {
         "name": "time_observed_at",
         "rawType": "object",
         "type": "unknown"
        },
        {
         "name": "user_id",
         "rawType": "int64",
         "type": "integer"
        },
        {
         "name": "user_name",
         "rawType": "object",
         "type": "string"
        },
        {
         "name": "created_at",
         "rawType": "object",
         "type": "string"
        },
        {
         "name": "quality_grade",
         "rawType": "object",
         "type": "string"
        },
        {
         "name": "captive_cultivated",
         "rawType": "bool",
         "type": "boolean"
        },
        {
         "name": "place_guess",
         "rawType": "object",
         "type": "string"
        },
        {
         "name": "latitude",
         "rawType": "float64",
         "type": "float"
        },
        {
         "name": "longitude",
         "rawType": "float64",
         "type": "float"
        },
        {
         "name": "positional_accuracy",
         "rawType": "float64",
         "type": "float"
        },
        {
         "name": "private_place_guess",
         "rawType": "float64",
         "type": "float"
        },
        {
         "name": "private_latitude",
         "rawType": "float64",
         "type": "float"
        },
        {
         "name": "private_longitude",
         "rawType": "float64",
         "type": "float"
        },
        {
         "name": "public_positional_accuracy",
         "rawType": "float64",
         "type": "float"
        },
        {
         "name": "geoprivacy",
         "rawType": "float64",
         "type": "float"
        },
        {
         "name": "taxon_geoprivacy",
         "rawType": "object",
         "type": "string"
        },
        {
         "name": "coordinates_obscured",
         "rawType": "bool",
         "type": "boolean"
        },
        {
         "name": "positioning_method",
         "rawType": "object",
         "type": "unknown"
        },
        {
         "name": "positioning_device",
         "rawType": "object",
         "type": "unknown"
        },
        {
         "name": "place_town_name",
         "rawType": "float64",
         "type": "float"
        },
        {
         "name": "place_county_name",
         "rawType": "object",
         "type": "string"
        },
        {
         "name": "place_state_name",
         "rawType": "object",
         "type": "string"
        },
        {
         "name": "place_country_name",
         "rawType": "object",
         "type": "string"
        },
        {
         "name": "place_admin1_name",
         "rawType": "object",
         "type": "string"
        },
        {
         "name": "place_admin2_name",
         "rawType": "object",
         "type": "string"
        },
        {
         "name": "species_guess",
         "rawType": "object",
         "type": "string"
        },
        {
         "name": "scientific_name_sub",
         "rawType": "object",
         "type": "string"
        },
        {
         "name": "common_name",
         "rawType": "object",
         "type": "string"
        },
        {
         "name": "iconic_taxon_name",
         "rawType": "object",
         "type": "string"
        },
        {
         "name": "taxon_id",
         "rawType": "int64",
         "type": "integer"
        },
        {
         "name": "taxon_order_name",
         "rawType": "object",
         "type": "string"
        },
        {
         "name": "taxon_family_name",
         "rawType": "object",
         "type": "string"
        },
        {
         "name": "taxon_genus_name",
         "rawType": "object",
         "type": "string"
        },
        {
         "name": "taxon_subspecies_name",
         "rawType": "object",
         "type": "unknown"
        },
        {
         "name": "scientific_name",
         "rawType": "object",
         "type": "string"
        }
       ],
       "ref": "d2bf4975-1fa1-4776-b552-c044da0affc0",
       "rows": [
        [
         "6",
         "336399",
         "d0302e25-164f-4063-b016-d5fd6daf2e26",
         "2009-11-21",
         "2009-11-21",
         null,
         "15211",
         "Carmelo López Abad",
         "2013-07-18 15:25:37 UTC",
         "research",
         "False",
         "Beagle Channel, Ushuaia, Tierra del Fuego province, Argentina.",
         "-54.867678",
         "-67.466637",
         "38.0",
         null,
         null,
         null,
         "38.0",
         null,
         "open",
         "False",
         null,
         null,
         null,
         "Ushuaia",
         "Tierra del Fuego",
         "Argentina",
         "Tierra del Fuego",
         "Ushuaia",
         "Magellanic Cormorant",
         "Leucocarbo magellanicus",
         "Cormorán cuello negro",
         "Aves",
         "1289600",
         "Suliformes",
         "Phalacrocoracidae",
         "Leucocarbo",
         null,
         "Leucocarbo magellanicus"
        ],
        [
         "22",
         "568157",
         "2a9415ef-149a-4bad-a244-2a85a2ba0320",
         "2013-12-22",
         "2013-12-22",
         null,
         "10201",
         "edwardrooks",
         "2014-03-14 18:13:31 UTC",
         "research",
         "False",
         "Tierra del Fuego National Park, Ushuaia",
         "-54.828777",
         "-68.558121",
         "1225.0",
         null,
         null,
         null,
         "1225.0",
         null,
         "open",
         "False",
         null,
         null,
         null,
         "Ushuaia",
         "Tierra del Fuego",
         "Argentina",
         "Tierra del Fuego",
         "Ushuaia",
         "Austral Parakeet",
         "Enicognathus ferrugineus",
         "Cachaña",
         "Aves",
         "19262",
         "Psittaciformes",
         "Psittacidae",
         "Enicognathus",
         null,
         "Enicognathus ferrugineus"
        ],
        [
         "23",
         "568760",
         "1761c377-2c50-4519-b717-01f9a0699305",
         "2013-12-22",
         "2013-12-22",
         null,
         "10201",
         "edwardrooks",
         "2014-03-15 00:02:59 UTC",
         "research",
         "False",
         "Tierra del Fuego National Park, Ushuaia",
         "-54.853885",
         "-68.57666",
         "611.0",
         null,
         null,
         null,
         "611.0",
         null,
         "open",
         "False",
         null,
         null,
         null,
         "Ushuaia",
         "Tierra del Fuego",
         "Argentina",
         "Tierra del Fuego",
         "Ushuaia",
         "Black-chinned Siskin",
         "Spinus barbatus",
         "Cabecitanegra austral",
         "Aves",
         "145321",
         "Passeriformes",
         "Fringillidae",
         "Spinus",
         null,
         "Spinus barbatus"
        ],
        [
         "24",
         "568802",
         "1e82155d-2d14-4686-be36-9a309adc49d2",
         "2013-12-22",
         "2013-12-22",
         null,
         "10201",
         "edwardrooks",
         "2014-03-15 00:39:18 UTC",
         "research",
         "False",
         "Tierra del Fuego National Park, Ushuaia",
         "-54.844298",
         "-68.564987",
         "305.0",
         null,
         null,
         null,
         "305.0",
         null,
         "open",
         "False",
         null,
         null,
         null,
         "Ushuaia",
         "Tierra del Fuego",
         "Argentina",
         "Tierra del Fuego",
         "Ushuaia",
         "Sobrepuesto común",
         "Lessonia rufa",
         "Sobrepuesto austral",
         "Aves",
         "17310",
         "Passeriformes",
         "Tyrannidae",
         "Lessonia",
         null,
         "Lessonia rufa"
        ],
        [
         "26",
         "568816",
         "9982bb13-b0cf-4994-9408-815564cd29f5",
         "2013-12-22",
         "2013-12-22",
         null,
         "10201",
         "edwardrooks",
         "2014-03-15 00:47:13 UTC",
         "research",
         "False",
         "Tierra del Fuego National Park, Ushuaia",
         "-54.854478",
         "-68.573914",
         "2446.0",
         null,
         null,
         null,
         "2446.0",
         null,
         "open",
         "False",
         null,
         null,
         null,
         "Ushuaia",
         "Tierra del Fuego",
         "Argentina",
         "Tierra del Fuego",
         "Ushuaia",
         "Rufous-collared Sparrow",
         "Zonotrichia capensis",
         "Chingolo",
         "Aves",
         "9183",
         "Passeriformes",
         "Passerellidae",
         "Zonotrichia",
         null,
         "Zonotrichia capensis"
        ]
       ],
       "shape": {
        "columns": 39,
        "rows": 5
       }
      },
      "text/html": [
       "<div>\n",
       "<style scoped>\n",
       "    .dataframe tbody tr th:only-of-type {\n",
       "        vertical-align: middle;\n",
       "    }\n",
       "\n",
       "    .dataframe tbody tr th {\n",
       "        vertical-align: top;\n",
       "    }\n",
       "\n",
       "    .dataframe thead th {\n",
       "        text-align: right;\n",
       "    }\n",
       "</style>\n",
       "<table border=\"1\" class=\"dataframe\">\n",
       "  <thead>\n",
       "    <tr style=\"text-align: right;\">\n",
       "      <th></th>\n",
       "      <th>id</th>\n",
       "      <th>uuid</th>\n",
       "      <th>observed_on_string</th>\n",
       "      <th>observed_on</th>\n",
       "      <th>time_observed_at</th>\n",
       "      <th>user_id</th>\n",
       "      <th>user_name</th>\n",
       "      <th>created_at</th>\n",
       "      <th>quality_grade</th>\n",
       "      <th>captive_cultivated</th>\n",
       "      <th>...</th>\n",
       "      <th>species_guess</th>\n",
       "      <th>scientific_name_sub</th>\n",
       "      <th>common_name</th>\n",
       "      <th>iconic_taxon_name</th>\n",
       "      <th>taxon_id</th>\n",
       "      <th>taxon_order_name</th>\n",
       "      <th>taxon_family_name</th>\n",
       "      <th>taxon_genus_name</th>\n",
       "      <th>taxon_subspecies_name</th>\n",
       "      <th>scientific_name</th>\n",
       "    </tr>\n",
       "  </thead>\n",
       "  <tbody>\n",
       "    <tr>\n",
       "      <th>6</th>\n",
       "      <td>336399</td>\n",
       "      <td>d0302e25-164f-4063-b016-d5fd6daf2e26</td>\n",
       "      <td>2009-11-21</td>\n",
       "      <td>2009-11-21</td>\n",
       "      <td>NaN</td>\n",
       "      <td>15211</td>\n",
       "      <td>Carmelo López Abad</td>\n",
       "      <td>2013-07-18 15:25:37 UTC</td>\n",
       "      <td>research</td>\n",
       "      <td>False</td>\n",
       "      <td>...</td>\n",
       "      <td>Magellanic Cormorant</td>\n",
       "      <td>Leucocarbo magellanicus</td>\n",
       "      <td>Cormorán cuello negro</td>\n",
       "      <td>Aves</td>\n",
       "      <td>1289600</td>\n",
       "      <td>Suliformes</td>\n",
       "      <td>Phalacrocoracidae</td>\n",
       "      <td>Leucocarbo</td>\n",
       "      <td>NaN</td>\n",
       "      <td>Leucocarbo magellanicus</td>\n",
       "    </tr>\n",
       "    <tr>\n",
       "      <th>22</th>\n",
       "      <td>568157</td>\n",
       "      <td>2a9415ef-149a-4bad-a244-2a85a2ba0320</td>\n",
       "      <td>2013-12-22</td>\n",
       "      <td>2013-12-22</td>\n",
       "      <td>NaN</td>\n",
       "      <td>10201</td>\n",
       "      <td>edwardrooks</td>\n",
       "      <td>2014-03-14 18:13:31 UTC</td>\n",
       "      <td>research</td>\n",
       "      <td>False</td>\n",
       "      <td>...</td>\n",
       "      <td>Austral Parakeet</td>\n",
       "      <td>Enicognathus ferrugineus</td>\n",
       "      <td>Cachaña</td>\n",
       "      <td>Aves</td>\n",
       "      <td>19262</td>\n",
       "      <td>Psittaciformes</td>\n",
       "      <td>Psittacidae</td>\n",
       "      <td>Enicognathus</td>\n",
       "      <td>NaN</td>\n",
       "      <td>Enicognathus ferrugineus</td>\n",
       "    </tr>\n",
       "    <tr>\n",
       "      <th>23</th>\n",
       "      <td>568760</td>\n",
       "      <td>1761c377-2c50-4519-b717-01f9a0699305</td>\n",
       "      <td>2013-12-22</td>\n",
       "      <td>2013-12-22</td>\n",
       "      <td>NaN</td>\n",
       "      <td>10201</td>\n",
       "      <td>edwardrooks</td>\n",
       "      <td>2014-03-15 00:02:59 UTC</td>\n",
       "      <td>research</td>\n",
       "      <td>False</td>\n",
       "      <td>...</td>\n",
       "      <td>Black-chinned Siskin</td>\n",
       "      <td>Spinus barbatus</td>\n",
       "      <td>Cabecitanegra austral</td>\n",
       "      <td>Aves</td>\n",
       "      <td>145321</td>\n",
       "      <td>Passeriformes</td>\n",
       "      <td>Fringillidae</td>\n",
       "      <td>Spinus</td>\n",
       "      <td>NaN</td>\n",
       "      <td>Spinus barbatus</td>\n",
       "    </tr>\n",
       "    <tr>\n",
       "      <th>24</th>\n",
       "      <td>568802</td>\n",
       "      <td>1e82155d-2d14-4686-be36-9a309adc49d2</td>\n",
       "      <td>2013-12-22</td>\n",
       "      <td>2013-12-22</td>\n",
       "      <td>NaN</td>\n",
       "      <td>10201</td>\n",
       "      <td>edwardrooks</td>\n",
       "      <td>2014-03-15 00:39:18 UTC</td>\n",
       "      <td>research</td>\n",
       "      <td>False</td>\n",
       "      <td>...</td>\n",
       "      <td>Sobrepuesto común</td>\n",
       "      <td>Lessonia rufa</td>\n",
       "      <td>Sobrepuesto austral</td>\n",
       "      <td>Aves</td>\n",
       "      <td>17310</td>\n",
       "      <td>Passeriformes</td>\n",
       "      <td>Tyrannidae</td>\n",
       "      <td>Lessonia</td>\n",
       "      <td>NaN</td>\n",
       "      <td>Lessonia rufa</td>\n",
       "    </tr>\n",
       "    <tr>\n",
       "      <th>26</th>\n",
       "      <td>568816</td>\n",
       "      <td>9982bb13-b0cf-4994-9408-815564cd29f5</td>\n",
       "      <td>2013-12-22</td>\n",
       "      <td>2013-12-22</td>\n",
       "      <td>NaN</td>\n",
       "      <td>10201</td>\n",
       "      <td>edwardrooks</td>\n",
       "      <td>2014-03-15 00:47:13 UTC</td>\n",
       "      <td>research</td>\n",
       "      <td>False</td>\n",
       "      <td>...</td>\n",
       "      <td>Rufous-collared Sparrow</td>\n",
       "      <td>Zonotrichia capensis</td>\n",
       "      <td>Chingolo</td>\n",
       "      <td>Aves</td>\n",
       "      <td>9183</td>\n",
       "      <td>Passeriformes</td>\n",
       "      <td>Passerellidae</td>\n",
       "      <td>Zonotrichia</td>\n",
       "      <td>NaN</td>\n",
       "      <td>Zonotrichia capensis</td>\n",
       "    </tr>\n",
       "  </tbody>\n",
       "</table>\n",
       "<p>5 rows × 39 columns</p>\n",
       "</div>"
      ],
      "text/plain": [
       "        id                                  uuid observed_on_string  \\\n",
       "6   336399  d0302e25-164f-4063-b016-d5fd6daf2e26         2009-11-21   \n",
       "22  568157  2a9415ef-149a-4bad-a244-2a85a2ba0320         2013-12-22   \n",
       "23  568760  1761c377-2c50-4519-b717-01f9a0699305         2013-12-22   \n",
       "24  568802  1e82155d-2d14-4686-be36-9a309adc49d2         2013-12-22   \n",
       "26  568816  9982bb13-b0cf-4994-9408-815564cd29f5         2013-12-22   \n",
       "\n",
       "   observed_on time_observed_at  user_id           user_name  \\\n",
       "6   2009-11-21              NaN    15211  Carmelo López Abad   \n",
       "22  2013-12-22              NaN    10201         edwardrooks   \n",
       "23  2013-12-22              NaN    10201         edwardrooks   \n",
       "24  2013-12-22              NaN    10201         edwardrooks   \n",
       "26  2013-12-22              NaN    10201         edwardrooks   \n",
       "\n",
       "                 created_at quality_grade  captive_cultivated  ...  \\\n",
       "6   2013-07-18 15:25:37 UTC      research               False  ...   \n",
       "22  2014-03-14 18:13:31 UTC      research               False  ...   \n",
       "23  2014-03-15 00:02:59 UTC      research               False  ...   \n",
       "24  2014-03-15 00:39:18 UTC      research               False  ...   \n",
       "26  2014-03-15 00:47:13 UTC      research               False  ...   \n",
       "\n",
       "              species_guess       scientific_name_sub            common_name  \\\n",
       "6      Magellanic Cormorant   Leucocarbo magellanicus  Cormorán cuello negro   \n",
       "22         Austral Parakeet  Enicognathus ferrugineus                Cachaña   \n",
       "23     Black-chinned Siskin           Spinus barbatus  Cabecitanegra austral   \n",
       "24        Sobrepuesto común             Lessonia rufa    Sobrepuesto austral   \n",
       "26  Rufous-collared Sparrow      Zonotrichia capensis               Chingolo   \n",
       "\n",
       "    iconic_taxon_name  taxon_id  taxon_order_name  taxon_family_name  \\\n",
       "6                Aves   1289600        Suliformes  Phalacrocoracidae   \n",
       "22               Aves     19262    Psittaciformes        Psittacidae   \n",
       "23               Aves    145321     Passeriformes       Fringillidae   \n",
       "24               Aves     17310     Passeriformes         Tyrannidae   \n",
       "26               Aves      9183     Passeriformes      Passerellidae   \n",
       "\n",
       "    taxon_genus_name  taxon_subspecies_name           scientific_name  \n",
       "6         Leucocarbo                    NaN   Leucocarbo magellanicus  \n",
       "22      Enicognathus                    NaN  Enicognathus ferrugineus  \n",
       "23            Spinus                    NaN           Spinus barbatus  \n",
       "24          Lessonia                    NaN             Lessonia rufa  \n",
       "26       Zonotrichia                    NaN      Zonotrichia capensis  \n",
       "\n",
       "[5 rows x 39 columns]"
      ]
     },
     "execution_count": 6,
     "metadata": {},
     "output_type": "execute_result"
    }
   ],
   "source": [
    "# Cambiar el nombre de la columna \"scientific_name\" a \"scientific_name_sub\"\n",
    "df_filtrada_2 = df_filtrada_1.rename(columns={'scientific_name': 'scientific_name_sub'})\n",
    "\n",
    "# Agregar la columna \"scientific_name\" con el nombre científico de la especie (solo las dos primeras palabras)\n",
    "df_filtrada_2['scientific_name'] = df_filtrada_2[\n",
    "    'scientific_name_sub'].apply(\n",
    "        lambda x: ' '.join(x.split()[:2]) if isinstance(x, str) else x)\n",
    "\n",
    "df_filtrada_2.head()"
   ]
  },
  {
   "cell_type": "markdown",
   "id": "dd13a5f6",
   "metadata": {},
   "source": [
    "##### Eliminación de columnas inútiles o sin paralelo en la otra fuente de datos"
   ]
  },
  {
   "cell_type": "code",
   "execution_count": 7,
   "id": "cd150891",
   "metadata": {},
   "outputs": [
    {
     "data": {
      "application/vnd.microsoft.datawrangler.viewer.v0+json": {
       "columns": [
        {
         "name": "index",
         "rawType": "int64",
         "type": "integer"
        },
        {
         "name": "common_name",
         "rawType": "object",
         "type": "string"
        },
        {
         "name": "scientific_name",
         "rawType": "object",
         "type": "string"
        },
        {
         "name": "latitude",
         "rawType": "float64",
         "type": "float"
        },
        {
         "name": "longitude",
         "rawType": "float64",
         "type": "float"
        },
        {
         "name": "observed_on",
         "rawType": "object",
         "type": "string"
        }
       ],
       "ref": "2ec00d07-8f39-4512-bdb9-edc5d1a2692c",
       "rows": [
        [
         "6",
         "Cormorán cuello negro",
         "Leucocarbo magellanicus",
         "-54.867678",
         "-67.466637",
         "2009-11-21"
        ],
        [
         "22",
         "Cachaña",
         "Enicognathus ferrugineus",
         "-54.828777",
         "-68.558121",
         "2013-12-22"
        ],
        [
         "23",
         "Cabecitanegra austral",
         "Spinus barbatus",
         "-54.853885",
         "-68.57666",
         "2013-12-22"
        ],
        [
         "24",
         "Sobrepuesto austral",
         "Lessonia rufa",
         "-54.844298",
         "-68.564987",
         "2013-12-22"
        ],
        [
         "26",
         "Chingolo",
         "Zonotrichia capensis",
         "-54.854478",
         "-68.573914",
         "2013-12-22"
        ]
       ],
       "shape": {
        "columns": 5,
        "rows": 5
       }
      },
      "text/html": [
       "<div>\n",
       "<style scoped>\n",
       "    .dataframe tbody tr th:only-of-type {\n",
       "        vertical-align: middle;\n",
       "    }\n",
       "\n",
       "    .dataframe tbody tr th {\n",
       "        vertical-align: top;\n",
       "    }\n",
       "\n",
       "    .dataframe thead th {\n",
       "        text-align: right;\n",
       "    }\n",
       "</style>\n",
       "<table border=\"1\" class=\"dataframe\">\n",
       "  <thead>\n",
       "    <tr style=\"text-align: right;\">\n",
       "      <th></th>\n",
       "      <th>common_name</th>\n",
       "      <th>scientific_name</th>\n",
       "      <th>latitude</th>\n",
       "      <th>longitude</th>\n",
       "      <th>observed_on</th>\n",
       "    </tr>\n",
       "  </thead>\n",
       "  <tbody>\n",
       "    <tr>\n",
       "      <th>6</th>\n",
       "      <td>Cormorán cuello negro</td>\n",
       "      <td>Leucocarbo magellanicus</td>\n",
       "      <td>-54.867678</td>\n",
       "      <td>-67.466637</td>\n",
       "      <td>2009-11-21</td>\n",
       "    </tr>\n",
       "    <tr>\n",
       "      <th>22</th>\n",
       "      <td>Cachaña</td>\n",
       "      <td>Enicognathus ferrugineus</td>\n",
       "      <td>-54.828777</td>\n",
       "      <td>-68.558121</td>\n",
       "      <td>2013-12-22</td>\n",
       "    </tr>\n",
       "    <tr>\n",
       "      <th>23</th>\n",
       "      <td>Cabecitanegra austral</td>\n",
       "      <td>Spinus barbatus</td>\n",
       "      <td>-54.853885</td>\n",
       "      <td>-68.576660</td>\n",
       "      <td>2013-12-22</td>\n",
       "    </tr>\n",
       "    <tr>\n",
       "      <th>24</th>\n",
       "      <td>Sobrepuesto austral</td>\n",
       "      <td>Lessonia rufa</td>\n",
       "      <td>-54.844298</td>\n",
       "      <td>-68.564987</td>\n",
       "      <td>2013-12-22</td>\n",
       "    </tr>\n",
       "    <tr>\n",
       "      <th>26</th>\n",
       "      <td>Chingolo</td>\n",
       "      <td>Zonotrichia capensis</td>\n",
       "      <td>-54.854478</td>\n",
       "      <td>-68.573914</td>\n",
       "      <td>2013-12-22</td>\n",
       "    </tr>\n",
       "  </tbody>\n",
       "</table>\n",
       "</div>"
      ],
      "text/plain": [
       "              common_name           scientific_name   latitude  longitude  \\\n",
       "6   Cormorán cuello negro   Leucocarbo magellanicus -54.867678 -67.466637   \n",
       "22                Cachaña  Enicognathus ferrugineus -54.828777 -68.558121   \n",
       "23  Cabecitanegra austral           Spinus barbatus -54.853885 -68.576660   \n",
       "24    Sobrepuesto austral             Lessonia rufa -54.844298 -68.564987   \n",
       "26               Chingolo      Zonotrichia capensis -54.854478 -68.573914   \n",
       "\n",
       "   observed_on  \n",
       "6   2009-11-21  \n",
       "22  2013-12-22  \n",
       "23  2013-12-22  \n",
       "24  2013-12-22  \n",
       "26  2013-12-22  "
      ]
     },
     "execution_count": 7,
     "metadata": {},
     "output_type": "execute_result"
    }
   ],
   "source": [
    "df_filtrada_3 = df_filtrada_2[['common_name', 'scientific_name', 'latitude', 'longitude', 'observed_on']]\n",
    "\n",
    "# Ver resultado parcial\n",
    "df_filtrada_3.head()"
   ]
  },
  {
   "cell_type": "markdown",
   "id": "0ab65d56",
   "metadata": {},
   "source": [
    "##### Ver resumen de valores"
   ]
  },
  {
   "cell_type": "code",
   "execution_count": 8,
   "id": "60cdca67",
   "metadata": {},
   "outputs": [
    {
     "name": "stdout",
     "output_type": "stream",
     "text": [
      "common_name        88\n",
      "scientific_name     0\n",
      "latitude            0\n",
      "longitude           0\n",
      "observed_on         0\n",
      "dtype: int64\n"
     ]
    },
    {
     "data": {
      "application/vnd.microsoft.datawrangler.viewer.v0+json": {
       "columns": [
        {
         "name": "index",
         "rawType": "object",
         "type": "string"
        },
        {
         "name": "latitude",
         "rawType": "float64",
         "type": "float"
        },
        {
         "name": "longitude",
         "rawType": "float64",
         "type": "float"
        }
       ],
       "ref": "78aa66f9-fdad-427b-beac-bef5dc4ae9bf",
       "rows": [
        [
         "count",
         "8087.0",
         "8087.0"
        ],
        [
         "mean",
         "-54.69567093339951",
         "-68.16646414598601"
        ],
        [
         "std",
         "0.35673498840629414",
         "0.4735182086043474"
        ],
        [
         "min",
         "-55.102",
         "-68.6057347563"
        ],
        [
         "25%",
         "-54.838420775",
         "-68.36357008979999"
        ],
        [
         "50%",
         "-54.8149837808",
         "-68.3137880609"
        ],
        [
         "75%",
         "-54.79603449615",
         "-68.1790825567"
        ],
        [
         "max",
         "-52.6594907771",
         "-63.8114224206"
        ]
       ],
       "shape": {
        "columns": 2,
        "rows": 8
       }
      },
      "text/html": [
       "<div>\n",
       "<style scoped>\n",
       "    .dataframe tbody tr th:only-of-type {\n",
       "        vertical-align: middle;\n",
       "    }\n",
       "\n",
       "    .dataframe tbody tr th {\n",
       "        vertical-align: top;\n",
       "    }\n",
       "\n",
       "    .dataframe thead th {\n",
       "        text-align: right;\n",
       "    }\n",
       "</style>\n",
       "<table border=\"1\" class=\"dataframe\">\n",
       "  <thead>\n",
       "    <tr style=\"text-align: right;\">\n",
       "      <th></th>\n",
       "      <th>latitude</th>\n",
       "      <th>longitude</th>\n",
       "    </tr>\n",
       "  </thead>\n",
       "  <tbody>\n",
       "    <tr>\n",
       "      <th>count</th>\n",
       "      <td>8087.000000</td>\n",
       "      <td>8087.000000</td>\n",
       "    </tr>\n",
       "    <tr>\n",
       "      <th>mean</th>\n",
       "      <td>-54.695671</td>\n",
       "      <td>-68.166464</td>\n",
       "    </tr>\n",
       "    <tr>\n",
       "      <th>std</th>\n",
       "      <td>0.356735</td>\n",
       "      <td>0.473518</td>\n",
       "    </tr>\n",
       "    <tr>\n",
       "      <th>min</th>\n",
       "      <td>-55.102000</td>\n",
       "      <td>-68.605735</td>\n",
       "    </tr>\n",
       "    <tr>\n",
       "      <th>25%</th>\n",
       "      <td>-54.838421</td>\n",
       "      <td>-68.363570</td>\n",
       "    </tr>\n",
       "    <tr>\n",
       "      <th>50%</th>\n",
       "      <td>-54.814984</td>\n",
       "      <td>-68.313788</td>\n",
       "    </tr>\n",
       "    <tr>\n",
       "      <th>75%</th>\n",
       "      <td>-54.796034</td>\n",
       "      <td>-68.179083</td>\n",
       "    </tr>\n",
       "    <tr>\n",
       "      <th>max</th>\n",
       "      <td>-52.659491</td>\n",
       "      <td>-63.811422</td>\n",
       "    </tr>\n",
       "  </tbody>\n",
       "</table>\n",
       "</div>"
      ],
      "text/plain": [
       "          latitude    longitude\n",
       "count  8087.000000  8087.000000\n",
       "mean    -54.695671   -68.166464\n",
       "std       0.356735     0.473518\n",
       "min     -55.102000   -68.605735\n",
       "25%     -54.838421   -68.363570\n",
       "50%     -54.814984   -68.313788\n",
       "75%     -54.796034   -68.179083\n",
       "max     -52.659491   -63.811422"
      ]
     },
     "execution_count": 8,
     "metadata": {},
     "output_type": "execute_result"
    }
   ],
   "source": [
    "# Ver la cantidad de datos faltantes en cada fila\n",
    "print(df_filtrada_3.isnull().sum())\n",
    "\n",
    "df_filtrada_3.describe()"
   ]
  },
  {
   "cell_type": "markdown",
   "id": "66769108",
   "metadata": {},
   "source": [
    "No se observan datos faltantes en columnas de importancia para el análisis. No se observan valores de columnas numéricas fuera del rango esperado"
   ]
  },
  {
   "cell_type": "markdown",
   "id": "ecfe2843",
   "metadata": {},
   "source": [
    "## Asociar la celda de la grilla a cada observación"
   ]
  },
  {
   "cell_type": "code",
   "execution_count": 11,
   "id": "f5d2b1da",
   "metadata": {},
   "outputs": [],
   "source": [
    "# Punto de partida: directorio actual (notebooks/)\n",
    "BASE_DIR = Path.cwd()\n",
    "# Subir un nivel al directorio raíz del proyecto\n",
    "PROYECTO_DIR = BASE_DIR.parent\n",
    "# Construir ruta completa al archivo GPKG\n",
    "DIR_DATOS = PROYECTO_DIR / 'data' / 'raw'\n",
    "\n",
    "nombre_grilla = 'grilla_tdf_vacia.gpkg'\n",
    "ruta_grilla = DIR_DATOS / nombre_grilla"
   ]
  },
  {
   "cell_type": "code",
   "execution_count": 12,
   "id": "6f7d58b8",
   "metadata": {},
   "outputs": [],
   "source": [
    "# Asociar grilla a los datos de observaciones\n",
    "\n",
    "df_grillada =asociar_grilla.assign_grid_cell_ids(\n",
    "    grilla = ruta_grilla,\n",
    "    datos_georef = df_filtrada_3,\n",
    "    grid_id_field = 'grid_id'\n",
    ")"
   ]
  },
  {
   "cell_type": "markdown",
   "id": "98ab60be",
   "metadata": {},
   "source": [
    "## Exportar el data frame resultante"
   ]
  },
  {
   "cell_type": "code",
   "execution_count": 13,
   "id": "37444aad",
   "metadata": {},
   "outputs": [],
   "source": [
    "# Exportar el DataFrame df_filtrada_3\n",
    "df_grillada.to_csv('../data/raw/data_inat.csv', index=False)"
   ]
  }
 ],
 "metadata": {
  "kernelspec": {
   "display_name": "Python 3",
   "language": "python",
   "name": "python3"
  },
  "language_info": {
   "codemirror_mode": {
    "name": "ipython",
    "version": 3
   },
   "file_extension": ".py",
   "mimetype": "text/x-python",
   "name": "python",
   "nbconvert_exporter": "python",
   "pygments_lexer": "ipython3",
   "version": "3.13.0"
  }
 },
 "nbformat": 4,
 "nbformat_minor": 5
}
