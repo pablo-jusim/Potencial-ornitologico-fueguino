{
 "cells": [
  {
   "cell_type": "markdown",
   "id": "239bfce3",
   "metadata": {},
   "source": [
    "# Potencial Ornitológico Fueguino\n",
    "### **Autor:** Pablo Jusim"
   ]
  },
  {
   "cell_type": "markdown",
   "id": "07251064",
   "metadata": {},
   "source": [
    "# Script de preprocesamiento de observaciones de iNaturalist\n",
    "Se realizan virificaciones antes de obtener el dataframe final.\n",
    "\n",
    "La salida de este script será un dataframe de pandas donde cada fila representará una observación de iNaturalist.\n",
    "\n",
    "El dataframe final tendrá las siguientes **columnas**: id_obs, id_celda, especie, familia, orden, fecha"
   ]
  },
  {
   "cell_type": "markdown",
   "id": "a6595383",
   "metadata": {},
   "source": [
    "## Importaciones"
   ]
  },
  {
   "cell_type": "code",
   "execution_count": 42,
   "id": "575bfad1",
   "metadata": {},
   "outputs": [],
   "source": [
    "import pandas as pd\n",
    "import sys\n",
    "from pathlib import Path\n",
    "\n",
    "# Modulos propios\n",
    "sys.path.append(str(Path('..')/'src'))\n",
    "import asociar_grilla\n",
    "import utils"
   ]
  },
  {
   "cell_type": "markdown",
   "id": "d2c7fbb2",
   "metadata": {},
   "source": [
    "## Carga de datos"
   ]
  },
  {
   "cell_type": "code",
   "execution_count": 43,
   "id": "9087b58d",
   "metadata": {},
   "outputs": [
    {
     "data": {
      "application/vnd.microsoft.datawrangler.viewer.v0+json": {
       "columns": [
        {
         "name": "index",
         "rawType": "int64",
         "type": "integer"
        },
        {
         "name": "id",
         "rawType": "int64",
         "type": "integer"
        },
        {
         "name": "uuid",
         "rawType": "object",
         "type": "string"
        },
        {
         "name": "observed_on_string",
         "rawType": "object",
         "type": "string"
        },
        {
         "name": "observed_on",
         "rawType": "object",
         "type": "string"
        },
        {
         "name": "time_observed_at",
         "rawType": "object",
         "type": "unknown"
        },
        {
         "name": "user_id",
         "rawType": "int64",
         "type": "integer"
        },
        {
         "name": "user_name",
         "rawType": "object",
         "type": "string"
        },
        {
         "name": "created_at",
         "rawType": "object",
         "type": "string"
        },
        {
         "name": "quality_grade",
         "rawType": "object",
         "type": "string"
        },
        {
         "name": "captive_cultivated",
         "rawType": "bool",
         "type": "boolean"
        },
        {
         "name": "place_guess",
         "rawType": "object",
         "type": "string"
        },
        {
         "name": "latitude",
         "rawType": "float64",
         "type": "float"
        },
        {
         "name": "longitude",
         "rawType": "float64",
         "type": "float"
        },
        {
         "name": "positional_accuracy",
         "rawType": "float64",
         "type": "float"
        },
        {
         "name": "private_place_guess",
         "rawType": "float64",
         "type": "float"
        },
        {
         "name": "private_latitude",
         "rawType": "float64",
         "type": "float"
        },
        {
         "name": "private_longitude",
         "rawType": "float64",
         "type": "float"
        },
        {
         "name": "public_positional_accuracy",
         "rawType": "float64",
         "type": "float"
        },
        {
         "name": "geoprivacy",
         "rawType": "float64",
         "type": "float"
        },
        {
         "name": "taxon_geoprivacy",
         "rawType": "object",
         "type": "string"
        },
        {
         "name": "coordinates_obscured",
         "rawType": "bool",
         "type": "boolean"
        },
        {
         "name": "positioning_method",
         "rawType": "object",
         "type": "unknown"
        },
        {
         "name": "positioning_device",
         "rawType": "object",
         "type": "unknown"
        },
        {
         "name": "place_town_name",
         "rawType": "float64",
         "type": "float"
        },
        {
         "name": "place_county_name",
         "rawType": "object",
         "type": "string"
        },
        {
         "name": "place_state_name",
         "rawType": "object",
         "type": "string"
        },
        {
         "name": "place_country_name",
         "rawType": "object",
         "type": "string"
        },
        {
         "name": "place_admin1_name",
         "rawType": "object",
         "type": "string"
        },
        {
         "name": "place_admin2_name",
         "rawType": "object",
         "type": "string"
        },
        {
         "name": "species_guess",
         "rawType": "object",
         "type": "string"
        },
        {
         "name": "scientific_name",
         "rawType": "object",
         "type": "string"
        },
        {
         "name": "common_name",
         "rawType": "object",
         "type": "string"
        },
        {
         "name": "iconic_taxon_name",
         "rawType": "object",
         "type": "string"
        },
        {
         "name": "taxon_id",
         "rawType": "int64",
         "type": "integer"
        },
        {
         "name": "taxon_order_name",
         "rawType": "object",
         "type": "string"
        },
        {
         "name": "taxon_family_name",
         "rawType": "object",
         "type": "string"
        },
        {
         "name": "taxon_genus_name",
         "rawType": "object",
         "type": "string"
        },
        {
         "name": "taxon_subspecies_name",
         "rawType": "object",
         "type": "unknown"
        }
       ],
       "ref": "e002334f-de61-4323-b3c9-ad94f5f2953b",
       "rows": [
        [
         "0",
         "43929",
         "bf9ff5ac-0a0f-45eb-9c7b-e86e9298d192",
         "January 06, 2011 16:29",
         "2011-01-06",
         "2011-01-06 19:29:00 UTC",
         "4083",
         "Liam Quinn",
         "2011-12-18 19:58:12 UTC",
         "research",
         "False",
         "Lapataia, Tierra del Fuego, Argentina",
         "-54.85423",
         "-68.579063",
         null,
         null,
         null,
         null,
         null,
         null,
         "open",
         "False",
         null,
         null,
         null,
         "Ushuaia",
         "Tierra del Fuego",
         "Argentina",
         "Tierra del Fuego",
         "Ushuaia",
         "Rufous-collared Sparrow",
         "Zonotrichia capensis",
         "Chingolo",
         "Aves",
         "9183",
         "Passeriformes",
         "Passerellidae",
         "Zonotrichia",
         null
        ],
        [
         "1",
         "44127",
         "dfa80126-6707-43dd-80e8-cf6230a6b41a",
         "January 06, 2011 12:44",
         "2011-01-06",
         "2011-01-06 15:44:00 UTC",
         "4083",
         "Liam Quinn",
         "2011-12-19 03:36:06 UTC",
         "research",
         "False",
         "Lapataia, Tierra del Fuego, Argentina",
         "-54.847955",
         "-68.542327",
         null,
         null,
         null,
         null,
         null,
         null,
         "open",
         "False",
         null,
         null,
         null,
         "Ushuaia",
         "Tierra del Fuego",
         "Argentina",
         "Tierra del Fuego",
         "Ushuaia",
         "Austral Thrush",
         "Turdus falcklandii",
         "Zorzal patagónico",
         "Aves",
         "12751",
         "Passeriformes",
         "Turdidae",
         "Turdus",
         null
        ],
        [
         "2",
         "143793",
         "2c967eea-825c-4707-9c9a-a0aa157cfe10",
         "2011-12-31 12:27:52",
         "2011-12-31",
         "2011-12-31 20:27:52 UTC",
         "10201",
         "edwardrooks",
         "2012-11-04 22:32:17 UTC",
         "research",
         "False",
         "Tierra del Fuego, Argentina",
         "-54.841826",
         "-68.488769",
         null,
         null,
         null,
         null,
         null,
         null,
         "open",
         "False",
         null,
         null,
         null,
         "Ushuaia",
         "Tierra del Fuego",
         "Argentina",
         "Tierra del Fuego",
         "Ushuaia",
         "Black-necked Swan",
         "Cygnus melancoryphus",
         "Cisne cuello negro",
         "Aves",
         "72789",
         "Anseriformes",
         "Anatidae",
         "Cygnus",
         null
        ],
        [
         "3",
         "143794",
         "818697e7-2cff-4004-af67-b70b3ec39baf",
         "2011-12-30 15:12:17",
         "2011-12-30",
         "2011-12-30 23:12:17 UTC",
         "10201",
         "edwardrooks",
         "2012-11-04 22:32:18 UTC",
         "research",
         "False",
         "Tierra del Fuego, Argentina",
         "-54.305307",
         "-67.27478",
         null,
         null,
         null,
         null,
         null,
         null,
         "open",
         "False",
         null,
         null,
         null,
         "Rió Grande",
         "Tierra del Fuego",
         "Argentina",
         "Tierra del Fuego",
         "Rió Grande",
         "Southern Lapwing",
         "Vanellus chilensis",
         "Tero",
         "Aves",
         "4867",
         "Charadriiformes",
         "Charadriidae",
         "Vanellus",
         null
        ],
        [
         "4",
         "335952",
         "7efa102f-eb4a-45e5-a17b-7bb68db01940",
         "2009-11-19",
         "2009-11-19",
         null,
         "15211",
         "Carmelo López Abad",
         "2013-07-18 00:40:23 UTC",
         "research",
         "False",
         "Ushuaia, Tierra del Fuego province, Argentina.",
         "-54.818789",
         "-68.188534",
         null,
         null,
         null,
         null,
         null,
         null,
         "open",
         "False",
         null,
         null,
         null,
         "Ushuaia",
         "Tierra del Fuego",
         "Argentina",
         "Tierra del Fuego",
         "Ushuaia",
         "Crested Duck",
         "Lophonetta specularioides",
         "Pato Crestón",
         "Aves",
         "72994",
         "Anseriformes",
         "Anatidae",
         "Lophonetta",
         null
        ]
       ],
       "shape": {
        "columns": 38,
        "rows": 5
       }
      },
      "text/html": [
       "<div>\n",
       "<style scoped>\n",
       "    .dataframe tbody tr th:only-of-type {\n",
       "        vertical-align: middle;\n",
       "    }\n",
       "\n",
       "    .dataframe tbody tr th {\n",
       "        vertical-align: top;\n",
       "    }\n",
       "\n",
       "    .dataframe thead th {\n",
       "        text-align: right;\n",
       "    }\n",
       "</style>\n",
       "<table border=\"1\" class=\"dataframe\">\n",
       "  <thead>\n",
       "    <tr style=\"text-align: right;\">\n",
       "      <th></th>\n",
       "      <th>id</th>\n",
       "      <th>uuid</th>\n",
       "      <th>observed_on_string</th>\n",
       "      <th>observed_on</th>\n",
       "      <th>time_observed_at</th>\n",
       "      <th>user_id</th>\n",
       "      <th>user_name</th>\n",
       "      <th>created_at</th>\n",
       "      <th>quality_grade</th>\n",
       "      <th>captive_cultivated</th>\n",
       "      <th>...</th>\n",
       "      <th>place_admin2_name</th>\n",
       "      <th>species_guess</th>\n",
       "      <th>scientific_name</th>\n",
       "      <th>common_name</th>\n",
       "      <th>iconic_taxon_name</th>\n",
       "      <th>taxon_id</th>\n",
       "      <th>taxon_order_name</th>\n",
       "      <th>taxon_family_name</th>\n",
       "      <th>taxon_genus_name</th>\n",
       "      <th>taxon_subspecies_name</th>\n",
       "    </tr>\n",
       "  </thead>\n",
       "  <tbody>\n",
       "    <tr>\n",
       "      <th>0</th>\n",
       "      <td>43929</td>\n",
       "      <td>bf9ff5ac-0a0f-45eb-9c7b-e86e9298d192</td>\n",
       "      <td>January 06, 2011 16:29</td>\n",
       "      <td>2011-01-06</td>\n",
       "      <td>2011-01-06 19:29:00 UTC</td>\n",
       "      <td>4083</td>\n",
       "      <td>Liam Quinn</td>\n",
       "      <td>2011-12-18 19:58:12 UTC</td>\n",
       "      <td>research</td>\n",
       "      <td>False</td>\n",
       "      <td>...</td>\n",
       "      <td>Ushuaia</td>\n",
       "      <td>Rufous-collared Sparrow</td>\n",
       "      <td>Zonotrichia capensis</td>\n",
       "      <td>Chingolo</td>\n",
       "      <td>Aves</td>\n",
       "      <td>9183</td>\n",
       "      <td>Passeriformes</td>\n",
       "      <td>Passerellidae</td>\n",
       "      <td>Zonotrichia</td>\n",
       "      <td>NaN</td>\n",
       "    </tr>\n",
       "    <tr>\n",
       "      <th>1</th>\n",
       "      <td>44127</td>\n",
       "      <td>dfa80126-6707-43dd-80e8-cf6230a6b41a</td>\n",
       "      <td>January 06, 2011 12:44</td>\n",
       "      <td>2011-01-06</td>\n",
       "      <td>2011-01-06 15:44:00 UTC</td>\n",
       "      <td>4083</td>\n",
       "      <td>Liam Quinn</td>\n",
       "      <td>2011-12-19 03:36:06 UTC</td>\n",
       "      <td>research</td>\n",
       "      <td>False</td>\n",
       "      <td>...</td>\n",
       "      <td>Ushuaia</td>\n",
       "      <td>Austral Thrush</td>\n",
       "      <td>Turdus falcklandii</td>\n",
       "      <td>Zorzal patagónico</td>\n",
       "      <td>Aves</td>\n",
       "      <td>12751</td>\n",
       "      <td>Passeriformes</td>\n",
       "      <td>Turdidae</td>\n",
       "      <td>Turdus</td>\n",
       "      <td>NaN</td>\n",
       "    </tr>\n",
       "    <tr>\n",
       "      <th>2</th>\n",
       "      <td>143793</td>\n",
       "      <td>2c967eea-825c-4707-9c9a-a0aa157cfe10</td>\n",
       "      <td>2011-12-31 12:27:52</td>\n",
       "      <td>2011-12-31</td>\n",
       "      <td>2011-12-31 20:27:52 UTC</td>\n",
       "      <td>10201</td>\n",
       "      <td>edwardrooks</td>\n",
       "      <td>2012-11-04 22:32:17 UTC</td>\n",
       "      <td>research</td>\n",
       "      <td>False</td>\n",
       "      <td>...</td>\n",
       "      <td>Ushuaia</td>\n",
       "      <td>Black-necked Swan</td>\n",
       "      <td>Cygnus melancoryphus</td>\n",
       "      <td>Cisne cuello negro</td>\n",
       "      <td>Aves</td>\n",
       "      <td>72789</td>\n",
       "      <td>Anseriformes</td>\n",
       "      <td>Anatidae</td>\n",
       "      <td>Cygnus</td>\n",
       "      <td>NaN</td>\n",
       "    </tr>\n",
       "    <tr>\n",
       "      <th>3</th>\n",
       "      <td>143794</td>\n",
       "      <td>818697e7-2cff-4004-af67-b70b3ec39baf</td>\n",
       "      <td>2011-12-30 15:12:17</td>\n",
       "      <td>2011-12-30</td>\n",
       "      <td>2011-12-30 23:12:17 UTC</td>\n",
       "      <td>10201</td>\n",
       "      <td>edwardrooks</td>\n",
       "      <td>2012-11-04 22:32:18 UTC</td>\n",
       "      <td>research</td>\n",
       "      <td>False</td>\n",
       "      <td>...</td>\n",
       "      <td>Rió Grande</td>\n",
       "      <td>Southern Lapwing</td>\n",
       "      <td>Vanellus chilensis</td>\n",
       "      <td>Tero</td>\n",
       "      <td>Aves</td>\n",
       "      <td>4867</td>\n",
       "      <td>Charadriiformes</td>\n",
       "      <td>Charadriidae</td>\n",
       "      <td>Vanellus</td>\n",
       "      <td>NaN</td>\n",
       "    </tr>\n",
       "    <tr>\n",
       "      <th>4</th>\n",
       "      <td>335952</td>\n",
       "      <td>7efa102f-eb4a-45e5-a17b-7bb68db01940</td>\n",
       "      <td>2009-11-19</td>\n",
       "      <td>2009-11-19</td>\n",
       "      <td>NaN</td>\n",
       "      <td>15211</td>\n",
       "      <td>Carmelo López Abad</td>\n",
       "      <td>2013-07-18 00:40:23 UTC</td>\n",
       "      <td>research</td>\n",
       "      <td>False</td>\n",
       "      <td>...</td>\n",
       "      <td>Ushuaia</td>\n",
       "      <td>Crested Duck</td>\n",
       "      <td>Lophonetta specularioides</td>\n",
       "      <td>Pato Crestón</td>\n",
       "      <td>Aves</td>\n",
       "      <td>72994</td>\n",
       "      <td>Anseriformes</td>\n",
       "      <td>Anatidae</td>\n",
       "      <td>Lophonetta</td>\n",
       "      <td>NaN</td>\n",
       "    </tr>\n",
       "  </tbody>\n",
       "</table>\n",
       "<p>5 rows × 38 columns</p>\n",
       "</div>"
      ],
      "text/plain": [
       "       id                                  uuid      observed_on_string  \\\n",
       "0   43929  bf9ff5ac-0a0f-45eb-9c7b-e86e9298d192  January 06, 2011 16:29   \n",
       "1   44127  dfa80126-6707-43dd-80e8-cf6230a6b41a  January 06, 2011 12:44   \n",
       "2  143793  2c967eea-825c-4707-9c9a-a0aa157cfe10     2011-12-31 12:27:52   \n",
       "3  143794  818697e7-2cff-4004-af67-b70b3ec39baf     2011-12-30 15:12:17   \n",
       "4  335952  7efa102f-eb4a-45e5-a17b-7bb68db01940              2009-11-19   \n",
       "\n",
       "  observed_on         time_observed_at  user_id           user_name  \\\n",
       "0  2011-01-06  2011-01-06 19:29:00 UTC     4083          Liam Quinn   \n",
       "1  2011-01-06  2011-01-06 15:44:00 UTC     4083          Liam Quinn   \n",
       "2  2011-12-31  2011-12-31 20:27:52 UTC    10201         edwardrooks   \n",
       "3  2011-12-30  2011-12-30 23:12:17 UTC    10201         edwardrooks   \n",
       "4  2009-11-19                      NaN    15211  Carmelo López Abad   \n",
       "\n",
       "                created_at quality_grade  captive_cultivated  ...  \\\n",
       "0  2011-12-18 19:58:12 UTC      research               False  ...   \n",
       "1  2011-12-19 03:36:06 UTC      research               False  ...   \n",
       "2  2012-11-04 22:32:17 UTC      research               False  ...   \n",
       "3  2012-11-04 22:32:18 UTC      research               False  ...   \n",
       "4  2013-07-18 00:40:23 UTC      research               False  ...   \n",
       "\n",
       "  place_admin2_name            species_guess            scientific_name  \\\n",
       "0           Ushuaia  Rufous-collared Sparrow       Zonotrichia capensis   \n",
       "1           Ushuaia           Austral Thrush         Turdus falcklandii   \n",
       "2           Ushuaia        Black-necked Swan       Cygnus melancoryphus   \n",
       "3        Rió Grande         Southern Lapwing         Vanellus chilensis   \n",
       "4           Ushuaia             Crested Duck  Lophonetta specularioides   \n",
       "\n",
       "          common_name  iconic_taxon_name  taxon_id  taxon_order_name  \\\n",
       "0            Chingolo               Aves      9183     Passeriformes   \n",
       "1   Zorzal patagónico               Aves     12751     Passeriformes   \n",
       "2  Cisne cuello negro               Aves     72789      Anseriformes   \n",
       "3                Tero               Aves      4867   Charadriiformes   \n",
       "4        Pato Crestón               Aves     72994      Anseriformes   \n",
       "\n",
       "   taxon_family_name  taxon_genus_name taxon_subspecies_name  \n",
       "0      Passerellidae       Zonotrichia                   NaN  \n",
       "1           Turdidae            Turdus                   NaN  \n",
       "2           Anatidae            Cygnus                   NaN  \n",
       "3       Charadriidae          Vanellus                   NaN  \n",
       "4           Anatidae        Lophonetta                   NaN  \n",
       "\n",
       "[5 rows x 38 columns]"
      ]
     },
     "execution_count": 43,
     "metadata": {},
     "output_type": "execute_result"
    }
   ],
   "source": [
    "archivo = '../data/raw/obs_iNat.csv'\n",
    "df_base = pd.read_csv(archivo)\n",
    "df_base.head()"
   ]
  },
  {
   "cell_type": "markdown",
   "id": "8d40d47b",
   "metadata": {},
   "source": [
    "## Limpieza de datos"
   ]
  },
  {
   "cell_type": "markdown",
   "id": "381371c4",
   "metadata": {},
   "source": [
    "### Revisión y eliminación de columnas no útiles"
   ]
  },
  {
   "cell_type": "markdown",
   "id": "0b369c19",
   "metadata": {},
   "source": [
    "#### Revisión del contenido de columnas con posibles errores y eliminación de las mismas"
   ]
  },
  {
   "cell_type": "markdown",
   "id": "1a0a9a7f",
   "metadata": {},
   "source": [
    "##### Verificaciones"
   ]
  },
  {
   "cell_type": "code",
   "execution_count": 44,
   "id": "1262da4f",
   "metadata": {},
   "outputs": [
    {
     "name": "stdout",
     "output_type": "stream",
     "text": [
      "quality_grade: ['research']\n",
      "captive: [False]\n",
      "private_place_guess: [nan]\n",
      "private_latitude: [nan]\n",
      "private_longitude: [nan]\n",
      "geoprivacy: [nan]\n",
      "taxon_geoprivacy: ['open' nan]\n",
      "coordinates_obscured: [False]\n",
      "place_town_name: [nan]\n",
      "place_county_name: ['Ushuaia' 'Rió Grande']\n",
      "place_state_name: ['Tierra del Fuego']\n",
      "iconic_taxon_name: ['Aves']\n"
     ]
    }
   ],
   "source": [
    "# Columna \"quality_grade\": segun la busqueda realizada en iNat, los datos deberian estar todos en \"research\"\n",
    "print(f'quality_grade: {df_filtrada_1['quality_grade'].unique()}')\n",
    "\n",
    "# Columna \"captive_cultivated\": ninguna observacion deberia ser \"true\" (aves cautivas)\n",
    "print(f'captive: {df_filtrada_1['captive_cultivated'].unique()}')\n",
    "\n",
    "# Columna \"private_place_guess\": ninguna observacion deberia tener datos ya que la búsqueda solo incluyó ubicaciones públicas\n",
    "print(f'private_place_guess: {df_filtrada_1[\"private_place_guess\"].unique()}')\n",
    "\n",
    "# Columnas \"private_latitude\" y \"private:longitude\": ninguna observacion deberia tener datos ya que la búsqueda solo incluyó ubicaciones públicas\n",
    "print(f'private_latitude: {df_filtrada_1[\"private_latitude\"].unique()}')\n",
    "print(f'private_longitude: {df_filtrada_1[\"private_longitude\"].unique()}')\n",
    "\n",
    "# Columna \"geoprivacy\": ninguna observacion deberia tener datos ya que la búsqueda solo incluyó ubicaciones públicas\n",
    "print(f'geoprivacy: {df_filtrada_1[\"geoprivacy\"].unique()}')\n",
    "\n",
    "# Columna \"taxon_geoprivacy\": las observaciones deberian ser \"open\" o carecer el dato\n",
    "print(f'taxon_geoprivacy: {df_filtrada_1[\"taxon_geoprivacy\"].unique()}')\n",
    "\n",
    "# Columna \"coordinates_obscured\": las observaciones deberian ser \"false\" o carecer el dato\n",
    "print(f'coordinates_obscured: {df_filtrada_1[\"coordinates_obscured\"].unique()}')\n",
    "\n",
    "# Columna \"place_town_name\": se revisa si hay datos en la columna, sino se elimina\n",
    "print(f'place_town_name: {df_filtrada_1[\"place_town_name\"].unique()}')\n",
    "\n",
    "# Columna \"place_county_name\": los valores deberian ser los departamentos de TIerras del Fuego\n",
    "print(f'place_county_name: {df_filtrada_1[\"place_county_name\"].unique()}')\n",
    "\n",
    "# Columna \"place_state_name\": los valores deberian ser \"Tierra del Fuego\"\n",
    "print(f'place_state_name: {df_filtrada_1[\"place_state_name\"].unique()}')\n",
    "\n",
    "# Columna \"iconic_taxon_name\": los valores deberian ser \"Aves\"\n",
    "print(f'iconic_taxon_name: {df_filtrada_1[\"iconic_taxon_name\"].unique()}')\n",
    "\n"
   ]
  },
  {
   "cell_type": "code",
   "execution_count": 45,
   "id": "b70c6958",
   "metadata": {},
   "outputs": [
    {
     "name": "stdout",
     "output_type": "stream",
     "text": [
      "Filas totales: 15651\n",
      "Columnas totales: 26\n"
     ]
    }
   ],
   "source": [
    "print(f'Filas totales: {len(df_filtrada_1)}')\n",
    "print(f'Columnas totales: {len(df_filtrada_1.columns)}')"
   ]
  },
  {
   "cell_type": "markdown",
   "id": "88e981c1",
   "metadata": {},
   "source": [
    "### Revisión de valores de filas"
   ]
  },
  {
   "cell_type": "markdown",
   "id": "6a56d3db",
   "metadata": {},
   "source": [
    "##### Precisión"
   ]
  },
  {
   "cell_type": "code",
   "execution_count": 46,
   "id": "4fae436e",
   "metadata": {},
   "outputs": [],
   "source": [
    "# Precision de las observaciones: Se descartan observaciones con una precisión menor\n",
    "# a la mitad del tramaño de la celda (2500 m o más)\n",
    "df_filtrada_2 = df_filtrada_1[df_filtrada_1['positional_accuracy'] < 2500]"
   ]
  },
  {
   "cell_type": "markdown",
   "id": "d29faaba",
   "metadata": {},
   "source": [
    "##### Nombres científicos\n",
    "Los nombres cientificos constan de dos palabras, el genero y el epíteto específico.\n",
    "Si hay una tercera palabra, esta puede corresponder a una subespecie.\n",
    "Tener observaciones de la misma especie con dos o tres palabras puede complicar el conteo"
   ]
  },
  {
   "cell_type": "code",
   "execution_count": 47,
   "id": "6885bc8c",
   "metadata": {},
   "outputs": [
    {
     "data": {
      "application/vnd.microsoft.datawrangler.viewer.v0+json": {
       "columns": [
        {
         "name": "index",
         "rawType": "int64",
         "type": "integer"
        },
        {
         "name": "id",
         "rawType": "int64",
         "type": "integer"
        },
        {
         "name": "observed_on",
         "rawType": "object",
         "type": "string"
        },
        {
         "name": "user_id",
         "rawType": "int64",
         "type": "integer"
        },
        {
         "name": "quality_grade",
         "rawType": "object",
         "type": "string"
        },
        {
         "name": "captive_cultivated",
         "rawType": "bool",
         "type": "boolean"
        },
        {
         "name": "place_guess",
         "rawType": "object",
         "type": "string"
        },
        {
         "name": "latitude",
         "rawType": "float64",
         "type": "float"
        },
        {
         "name": "longitude",
         "rawType": "float64",
         "type": "float"
        },
        {
         "name": "positional_accuracy",
         "rawType": "float64",
         "type": "float"
        },
        {
         "name": "private_place_guess",
         "rawType": "float64",
         "type": "float"
        },
        {
         "name": "private_latitude",
         "rawType": "float64",
         "type": "float"
        },
        {
         "name": "private_longitude",
         "rawType": "float64",
         "type": "float"
        },
        {
         "name": "geoprivacy",
         "rawType": "float64",
         "type": "float"
        },
        {
         "name": "taxon_geoprivacy",
         "rawType": "object",
         "type": "string"
        },
        {
         "name": "coordinates_obscured",
         "rawType": "bool",
         "type": "boolean"
        },
        {
         "name": "place_town_name",
         "rawType": "float64",
         "type": "float"
        },
        {
         "name": "place_county_name",
         "rawType": "object",
         "type": "string"
        },
        {
         "name": "place_state_name",
         "rawType": "object",
         "type": "string"
        },
        {
         "name": "scientific_name_sub",
         "rawType": "object",
         "type": "string"
        },
        {
         "name": "common_name",
         "rawType": "object",
         "type": "string"
        },
        {
         "name": "iconic_taxon_name",
         "rawType": "object",
         "type": "string"
        },
        {
         "name": "taxon_id",
         "rawType": "int64",
         "type": "integer"
        },
        {
         "name": "taxon_order_name",
         "rawType": "object",
         "type": "string"
        },
        {
         "name": "taxon_family_name",
         "rawType": "object",
         "type": "string"
        },
        {
         "name": "taxon_genus_name",
         "rawType": "object",
         "type": "string"
        },
        {
         "name": "taxon_subspecies_name",
         "rawType": "object",
         "type": "unknown"
        },
        {
         "name": "scientific_name",
         "rawType": "object",
         "type": "string"
        }
       ],
       "ref": "2dc4c001-bf44-4760-85f6-d08b5d3f08e2",
       "rows": [
        [
         "6",
         "336399",
         "2009-11-21",
         "15211",
         "research",
         "False",
         "Beagle Channel, Ushuaia, Tierra del Fuego province, Argentina.",
         "-54.867678",
         "-67.466637",
         "38.0",
         null,
         null,
         null,
         null,
         "open",
         "False",
         null,
         "Ushuaia",
         "Tierra del Fuego",
         "Leucocarbo magellanicus",
         "Cormorán cuello negro",
         "Aves",
         "1289600",
         "Suliformes",
         "Phalacrocoracidae",
         "Leucocarbo",
         null,
         "Leucocarbo magellanicus"
        ],
        [
         "22",
         "568157",
         "2013-12-22",
         "10201",
         "research",
         "False",
         "Tierra del Fuego National Park, Ushuaia",
         "-54.828777",
         "-68.558121",
         "1225.0",
         null,
         null,
         null,
         null,
         "open",
         "False",
         null,
         "Ushuaia",
         "Tierra del Fuego",
         "Enicognathus ferrugineus",
         "Cachaña",
         "Aves",
         "19262",
         "Psittaciformes",
         "Psittacidae",
         "Enicognathus",
         null,
         "Enicognathus ferrugineus"
        ],
        [
         "23",
         "568760",
         "2013-12-22",
         "10201",
         "research",
         "False",
         "Tierra del Fuego National Park, Ushuaia",
         "-54.853885",
         "-68.57666",
         "611.0",
         null,
         null,
         null,
         null,
         "open",
         "False",
         null,
         "Ushuaia",
         "Tierra del Fuego",
         "Spinus barbatus",
         "Cabecitanegra austral",
         "Aves",
         "145321",
         "Passeriformes",
         "Fringillidae",
         "Spinus",
         null,
         "Spinus barbatus"
        ],
        [
         "24",
         "568802",
         "2013-12-22",
         "10201",
         "research",
         "False",
         "Tierra del Fuego National Park, Ushuaia",
         "-54.844298",
         "-68.564987",
         "305.0",
         null,
         null,
         null,
         null,
         "open",
         "False",
         null,
         "Ushuaia",
         "Tierra del Fuego",
         "Lessonia rufa",
         "Sobrepuesto austral",
         "Aves",
         "17310",
         "Passeriformes",
         "Tyrannidae",
         "Lessonia",
         null,
         "Lessonia rufa"
        ],
        [
         "26",
         "568816",
         "2013-12-22",
         "10201",
         "research",
         "False",
         "Tierra del Fuego National Park, Ushuaia",
         "-54.854478",
         "-68.573914",
         "2446.0",
         null,
         null,
         null,
         null,
         "open",
         "False",
         null,
         "Ushuaia",
         "Tierra del Fuego",
         "Zonotrichia capensis",
         "Chingolo",
         "Aves",
         "9183",
         "Passeriformes",
         "Passerellidae",
         "Zonotrichia",
         null,
         "Zonotrichia capensis"
        ]
       ],
       "shape": {
        "columns": 27,
        "rows": 5
       }
      },
      "text/html": [
       "<div>\n",
       "<style scoped>\n",
       "    .dataframe tbody tr th:only-of-type {\n",
       "        vertical-align: middle;\n",
       "    }\n",
       "\n",
       "    .dataframe tbody tr th {\n",
       "        vertical-align: top;\n",
       "    }\n",
       "\n",
       "    .dataframe thead th {\n",
       "        text-align: right;\n",
       "    }\n",
       "</style>\n",
       "<table border=\"1\" class=\"dataframe\">\n",
       "  <thead>\n",
       "    <tr style=\"text-align: right;\">\n",
       "      <th></th>\n",
       "      <th>id</th>\n",
       "      <th>observed_on</th>\n",
       "      <th>user_id</th>\n",
       "      <th>quality_grade</th>\n",
       "      <th>captive_cultivated</th>\n",
       "      <th>place_guess</th>\n",
       "      <th>latitude</th>\n",
       "      <th>longitude</th>\n",
       "      <th>positional_accuracy</th>\n",
       "      <th>private_place_guess</th>\n",
       "      <th>...</th>\n",
       "      <th>place_state_name</th>\n",
       "      <th>scientific_name_sub</th>\n",
       "      <th>common_name</th>\n",
       "      <th>iconic_taxon_name</th>\n",
       "      <th>taxon_id</th>\n",
       "      <th>taxon_order_name</th>\n",
       "      <th>taxon_family_name</th>\n",
       "      <th>taxon_genus_name</th>\n",
       "      <th>taxon_subspecies_name</th>\n",
       "      <th>scientific_name</th>\n",
       "    </tr>\n",
       "  </thead>\n",
       "  <tbody>\n",
       "    <tr>\n",
       "      <th>6</th>\n",
       "      <td>336399</td>\n",
       "      <td>2009-11-21</td>\n",
       "      <td>15211</td>\n",
       "      <td>research</td>\n",
       "      <td>False</td>\n",
       "      <td>Beagle Channel, Ushuaia, Tierra del Fuego prov...</td>\n",
       "      <td>-54.867678</td>\n",
       "      <td>-67.466637</td>\n",
       "      <td>38.0</td>\n",
       "      <td>NaN</td>\n",
       "      <td>...</td>\n",
       "      <td>Tierra del Fuego</td>\n",
       "      <td>Leucocarbo magellanicus</td>\n",
       "      <td>Cormorán cuello negro</td>\n",
       "      <td>Aves</td>\n",
       "      <td>1289600</td>\n",
       "      <td>Suliformes</td>\n",
       "      <td>Phalacrocoracidae</td>\n",
       "      <td>Leucocarbo</td>\n",
       "      <td>NaN</td>\n",
       "      <td>Leucocarbo magellanicus</td>\n",
       "    </tr>\n",
       "    <tr>\n",
       "      <th>22</th>\n",
       "      <td>568157</td>\n",
       "      <td>2013-12-22</td>\n",
       "      <td>10201</td>\n",
       "      <td>research</td>\n",
       "      <td>False</td>\n",
       "      <td>Tierra del Fuego National Park, Ushuaia</td>\n",
       "      <td>-54.828777</td>\n",
       "      <td>-68.558121</td>\n",
       "      <td>1225.0</td>\n",
       "      <td>NaN</td>\n",
       "      <td>...</td>\n",
       "      <td>Tierra del Fuego</td>\n",
       "      <td>Enicognathus ferrugineus</td>\n",
       "      <td>Cachaña</td>\n",
       "      <td>Aves</td>\n",
       "      <td>19262</td>\n",
       "      <td>Psittaciformes</td>\n",
       "      <td>Psittacidae</td>\n",
       "      <td>Enicognathus</td>\n",
       "      <td>NaN</td>\n",
       "      <td>Enicognathus ferrugineus</td>\n",
       "    </tr>\n",
       "    <tr>\n",
       "      <th>23</th>\n",
       "      <td>568760</td>\n",
       "      <td>2013-12-22</td>\n",
       "      <td>10201</td>\n",
       "      <td>research</td>\n",
       "      <td>False</td>\n",
       "      <td>Tierra del Fuego National Park, Ushuaia</td>\n",
       "      <td>-54.853885</td>\n",
       "      <td>-68.576660</td>\n",
       "      <td>611.0</td>\n",
       "      <td>NaN</td>\n",
       "      <td>...</td>\n",
       "      <td>Tierra del Fuego</td>\n",
       "      <td>Spinus barbatus</td>\n",
       "      <td>Cabecitanegra austral</td>\n",
       "      <td>Aves</td>\n",
       "      <td>145321</td>\n",
       "      <td>Passeriformes</td>\n",
       "      <td>Fringillidae</td>\n",
       "      <td>Spinus</td>\n",
       "      <td>NaN</td>\n",
       "      <td>Spinus barbatus</td>\n",
       "    </tr>\n",
       "    <tr>\n",
       "      <th>24</th>\n",
       "      <td>568802</td>\n",
       "      <td>2013-12-22</td>\n",
       "      <td>10201</td>\n",
       "      <td>research</td>\n",
       "      <td>False</td>\n",
       "      <td>Tierra del Fuego National Park, Ushuaia</td>\n",
       "      <td>-54.844298</td>\n",
       "      <td>-68.564987</td>\n",
       "      <td>305.0</td>\n",
       "      <td>NaN</td>\n",
       "      <td>...</td>\n",
       "      <td>Tierra del Fuego</td>\n",
       "      <td>Lessonia rufa</td>\n",
       "      <td>Sobrepuesto austral</td>\n",
       "      <td>Aves</td>\n",
       "      <td>17310</td>\n",
       "      <td>Passeriformes</td>\n",
       "      <td>Tyrannidae</td>\n",
       "      <td>Lessonia</td>\n",
       "      <td>NaN</td>\n",
       "      <td>Lessonia rufa</td>\n",
       "    </tr>\n",
       "    <tr>\n",
       "      <th>26</th>\n",
       "      <td>568816</td>\n",
       "      <td>2013-12-22</td>\n",
       "      <td>10201</td>\n",
       "      <td>research</td>\n",
       "      <td>False</td>\n",
       "      <td>Tierra del Fuego National Park, Ushuaia</td>\n",
       "      <td>-54.854478</td>\n",
       "      <td>-68.573914</td>\n",
       "      <td>2446.0</td>\n",
       "      <td>NaN</td>\n",
       "      <td>...</td>\n",
       "      <td>Tierra del Fuego</td>\n",
       "      <td>Zonotrichia capensis</td>\n",
       "      <td>Chingolo</td>\n",
       "      <td>Aves</td>\n",
       "      <td>9183</td>\n",
       "      <td>Passeriformes</td>\n",
       "      <td>Passerellidae</td>\n",
       "      <td>Zonotrichia</td>\n",
       "      <td>NaN</td>\n",
       "      <td>Zonotrichia capensis</td>\n",
       "    </tr>\n",
       "  </tbody>\n",
       "</table>\n",
       "<p>5 rows × 27 columns</p>\n",
       "</div>"
      ],
      "text/plain": [
       "        id observed_on  user_id quality_grade  captive_cultivated  \\\n",
       "6   336399  2009-11-21    15211      research               False   \n",
       "22  568157  2013-12-22    10201      research               False   \n",
       "23  568760  2013-12-22    10201      research               False   \n",
       "24  568802  2013-12-22    10201      research               False   \n",
       "26  568816  2013-12-22    10201      research               False   \n",
       "\n",
       "                                          place_guess   latitude  longitude  \\\n",
       "6   Beagle Channel, Ushuaia, Tierra del Fuego prov... -54.867678 -67.466637   \n",
       "22            Tierra del Fuego National Park, Ushuaia -54.828777 -68.558121   \n",
       "23            Tierra del Fuego National Park, Ushuaia -54.853885 -68.576660   \n",
       "24            Tierra del Fuego National Park, Ushuaia -54.844298 -68.564987   \n",
       "26            Tierra del Fuego National Park, Ushuaia -54.854478 -68.573914   \n",
       "\n",
       "    positional_accuracy  private_place_guess  ...  place_state_name  \\\n",
       "6                  38.0                  NaN  ...  Tierra del Fuego   \n",
       "22               1225.0                  NaN  ...  Tierra del Fuego   \n",
       "23                611.0                  NaN  ...  Tierra del Fuego   \n",
       "24                305.0                  NaN  ...  Tierra del Fuego   \n",
       "26               2446.0                  NaN  ...  Tierra del Fuego   \n",
       "\n",
       "         scientific_name_sub            common_name iconic_taxon_name  \\\n",
       "6    Leucocarbo magellanicus  Cormorán cuello negro              Aves   \n",
       "22  Enicognathus ferrugineus                Cachaña              Aves   \n",
       "23           Spinus barbatus  Cabecitanegra austral              Aves   \n",
       "24             Lessonia rufa    Sobrepuesto austral              Aves   \n",
       "26      Zonotrichia capensis               Chingolo              Aves   \n",
       "\n",
       "    taxon_id  taxon_order_name  taxon_family_name taxon_genus_name  \\\n",
       "6    1289600        Suliformes  Phalacrocoracidae       Leucocarbo   \n",
       "22     19262    Psittaciformes        Psittacidae     Enicognathus   \n",
       "23    145321     Passeriformes       Fringillidae           Spinus   \n",
       "24     17310     Passeriformes         Tyrannidae         Lessonia   \n",
       "26      9183     Passeriformes      Passerellidae      Zonotrichia   \n",
       "\n",
       "   taxon_subspecies_name           scientific_name  \n",
       "6                    NaN   Leucocarbo magellanicus  \n",
       "22                   NaN  Enicognathus ferrugineus  \n",
       "23                   NaN           Spinus barbatus  \n",
       "24                   NaN             Lessonia rufa  \n",
       "26                   NaN      Zonotrichia capensis  \n",
       "\n",
       "[5 rows x 27 columns]"
      ]
     },
     "execution_count": 47,
     "metadata": {},
     "output_type": "execute_result"
    }
   ],
   "source": [
    "# Cambiar el nombre de la columna \"scientific_name\" a \"scientific_name_sub\"\n",
    "df_filtrada_3 = df_filtrada_2.rename(columns={'scientific_name': 'scientific_name_sub'})\n",
    "\n",
    "# Agregar la columna \"scientific_name\" con el nombre científico de la especie (solo las dos primeras palabras)\n",
    "df_filtrada_3['scientific_name'] = df_filtrada_3[\n",
    "    'scientific_name_sub'].apply(\n",
    "        lambda x: ' '.join(x.split()[:2]) if isinstance(x, str) else x)\n",
    "\n",
    "df_filtrada_3.head()"
   ]
  },
  {
   "cell_type": "markdown",
   "id": "dd13a5f6",
   "metadata": {},
   "source": [
    "##### Eliminación de columnas inútiles o sin paralelo en la otra fuente de datos"
   ]
  },
  {
   "cell_type": "code",
   "execution_count": 48,
   "id": "cd150891",
   "metadata": {},
   "outputs": [
    {
     "data": {
      "application/vnd.microsoft.datawrangler.viewer.v0+json": {
       "columns": [
        {
         "name": "index",
         "rawType": "int64",
         "type": "integer"
        },
        {
         "name": "common_name",
         "rawType": "object",
         "type": "string"
        },
        {
         "name": "scientific_name",
         "rawType": "object",
         "type": "string"
        },
        {
         "name": "latitude",
         "rawType": "float64",
         "type": "float"
        },
        {
         "name": "longitude",
         "rawType": "float64",
         "type": "float"
        },
        {
         "name": "observed_on",
         "rawType": "object",
         "type": "string"
        }
       ],
       "ref": "bf686aeb-22f0-4d78-bb1d-92f69183bfe5",
       "rows": [
        [
         "6",
         "Cormorán cuello negro",
         "Leucocarbo magellanicus",
         "-54.867678",
         "-67.466637",
         "2009-11-21"
        ],
        [
         "22",
         "Cachaña",
         "Enicognathus ferrugineus",
         "-54.828777",
         "-68.558121",
         "2013-12-22"
        ],
        [
         "23",
         "Cabecitanegra austral",
         "Spinus barbatus",
         "-54.853885",
         "-68.57666",
         "2013-12-22"
        ],
        [
         "24",
         "Sobrepuesto austral",
         "Lessonia rufa",
         "-54.844298",
         "-68.564987",
         "2013-12-22"
        ],
        [
         "26",
         "Chingolo",
         "Zonotrichia capensis",
         "-54.854478",
         "-68.573914",
         "2013-12-22"
        ]
       ],
       "shape": {
        "columns": 5,
        "rows": 5
       }
      },
      "text/html": [
       "<div>\n",
       "<style scoped>\n",
       "    .dataframe tbody tr th:only-of-type {\n",
       "        vertical-align: middle;\n",
       "    }\n",
       "\n",
       "    .dataframe tbody tr th {\n",
       "        vertical-align: top;\n",
       "    }\n",
       "\n",
       "    .dataframe thead th {\n",
       "        text-align: right;\n",
       "    }\n",
       "</style>\n",
       "<table border=\"1\" class=\"dataframe\">\n",
       "  <thead>\n",
       "    <tr style=\"text-align: right;\">\n",
       "      <th></th>\n",
       "      <th>common_name</th>\n",
       "      <th>scientific_name</th>\n",
       "      <th>latitude</th>\n",
       "      <th>longitude</th>\n",
       "      <th>observed_on</th>\n",
       "    </tr>\n",
       "  </thead>\n",
       "  <tbody>\n",
       "    <tr>\n",
       "      <th>6</th>\n",
       "      <td>Cormorán cuello negro</td>\n",
       "      <td>Leucocarbo magellanicus</td>\n",
       "      <td>-54.867678</td>\n",
       "      <td>-67.466637</td>\n",
       "      <td>2009-11-21</td>\n",
       "    </tr>\n",
       "    <tr>\n",
       "      <th>22</th>\n",
       "      <td>Cachaña</td>\n",
       "      <td>Enicognathus ferrugineus</td>\n",
       "      <td>-54.828777</td>\n",
       "      <td>-68.558121</td>\n",
       "      <td>2013-12-22</td>\n",
       "    </tr>\n",
       "    <tr>\n",
       "      <th>23</th>\n",
       "      <td>Cabecitanegra austral</td>\n",
       "      <td>Spinus barbatus</td>\n",
       "      <td>-54.853885</td>\n",
       "      <td>-68.576660</td>\n",
       "      <td>2013-12-22</td>\n",
       "    </tr>\n",
       "    <tr>\n",
       "      <th>24</th>\n",
       "      <td>Sobrepuesto austral</td>\n",
       "      <td>Lessonia rufa</td>\n",
       "      <td>-54.844298</td>\n",
       "      <td>-68.564987</td>\n",
       "      <td>2013-12-22</td>\n",
       "    </tr>\n",
       "    <tr>\n",
       "      <th>26</th>\n",
       "      <td>Chingolo</td>\n",
       "      <td>Zonotrichia capensis</td>\n",
       "      <td>-54.854478</td>\n",
       "      <td>-68.573914</td>\n",
       "      <td>2013-12-22</td>\n",
       "    </tr>\n",
       "  </tbody>\n",
       "</table>\n",
       "</div>"
      ],
      "text/plain": [
       "              common_name           scientific_name   latitude  longitude  \\\n",
       "6   Cormorán cuello negro   Leucocarbo magellanicus -54.867678 -67.466637   \n",
       "22                Cachaña  Enicognathus ferrugineus -54.828777 -68.558121   \n",
       "23  Cabecitanegra austral           Spinus barbatus -54.853885 -68.576660   \n",
       "24    Sobrepuesto austral             Lessonia rufa -54.844298 -68.564987   \n",
       "26               Chingolo      Zonotrichia capensis -54.854478 -68.573914   \n",
       "\n",
       "   observed_on  \n",
       "6   2009-11-21  \n",
       "22  2013-12-22  \n",
       "23  2013-12-22  \n",
       "24  2013-12-22  \n",
       "26  2013-12-22  "
      ]
     },
     "execution_count": 48,
     "metadata": {},
     "output_type": "execute_result"
    }
   ],
   "source": [
    "df_filtrada_4 = df_filtrada_3[['common_name', 'scientific_name', 'latitude', 'longitude', 'observed_on']]\n",
    "\n",
    "# Ver resultado parcial\n",
    "df_filtrada_4.head()"
   ]
  },
  {
   "cell_type": "markdown",
   "id": "0ab65d56",
   "metadata": {},
   "source": [
    "##### Ver resumen de valores"
   ]
  },
  {
   "cell_type": "code",
   "execution_count": 49,
   "id": "60cdca67",
   "metadata": {},
   "outputs": [
    {
     "name": "stdout",
     "output_type": "stream",
     "text": [
      "common_name        88\n",
      "scientific_name     0\n",
      "latitude            0\n",
      "longitude           0\n",
      "observed_on         0\n",
      "dtype: int64\n"
     ]
    },
    {
     "data": {
      "application/vnd.microsoft.datawrangler.viewer.v0+json": {
       "columns": [
        {
         "name": "index",
         "rawType": "object",
         "type": "string"
        },
        {
         "name": "latitude",
         "rawType": "float64",
         "type": "float"
        },
        {
         "name": "longitude",
         "rawType": "float64",
         "type": "float"
        }
       ],
       "ref": "47816377-faeb-4943-a2b8-d702568e238c",
       "rows": [
        [
         "count",
         "8087.0",
         "8087.0"
        ],
        [
         "mean",
         "-54.69567093339951",
         "-68.16646414598601"
        ],
        [
         "std",
         "0.35673498840629414",
         "0.4735182086043474"
        ],
        [
         "min",
         "-55.102",
         "-68.6057347563"
        ],
        [
         "25%",
         "-54.838420775",
         "-68.36357008979999"
        ],
        [
         "50%",
         "-54.8149837808",
         "-68.3137880609"
        ],
        [
         "75%",
         "-54.79603449615",
         "-68.1790825567"
        ],
        [
         "max",
         "-52.6594907771",
         "-63.8114224206"
        ]
       ],
       "shape": {
        "columns": 2,
        "rows": 8
       }
      },
      "text/html": [
       "<div>\n",
       "<style scoped>\n",
       "    .dataframe tbody tr th:only-of-type {\n",
       "        vertical-align: middle;\n",
       "    }\n",
       "\n",
       "    .dataframe tbody tr th {\n",
       "        vertical-align: top;\n",
       "    }\n",
       "\n",
       "    .dataframe thead th {\n",
       "        text-align: right;\n",
       "    }\n",
       "</style>\n",
       "<table border=\"1\" class=\"dataframe\">\n",
       "  <thead>\n",
       "    <tr style=\"text-align: right;\">\n",
       "      <th></th>\n",
       "      <th>latitude</th>\n",
       "      <th>longitude</th>\n",
       "    </tr>\n",
       "  </thead>\n",
       "  <tbody>\n",
       "    <tr>\n",
       "      <th>count</th>\n",
       "      <td>8087.000000</td>\n",
       "      <td>8087.000000</td>\n",
       "    </tr>\n",
       "    <tr>\n",
       "      <th>mean</th>\n",
       "      <td>-54.695671</td>\n",
       "      <td>-68.166464</td>\n",
       "    </tr>\n",
       "    <tr>\n",
       "      <th>std</th>\n",
       "      <td>0.356735</td>\n",
       "      <td>0.473518</td>\n",
       "    </tr>\n",
       "    <tr>\n",
       "      <th>min</th>\n",
       "      <td>-55.102000</td>\n",
       "      <td>-68.605735</td>\n",
       "    </tr>\n",
       "    <tr>\n",
       "      <th>25%</th>\n",
       "      <td>-54.838421</td>\n",
       "      <td>-68.363570</td>\n",
       "    </tr>\n",
       "    <tr>\n",
       "      <th>50%</th>\n",
       "      <td>-54.814984</td>\n",
       "      <td>-68.313788</td>\n",
       "    </tr>\n",
       "    <tr>\n",
       "      <th>75%</th>\n",
       "      <td>-54.796034</td>\n",
       "      <td>-68.179083</td>\n",
       "    </tr>\n",
       "    <tr>\n",
       "      <th>max</th>\n",
       "      <td>-52.659491</td>\n",
       "      <td>-63.811422</td>\n",
       "    </tr>\n",
       "  </tbody>\n",
       "</table>\n",
       "</div>"
      ],
      "text/plain": [
       "          latitude    longitude\n",
       "count  8087.000000  8087.000000\n",
       "mean    -54.695671   -68.166464\n",
       "std       0.356735     0.473518\n",
       "min     -55.102000   -68.605735\n",
       "25%     -54.838421   -68.363570\n",
       "50%     -54.814984   -68.313788\n",
       "75%     -54.796034   -68.179083\n",
       "max     -52.659491   -63.811422"
      ]
     },
     "execution_count": 49,
     "metadata": {},
     "output_type": "execute_result"
    }
   ],
   "source": [
    "# Ver la cantidad de datos faltantes en cada fila\n",
    "print(df_filtrada_4.isnull().sum())\n",
    "\n",
    "df_filtrada_4.describe()"
   ]
  },
  {
   "cell_type": "markdown",
   "id": "66769108",
   "metadata": {},
   "source": [
    "No se observan datos faltantes en columnas de importancia para el análisis. No se observan valores de columnas numéricas fuera del rango esperado"
   ]
  },
  {
   "cell_type": "markdown",
   "id": "ecfe2843",
   "metadata": {},
   "source": [
    "## Asociar la celda de la grilla a cada observación"
   ]
  },
  {
   "cell_type": "code",
   "execution_count": 50,
   "id": "f5d2b1da",
   "metadata": {},
   "outputs": [],
   "source": [
    "# Punto de partida: directorio actual (notebooks/)\n",
    "BASE_DIR = Path.cwd()\n",
    "# Subir un nivel al directorio raíz del proyecto\n",
    "PROYECTO_DIR = BASE_DIR.parent\n",
    "# Construir ruta completa al archivo GPKG\n",
    "DIR_DATOS = PROYECTO_DIR / 'data' / 'interim'\n",
    "\n",
    "nombre_grilla = 'grilla_tdf_vacia.gpkg'\n",
    "ruta_grilla = DIR_DATOS / nombre_grilla"
   ]
  },
  {
   "cell_type": "code",
   "execution_count": 51,
   "id": "6f7d58b8",
   "metadata": {},
   "outputs": [],
   "source": [
    "# Asociar grilla a los datos de observaciones\n",
    "\n",
    "df_grillada =asociar_grilla.assign_grid_cell_ids(\n",
    "    grilla = ruta_grilla,\n",
    "    datos_georef = df_filtrada_4,\n",
    "    grid_id_field = 'grid_id'\n",
    ")"
   ]
  },
  {
   "cell_type": "markdown",
   "id": "98ab60be",
   "metadata": {},
   "source": [
    "## Exportar el data frame resultante"
   ]
  },
  {
   "cell_type": "code",
   "execution_count": 52,
   "id": "37444aad",
   "metadata": {},
   "outputs": [],
   "source": [
    "# Exportar el DataFrame df_filtrada_3\n",
    "df_grillada.to_csv('../data/interim/data_inat.csv', index=False)"
   ]
  }
 ],
 "metadata": {
  "kernelspec": {
   "display_name": "Python 3",
   "language": "python",
   "name": "python3"
  },
  "language_info": {
   "codemirror_mode": {
    "name": "ipython",
    "version": 3
   },
   "file_extension": ".py",
   "mimetype": "text/x-python",
   "name": "python",
   "nbconvert_exporter": "python",
   "pygments_lexer": "ipython3",
   "version": "3.13.0"
  }
 },
 "nbformat": 4,
 "nbformat_minor": 5
}
