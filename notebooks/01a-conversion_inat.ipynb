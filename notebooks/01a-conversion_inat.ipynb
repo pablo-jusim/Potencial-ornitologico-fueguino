{
 "cells": [
  {
   "cell_type": "markdown",
   "id": "239bfce3",
   "metadata": {},
   "source": [
    "# Potencial Ornitológico Fueguino\n",
    "### **Autor:** Pablo Jusim"
   ]
  },
  {
   "cell_type": "markdown",
   "id": "07251064",
   "metadata": {},
   "source": [
    "# Script de preprocesamiento de observaciones de iNaturalist\n",
    "\n",
    "![title](../data/external/logo_inat.png)\n",
    "\n",
    "Se realizan verificaciones antes de obtener el dataframe final.\n",
    "\n",
    "La salida de este script será un dataframe de pandas donde cada fila representará una observación de iNaturalist.\n",
    "\n",
    "El dataframe final tendrá las siguientes **columnas**: id_obs, id_celda, especie, familia, orden, fecha"
   ]
  },
  {
   "cell_type": "markdown",
   "id": "a6595383",
   "metadata": {},
   "source": [
    "## Importaciones"
   ]
  },
  {
   "cell_type": "code",
   "execution_count": null,
   "id": "575bfad1",
   "metadata": {},
   "outputs": [],
   "source": [
    "import pandas as pd\n",
    "from IPython.display import display"
   ]
  },
  {
   "cell_type": "markdown",
   "id": "d2c7fbb2",
   "metadata": {},
   "source": [
    "## Carga de datos"
   ]
  },
  {
   "cell_type": "code",
   "execution_count": null,
   "id": "9087b58d",
   "metadata": {},
   "outputs": [],
   "source": [
    "archivo = '../data/external/obs_iNat.csv'\n",
    "try:\n",
    "    df_base = pd.read_csv(archivo)\n",
    "    display(df_base.head())\n",
    "except FileNotFoundError:\n",
    "    print('No se encuentra el archivo en la ruta ' + archivo)"
   ]
  },
  {
   "cell_type": "markdown",
   "id": "8d40d47b",
   "metadata": {},
   "source": [
    "## Limpieza de datos"
   ]
  },
  {
   "cell_type": "markdown",
   "id": "381371c4",
   "metadata": {},
   "source": [
    "### Revisión de datos y eliminación de columnas no útiles"
   ]
  },
  {
   "cell_type": "markdown",
   "id": "0b369c19",
   "metadata": {},
   "source": [
    "#### Revisión del contenido de columnas con posibles errores y eliminación de las mismas"
   ]
  },
  {
   "cell_type": "markdown",
   "id": "1a0a9a7f",
   "metadata": {},
   "source": [
    "##### Verificaciones"
   ]
  },
  {
   "cell_type": "code",
   "execution_count": null,
   "id": "1262da4f",
   "metadata": {},
   "outputs": [],
   "source": [
    "# Columna \"quality_grade\": segun la busqueda realizada en iNat, los datos deberian estar todos en \"research\"\n",
    "print(f'quality_grade: {df_base['quality_grade'].unique()}')\n",
    "\n",
    "# Columna \"captive_cultivated\": ninguna observacion deberia ser \"true\" (aves cautivas)\n",
    "print(f'captive: {df_base['captive_cultivated'].unique()}')\n",
    "\n",
    "# Columna \"private_place_guess\": ninguna observacion deberia tener datos ya que la búsqueda solo incluyó ubicaciones públicas\n",
    "print(f'private_place_guess: {df_base[\"private_place_guess\"].unique()}')\n",
    "\n",
    "# Columnas \"private_latitude\" y \"private:longitude\": ninguna observacion deberia tener datos ya que la búsqueda solo incluyó ubicaciones públicas\n",
    "print(f'private_latitude: {df_base[\"private_latitude\"].unique()}')\n",
    "print(f'private_longitude: {df_base[\"private_longitude\"].unique()}')\n",
    "\n",
    "# Columna \"geoprivacy\": ninguna observacion deberia tener datos ya que la búsqueda solo incluyó ubicaciones públicas\n",
    "print(f'geoprivacy: {df_base[\"geoprivacy\"].unique()}')\n",
    "\n",
    "# Columna \"taxon_geoprivacy\": las observaciones deberian ser \"open\" o carecer el dato\n",
    "print(f'taxon_geoprivacy: {df_base[\"taxon_geoprivacy\"].unique()}')\n",
    "\n",
    "# Columna \"coordinates_obscured\": las observaciones deberian ser \"false\" o carecer el dato\n",
    "print(f'coordinates_obscured: {df_base[\"coordinates_obscured\"].unique()}')\n",
    "\n",
    "# Columna \"place_town_name\": se revisa si hay datos en la columna, sino se elimina\n",
    "print(f'place_town_name: {df_base[\"place_town_name\"].unique()}')\n",
    "\n",
    "# Columna \"place_county_name\": los valores deberian ser los departamentos de TIerras del Fuego\n",
    "print(f'place_county_name: {df_base[\"place_county_name\"].unique()}')\n",
    "\n",
    "# Columna \"place_state_name\": los valores deberian ser \"Tierra del Fuego\"\n",
    "print(f'place_state_name: {df_base[\"place_state_name\"].unique()}')\n",
    "\n",
    "# Columna \"iconic_taxon_name\": los valores deberian ser \"Aves\"\n",
    "print(f'iconic_taxon_name: {df_base[\"iconic_taxon_name\"].unique()}')\n",
    "\n"
   ]
  },
  {
   "cell_type": "code",
   "execution_count": null,
   "id": "b70c6958",
   "metadata": {},
   "outputs": [],
   "source": [
    "print(f'Filas totales: {len(df_base)}')\n",
    "print(f'Columnas totales: {len(df_base.columns)}')"
   ]
  },
  {
   "cell_type": "markdown",
   "id": "88e981c1",
   "metadata": {},
   "source": [
    "### Revisión de valores de filas"
   ]
  },
  {
   "cell_type": "markdown",
   "id": "6a56d3db",
   "metadata": {},
   "source": [
    "##### Precisión"
   ]
  },
  {
   "cell_type": "code",
   "execution_count": null,
   "id": "4fae436e",
   "metadata": {},
   "outputs": [],
   "source": [
    "# Precision de las observaciones: Se descartan observaciones con una precisión menor\n",
    "# a la mitad del tramaño de la celda (2500 m o más)\n",
    "df_filtrada_1 = df_base[df_base['positional_accuracy'] < 2500]\n",
    "print(f'Filas restantes: {len(df_filtrada_1)}')"
   ]
  },
  {
   "cell_type": "markdown",
   "id": "d29faaba",
   "metadata": {},
   "source": [
    "##### Nombres científicos\n",
    "Los nombres cientificos constan de dos palabras, el genero y el epíteto específico.\n",
    "Si hay una tercera palabra, esta puede corresponder a una subespecie.\n",
    "Tener observaciones de la misma especie con dos o tres palabras puede complicar el conteo"
   ]
  },
  {
   "cell_type": "code",
   "execution_count": null,
   "id": "6885bc8c",
   "metadata": {},
   "outputs": [],
   "source": [
    "# Cambiar el nombre de la columna \"scientific_name\" a \"scientific_name_sub\"\n",
    "df_filtrada_2 = df_filtrada_1.rename(columns={'scientific_name': 'scientific_name_sub'})\n",
    "\n",
    "# Agregar la columna \"scientific_name\" con el nombre científico de la especie (solo las dos primeras palabras)\n",
    "df_filtrada_2['scientific_name'] = df_filtrada_2[\n",
    "    'scientific_name_sub'].apply(\n",
    "        lambda x: ' '.join(x.split()[:2]) if isinstance(x, str) else x)\n",
    "\n",
    "df_filtrada_2.head()"
   ]
  },
  {
   "cell_type": "markdown",
   "id": "dd13a5f6",
   "metadata": {},
   "source": [
    "##### Eliminación de columnas inútiles o sin paralelo en la otra fuente de datos"
   ]
  },
  {
   "cell_type": "code",
   "execution_count": null,
   "id": "cd150891",
   "metadata": {},
   "outputs": [],
   "source": [
    "df_filtrada_3 = df_filtrada_2[['common_name', 'scientific_name', 'latitude', 'longitude', 'observed_on']]\n",
    "\n",
    "# Ver resultado parcial\n",
    "df_filtrada_3.head()"
   ]
  },
  {
   "cell_type": "markdown",
   "id": "0ab65d56",
   "metadata": {},
   "source": [
    "##### Ver resumen de valores"
   ]
  },
  {
   "cell_type": "code",
   "execution_count": null,
   "id": "60cdca67",
   "metadata": {},
   "outputs": [],
   "source": [
    "# Ver la cantidad de datos faltantes en cada fila\n",
    "print(df_filtrada_3.isnull().sum())\n",
    "\n",
    "df_filtrada_3.describe()"
   ]
  },
  {
   "cell_type": "markdown",
   "id": "66769108",
   "metadata": {},
   "source": [
    "No se observan datos faltantes en columnas de importancia para el análisis. No se observan valores de columnas numéricas fuera del rango esperado"
   ]
  },
  {
   "cell_type": "markdown",
   "id": "98ab60be",
   "metadata": {},
   "source": [
    "## Exportar el data frame resultante"
   ]
  },
  {
   "cell_type": "code",
   "execution_count": null,
   "id": "37444aad",
   "metadata": {},
   "outputs": [],
   "source": [
    "# Exportar el DataFrame df_filtrada_3\n",
    "df_filtrada_3.to_csv('../data/raw/data_inat.csv', index=False)"
   ]
  }
 ],
 "metadata": {
  "kernelspec": {
   "display_name": "Python 3",
   "language": "python",
   "name": "python3"
  },
  "language_info": {
   "codemirror_mode": {
    "name": "ipython",
    "version": 3
   },
   "file_extension": ".py",
   "mimetype": "text/x-python",
   "name": "python",
   "nbconvert_exporter": "python",
   "pygments_lexer": "ipython3",
   "version": "3.13.0"
  }
 },
 "nbformat": 4,
 "nbformat_minor": 5
}
