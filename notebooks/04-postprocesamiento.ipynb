{
 "cells": [
  {
   "cell_type": "markdown",
   "id": "4d080d57",
   "metadata": {},
   "source": [
    "# Potencial Ornitológico Fueguino\n",
    "### **Autor:** Pablo Jusim"
   ]
  },
  {
   "cell_type": "markdown",
   "id": "4e76bc9b",
   "metadata": {},
   "source": [
    "# Script de postprocesmiento de la grilla espacial\n",
    "\n",
    "En este script se tomará la grilla espacial generada en el notebook *main* y se buscarán las celdas con mejor potencial ornitológico dentro de cada cluster."
   ]
  },
  {
   "cell_type": "markdown",
   "id": "c4996ccf",
   "metadata": {},
   "source": [
    "## Importaciones"
   ]
  },
  {
   "cell_type": "code",
   "execution_count": null,
   "id": "fcf8573d",
   "metadata": {},
   "outputs": [],
   "source": [
    "import pandas as pd\n",
    "import geopandas as gpd\n",
    "import sys\n",
    "from pathlib import Path\n",
    "from pyogrio.errors import DataSourceError\n",
    "import folium\n",
    "from folium.plugins import Fullscreen\n",
    "\n",
    "# Modulos propios\n",
    "sys.path.append(str(Path('..')/'src'))\n",
    "\n",
    "import utils"
   ]
  },
  {
   "cell_type": "markdown",
   "id": "fde02157",
   "metadata": {},
   "source": [
    "## Carga de datos"
   ]
  },
  {
   "cell_type": "code",
   "execution_count": null,
   "id": "2d83c9b6",
   "metadata": {},
   "outputs": [],
   "source": [
    "ruta_grilla = '../data/processed/grilla_tdf_clusters.gpkg'\n",
    "ruta_registros = '../data/interim/grilla_tdf_spp.csv'\n",
    "\n",
    "try:\n",
    "    grilla = gpd.read_file(ruta_grilla)\n",
    "except DataSourceError:\n",
    "    print('No se encuentra la grilla, revise la ruta')\n",
    "\n",
    "try:\n",
    "    registros = pd.read_csv(ruta_registros)\n",
    "except FileNotFoundError:\n",
    "    print('No se encuentran los registros, revise la ruta')"
   ]
  },
  {
   "cell_type": "markdown",
   "id": "e9447de0",
   "metadata": {},
   "source": [
    "## Cálculo de nuevas variables"
   ]
  },
  {
   "cell_type": "markdown",
   "id": "4f10c14a",
   "metadata": {},
   "source": [
    "#### Crear un nuevo dataframe para almacenar variables temporales\n",
    "Aquí se almacenarán variables para permitir calcular las variables de interés antes de incorporarlas a la grilla. La inicializo con el número de celda y de cluster"
   ]
  },
  {
   "cell_type": "code",
   "execution_count": null,
   "id": "2b105093",
   "metadata": {},
   "outputs": [],
   "source": [
    "df_calc = grilla[['grid_id', 'GaussianMixture']].copy()\n",
    "# Filtrar las filas donde haya datos del cluster\n",
    "df_calc = df_calc[df_calc['GaussianMixture'].notna()]\n",
    "# Renombrar la columna ‘GaussianMixture’ a ‘cluster’\n",
    "df_calc = df_calc.rename(columns={'GaussianMixture': 'cluster'})"
   ]
  },
  {
   "cell_type": "markdown",
   "id": "168f4775",
   "metadata": {},
   "source": [
    "### Celdas de cada cluster con mayor riqueza de aves registradas\n",
    "Calculo la cantidad de especies registradas (riqueza) en cada celda y la proporción de registros. Luego asigno un puntaje a cada celda según la cantidad de especies y la proporción de registros en esa celda, siendo independientes los puntajes para cada cluster. Las especies de la lista de prioritarias otorgan un puntaje doble."
   ]
  },
  {
   "cell_type": "markdown",
   "id": "617885db",
   "metadata": {},
   "source": [
    "#### Copiar el dataframe y duplicar el valor de las especies de interés\n",
    "Al duplicar la cantidad de registros de las especies de interés se les asigna mayor peso\n",
    "\n",
    "Los observadores de aves en muchos casos viajan a determinados lugares buscando ciertas especies en particular, además de tratar de registrar toda la avifauna posible. Para Tierra del Fuego, elaboré una lista de las especies más buscadas y las especies endémicas o que dificilmente se observan en otros sitios, según una encuesta realizada al Club de Observadores de Aves de Ushuaia, chat GPT y conocimiento propio Estas especies fueron: \n",
    "- Carpintero gigante (*Campephilus magellanicus*)\n",
    "- Cóndor andino (*Vultur gryphus*)\n",
    "- Caranca (*Chloephaga hybrida*)\n",
    "- Cauquén colorado (*Chloephaga rubidiceps*)\n",
    "- Matamico blanco (*Daptrius albogularis*)\n",
    "- Carancho austral (*Daptrius australis*)\n",
    "- Remolinera negra (*Cinclodes antarcticus*)\n",
    "- Quetro austral (*Tachyeres pteneres*)\n",
    "- Caminera patagónica (*Geositta antarctica*)\n",
    "- Playero Rojizo (*Calidris canutus*)\n",
    "- Pingüino Rey (*Aptenodytes patagonicus*)\n",
    "- Albatros de Ceja Negra (*Thalassarche melanophris*)\n",
    "\n",
    "Al duplicar la cantidad de registros de las especies de interés se les asigna mayor peso."
   ]
  },
  {
   "cell_type": "code",
   "execution_count": null,
   "id": "b0df308e",
   "metadata": {},
   "outputs": [],
   "source": [
    "lista_spp_buscadas = [\n",
    "    \"Campephilus magellanicus\",\n",
    "    \"Vultur gryphus\",\n",
    "    \"Chloephaga hybrida\",\n",
    "    \"Chloephaga rubidiceps\",\n",
    "    \"Daptrius albogularis\",\n",
    "    \"Daptrius australis\",\n",
    "    \"Cinclodes antarcticus\",\n",
    "    \"Tachyeres pteneres\",\n",
    "    \"Geositta antarctica\",\n",
    "    \"Calidris canutus\",\n",
    "    \"Aptenodytes patagonicus\",\n",
    "    \"Thalassarche melanophris\"\n",
    "]\n",
    "\n",
    "# Convertir la columna 'grid_id' de registros en índice\n",
    "reg_idx = registros.set_index('grid_id')\n",
    "\n",
    "# Revisar que las especies buscadas estén en los registros bien escritas\n",
    "for spp in lista_spp_buscadas:\n",
    "    print(spp in reg_idx.columns)"
   ]
  },
  {
   "cell_type": "code",
   "execution_count": null,
   "id": "1cdb9ac7",
   "metadata": {},
   "outputs": [],
   "source": [
    "# Calcular, para cada especie (columna), el máximo número de registros en cualquier celda\n",
    "max_por_especie = reg_idx.max(axis=0)\n",
    "# Construir un DataFrame de proporciones fila‒columna:\n",
    "df_prop = reg_idx.div(max_por_especie, axis=1)\n",
    "\n",
    "# Crear una Serie de pesos por especie: 1 por defecto, 2 si está en la lista de spp buscadas\n",
    "pesos = pd.Series(1.0, index=reg_idx.columns)\n",
    "pesos.loc[lista_spp_buscadas] = 2.0\n",
    "# Multiplicar cada columna de proporciones por su peso\n",
    "df_ponderado = df_prop * pesos\n",
    "\n",
    "# Para cada fila (celda), sumar las proporciones ponderadas → riqueza ponderada\n",
    "reg_idx = reg_idx.assign(riqueza_ponderada = df_ponderado.sum(axis=1))"
   ]
  },
  {
   "cell_type": "markdown",
   "id": "09fbe0cc",
   "metadata": {},
   "source": [
    "##### Agregar la riqueza ponderada al df temporal"
   ]
  },
  {
   "cell_type": "code",
   "execution_count": null,
   "id": "84ecda55",
   "metadata": {},
   "outputs": [],
   "source": [
    "df_calc['riqueza_ponderada'] = df_calc['grid_id'].map(reg_idx['riqueza_ponderada'])"
   ]
  },
  {
   "cell_type": "markdown",
   "id": "106d6444",
   "metadata": {},
   "source": [
    "##### Calcular el puntaje de riqueza por celda de cada cluster\n",
    "El puntaje va entre 0 (sin registros) y 1 (la celda con mayor riqueza ponderada del cluster)"
   ]
  },
  {
   "cell_type": "code",
   "execution_count": null,
   "id": "319548d5",
   "metadata": {},
   "outputs": [],
   "source": [
    "# Calcular, para cada fila, el máximo de riqueza ponderada en su cluster\n",
    "max_por_cluster = df_calc.groupby('cluster')['riqueza_ponderada'] \\\n",
    "                         .transform('max')\n",
    "# Dividir la riqueza de cada fila por ese máximo\n",
    "df_calc['score_riqueza'] = df_calc['riqueza_ponderada'] / max_por_cluster"
   ]
  },
  {
   "cell_type": "code",
   "execution_count": null,
   "id": "dba130ea",
   "metadata": {},
   "outputs": [],
   "source": [
    "df_calc"
   ]
  },
  {
   "cell_type": "markdown",
   "id": "0bc76221",
   "metadata": {},
   "source": [
    "## Agregar las nuevas variables a la grilla espacial"
   ]
  },
  {
   "cell_type": "code",
   "execution_count": null,
   "id": "f18ace12",
   "metadata": {},
   "outputs": [],
   "source": [
    "# Agregar el resultado del modelo a la grilla espacial\n",
    "gdf_grid = utils.grillar_res_mod(\n",
    "    grilla=grilla,\n",
    "    id_grid=df_calc['grid_id'],\n",
    "    clusters=df_calc['score_riqueza'],\n",
    "    nombre='score_riqueza'\n",
    ")"
   ]
  },
  {
   "cell_type": "code",
   "execution_count": null,
   "id": "7393ecf0",
   "metadata": {},
   "outputs": [],
   "source": [
    "# Guardo el resultado en un nuevo .gpkg\n",
    "ruta_salida = \"../data/processed/grilla_riqueza.gpkg\"\n",
    "gdf_grid.to_file(ruta_salida, driver=\"GPKG\", layer=\"grilla_clusters\")\n",
    "\n",
    "print(\"Grilla con clusters guardada en:\", ruta_salida)"
   ]
  },
  {
   "cell_type": "markdown",
   "id": "e5a5b7c6",
   "metadata": {},
   "source": [
    "## Visualizar el mapa resultante\n",
    "La visualización del mapa final se realizó con Qgis y si se puede observar más abajo. Aquí se muestra una visualización más sencilla del resultado."
   ]
  },
  {
   "cell_type": "markdown",
   "id": "d236bbe8",
   "metadata": {},
   "source": [
    "#### Mapa interactivo"
   ]
  },
  {
   "cell_type": "markdown",
   "id": "9e54883d",
   "metadata": {},
   "source": [
    "Categorizar el puntaje de riqueza para mejorar la visualización"
   ]
  },
  {
   "cell_type": "code",
   "execution_count": null,
   "id": "e2d95992",
   "metadata": {},
   "outputs": [],
   "source": [
    "# El valor de return es el porcentaje de opacidad\n",
    "def categorizar_opacidad(score):\n",
    "    if score < 0.01:\n",
    "        return 0.2  # Muy bajo\n",
    "    elif score < 0.1:\n",
    "        return 0.4  # Bajo\n",
    "    elif score < 0.66:\n",
    "        return 0.8  # Medio\n",
    "    else:\n",
    "        return 0.98  # Alto\n",
    "\n",
    "# Aplicar la función al GeoDataFrame\n",
    "gdf_grid['opacidad_categoria'] = gdf_grid['score_riqueza'].apply(categorizar_opacidad)"
   ]
  },
  {
   "cell_type": "markdown",
   "id": "a319c40f",
   "metadata": {},
   "source": [
    "Setear valores para el mapa y funciones auxiliares"
   ]
  },
  {
   "cell_type": "code",
   "execution_count": null,
   "id": "00f8c1c3",
   "metadata": {},
   "outputs": [],
   "source": [
    "# Definir colores según los clusters (las claves son strings)\n",
    "colores = {\n",
    "    '0.0': '#49E973',\n",
    "    '1.0': '#A8B47E',\n",
    "    '2.0': '#51D3E1',\n",
    "    'Sin datos': '#4D4D4D'\n",
    "}\n",
    "\n",
    "# Convertir a EPSG:4326 (necesario para folium)\n",
    "gdf = gdf_grid.to_crs(epsg=4326)\n",
    "\n",
    "# Asegurar que GaussianMixture sea string y score_riqueza numérico\n",
    "gdf['GaussianMixture'] = gdf['GaussianMixture'].fillna('Sin datos').astype(str)\n",
    "gdf['score_riqueza'] = gdf['score_riqueza'].fillna(0.0).astype(float)\n",
    "\n",
    "# Centrar mapa\n",
    "centro = [gdf.geometry.centroid.y.mean(), gdf.geometry.centroid.x.mean()]\n",
    "\n",
    "# Función de estilo para folium: las claves deben estar en camelCase\n",
    "def estilo(feature):\n",
    "    props = feature['properties']\n",
    "    cluster = props['GaussianMixture']\n",
    "    color = colores.get(cluster, '#f0f0f0')\n",
    "    opacity = props.get('opacidad_categoria', 0.0)\n",
    "    return {\n",
    "        'fillColor': color,          \n",
    "        'color': color,            # Color del borde\n",
    "        'weight': 0.8,\n",
    "        'fillOpacity': opacity\n",
    "    }"
   ]
  },
  {
   "cell_type": "code",
   "execution_count": null,
   "id": "f26e73d6",
   "metadata": {},
   "outputs": [],
   "source": [
    "# Crear mapa\n",
    "m = folium.Map(location=centro, zoom_start=7, tiles=\"cartodbpositron\")\n",
    "Fullscreen().add_to(m)\n",
    "\n",
    "\n",
    "# Añadir capa GeoJson\n",
    "folium.GeoJson(\n",
    "    gdf,\n",
    "    style_function=estilo,\n",
    "    tooltip=folium.features.GeoJsonTooltip(\n",
    "        fields=['GaussianMixture', 'score_riqueza'],\n",
    "        aliases=['Cluster:', 'Puntaje de riqueza:'],\n",
    "        localize=True\n",
    "    ),\n",
    "    name='Grilla'\n",
    ").add_to(m)\n",
    "\n",
    "folium.TileLayer(\n",
    "    tiles='http://mt1.google.com/vt/lyrs=s&x={x}&y={y}&z={z}',\n",
    "    attr='Google Satellite',\n",
    "    name='Google Satellite',\n",
    "    overlay=False,\n",
    "    control=True\n",
    ").add_to(m)\n",
    "\n",
    "# Control de capas para alternar vistas\n",
    "folium.LayerControl().add_to(m)\n",
    "\n",
    "# Guardar\n",
    "m.save(\"../reports/figures/mapa_interactivo.html\")\n",
    "\n",
    "# Ver el mapa\n",
    "m\n",
    "\n"
   ]
  },
  {
   "cell_type": "markdown",
   "id": "8e83d4e0",
   "metadata": {},
   "source": [
    "En el mapa se pueden observar los distintos cluster en distintos colores:\n",
    "- Cluster 0: verde. Se correlaciona aproximadamente con el área de ecotono y de cordillera\n",
    "- Cluster 1: Amarillo. Se correlaciona con el área de estepa\n",
    "- Cluster 2: azul. Se correlaciona con el área de costa\n",
    "- Celdas sin cluster: gris. Son celdas sin registros de avifauna\n",
    "\n",
    "La transparencia indica la riqueza: a mayor transparencia mayor el nivel de riqueza.\n",
    "Las celdas con mayor riqueza registrada por observadores se ubicaron en:\n",
    "- Cluster 0: Parque Nacional Tierra del  Fuego\n",
    "- Cluster 1: Ciudad de Uhsuaia, zona de Bahía Golondrina\n",
    "- Cluster 2: Alrededor de ciudad de Río Grande\n"
   ]
  }
 ],
 "metadata": {
  "kernelspec": {
   "display_name": "Python 3",
   "language": "python",
   "name": "python3"
  },
  "language_info": {
   "codemirror_mode": {
    "name": "ipython",
    "version": 3
   },
   "file_extension": ".py",
   "mimetype": "text/x-python",
   "name": "python",
   "nbconvert_exporter": "python",
   "pygments_lexer": "ipython3",
   "version": "3.13.0"
  }
 },
 "nbformat": 4,
 "nbformat_minor": 5
}
