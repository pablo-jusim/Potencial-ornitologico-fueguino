{
 "cells": [
  {
   "cell_type": "markdown",
   "id": "dc9ef0b7",
   "metadata": {},
   "source": [
    "# Potencial Ornitológico Fueguino\n",
    "### **Autor:** Pablo Jusim"
   ]
  },
  {
   "cell_type": "markdown",
   "id": "30c3c795",
   "metadata": {},
   "source": [
    "# Script principal del modelado\n",
    "\n",
    "En este script se realizará la **creación**, **entrenamiento** y **evaluación** del modelo de aprendizaje automático.\n",
    "\n",
    "### **Objetivo**\n",
    "Clasificar cada área de la provincia de Tierra del Fuego según su potencial ornitológico."
   ]
  },
  {
   "cell_type": "markdown",
   "id": "3b45eb2b",
   "metadata": {},
   "source": [
    "Se utilizarán módulos de Python creados para este proyecto además de módulos de terceros.\n",
    "\n",
    "El preprocesamiento de los datos se realizará en otros notebook (01a, 01b y 02) dentro de este proyecto.\n",
    "\n",
    "El producto obtenido del modelado se continua procesando en otro notebook (03) para generar la grilla espacial final. El producto final del trabajo es un mapa que se genera en Qgis a partir de la griila obtenida mediante el modelo.\n"
   ]
  },
  {
   "cell_type": "markdown",
   "id": "683f0d69",
   "metadata": {},
   "source": [
    "## Importaciones"
   ]
  },
  {
   "cell_type": "code",
   "execution_count": 1,
   "id": "86b4ebe3",
   "metadata": {},
   "outputs": [],
   "source": [
    "import pandas as pd\n",
    "import matplotlib.pyplot as plt\n",
    "import seaborn as sns\n",
    "import numpy as np\n",
    "from sklearn.cluster import KMeans, SpectralClustering\n",
    "from sklearn.mixture import GaussianMixture\n",
    "from sklearn.metrics import silhouette_score, davies_bouldin_score, calinski_harabasz_score\n",
    "from sklearn.preprocessing import  normalize, MinMaxScaler\n",
    "from sklearn.feature_extraction.text import TfidfTransformer\n",
    "import geopandas as gpd\n",
    "from pathlib import Path\n",
    "import sys\n",
    "\n",
    "\n",
    "# Modulos propios\n",
    "sys.path.append(str(Path('..')/'src'))\n",
    "\n",
    "import utils"
   ]
  },
  {
   "cell_type": "markdown",
   "id": "0e41e843",
   "metadata": {},
   "source": [
    "## Carga de datos"
   ]
  },
  {
   "cell_type": "code",
   "execution_count": 2,
   "id": "a1070a80",
   "metadata": {},
   "outputs": [],
   "source": [
    "ruta_registros = '../data/interim/grilla_tdf_spp.csv'\n",
    "try:\n",
    "    df = pd.read_csv(ruta_registros)\n",
    "except FileNotFoundError:\n",
    "    print('No se encuentra el archivo en la ruta ' + ruta_registros)"
   ]
  },
  {
   "cell_type": "markdown",
   "id": "10a0c709",
   "metadata": {},
   "source": [
    "## Preprocesamiento"
   ]
  },
  {
   "cell_type": "markdown",
   "id": "56d64830",
   "metadata": {},
   "source": [
    "### Métricas exploratorias"
   ]
  },
  {
   "cell_type": "markdown",
   "id": "0820e4b1",
   "metadata": {},
   "source": [
    "#### Forma de los datos"
   ]
  },
  {
   "cell_type": "code",
   "execution_count": 3,
   "id": "232d4d35",
   "metadata": {},
   "outputs": [
    {
     "name": "stdout",
     "output_type": "stream",
     "text": [
      "celdas: 393  /  especies: 179\n",
      "['grid_id' 'Anairetes parulus' 'Anarhynchus falklandicus'\n",
      " 'Anas bahamensis' 'Anas flavirostris' 'Anas georgica' 'Anser anser'\n",
      " 'Anthus correndera' 'Aphrastura spinicauda' 'Aptenodytes patagonicus'\n",
      " 'Ardea ibis' 'Ardenna gravis' 'Ardenna grisea' 'Arenaria interpres'\n",
      " 'Asio flammeus' 'Asthenes anthoides' 'Astur chilensis'\n",
      " 'Attagis malouinus' 'Bubo magellanicus' 'Buteo ventralis' 'Calidris alba'\n",
      " 'Calidris bairdii' 'Calidris canutus' 'Calidris fuscicollis'\n",
      " 'Calidris himantopus' 'Calidris melanotos' 'Calidris pusilla'\n",
      " 'Calidris virgata' 'Campephilus magellanicus' 'Caracara plancus'\n",
      " 'Cathartes aura' 'Charadrius semipalmatus' 'Chionis albus'\n",
      " 'Chloephaga hybrida' 'Chloephaga picta' 'Chloephaga poliocephala'\n",
      " 'Chloephaga rubidiceps' 'Chroicocephalus maculipennis'\n",
      " 'Cinclodes antarcticus' 'Cinclodes fuscus' 'Cinclodes oustaleti'\n",
      " 'Cinclodes patagonicus' 'Circus cinereus' 'Cistothorus platensis'\n",
      " 'Colorhamphus parvirostris' 'Columba livia' 'Coscoroba coscoroba'\n",
      " 'Curaeus curaeus' 'Cygnus melancoryphus' 'Daption capense'\n",
      " 'Daptrius albogularis' 'Daptrius australis' 'Daptrius chimango'\n",
      " 'Diomedea epomophora' 'Diomedea exulans' 'Diuca diuca' 'Egretta thula'\n",
      " 'Elaenia albiceps' 'Enicognathus ferrugineus' 'Eudyptes chrysocome'\n",
      " 'Eudyptes chrysolophus' 'Falco femoralis' 'Falco peregrinus'\n",
      " 'Falco sparverius' 'Fregetta tropica' 'Fulica armillata'\n",
      " 'Fulica leucoptera' 'Fulica rufifrons' 'Fulmarus glacialoides'\n",
      " 'Gallinago magellanica' 'Gallinula galeata' 'Geositta antarctica'\n",
      " 'Geositta cunicularia' 'Geranoaetus melanoleucus' 'Geranoaetus polyosoma'\n",
      " 'Glaucidium nana' 'Haematopus ater' 'Haematopus leucopodus'\n",
      " 'Haematopus palliatus' 'Halobaena caerulea' 'Hirundo rustica'\n",
      " 'Larus dominicanus' 'Leistes loyca' 'Leptasthenura aegithaloides'\n",
      " 'Lessonia rufa' 'Leucocarbo atriceps' 'Leucocarbo magellanicus'\n",
      " 'Leucophaeus pipixcan' 'Leucophaeus scoresbii' 'Limosa haemastica'\n",
      " 'Lophonetta specularioides' 'Macronectes giganteus' 'Macronectes halli'\n",
      " 'Mareca sibilatrix' 'Megaceryle torquata' 'Melanodera melanodera'\n",
      " 'Melanodera xanthogramma' 'Merganetta armata' 'Mimus saturninus'\n",
      " 'Muscisaxicola capistratus' 'Muscisaxicola flavinucha'\n",
      " 'Muscisaxicola maclovianus' 'Nannopterum brasilianum'\n",
      " 'Neoxolmis rufiventris' 'Netta peposaca' 'Numenius phaeopus'\n",
      " 'Nycticorax nycticorax' 'Oceanites oceanicus' 'Oreopholus ruficollis'\n",
      " 'Pachyptila belcheri' 'Pachyptila desolata' 'Pardirallus sanguinolentus'\n",
      " 'Passer domesticus' 'Patagioenas araucana' 'Pelecanoides magellani'\n",
      " 'Pelecanoides urinatrix' 'Petrochelidon pyrrhonota' 'Phalaropus tricolor'\n",
      " 'Phoebetria palpebrata' 'Phoenicopterus chilensis' 'Phrygilus gayi'\n",
      " 'Phrygilus patagonicus' 'Pitangus sulphuratus' 'Pluvialis dominica'\n",
      " 'Pluvialis squatarola' 'Pluvianellus socialis' 'Podiceps major'\n",
      " 'Podiceps occipitalis' 'Poikilocarbo gaimardi'\n",
      " 'Procellaria aequinoctialis' 'Pterodroma mollis' 'Puffinus puffinus'\n",
      " 'Pygarrhichas albogularis' 'Pygochelidon cyanoleuca'\n",
      " 'Pygoscelis antarcticus' 'Pygoscelis papua' 'Pyrope pyrope'\n",
      " 'Rhopospina fruticeti' 'Riparia riparia' 'Rollandia rolland'\n",
      " 'Rynchops niger' 'Scytalopus magellanicus' 'Sephanoides sephaniodes'\n",
      " 'Sicalis lebruni' 'Spatula cyanoptera' 'Spatula platalea'\n",
      " 'Spatula versicolor' 'Speculanas specularis' 'Spheniscus magellanicus'\n",
      " 'Spinus barbatus' 'Stercorarius antarcticus' 'Stercorarius chilensis'\n",
      " 'Stercorarius maccormicki' 'Sterna hirundinacea' 'Sterna paradisaea'\n",
      " 'Strix rufipes' 'Tachycineta leucopyga' 'Tachyeres patachonicus'\n",
      " 'Tachyeres pteneres' 'Thalassarche chrysostoma'\n",
      " 'Thalassarche melanophris' 'Thalasseus elegans' 'Theristicus melanopis'\n",
      " 'Thinocorus rumicivorus' 'Tringa flavipes' 'Tringa melanoleuca'\n",
      " 'Troglodytes musculus' 'Turdus falcklandii' 'Tyrannus melancholicus'\n",
      " 'Tyrannus savana' 'Tyrannus tyrannus' 'Tyto furcata'\n",
      " 'Upucerthia dumetaria' 'Vanellus chilensis' 'Vultur gryphus'\n",
      " 'Zenaida auriculata' 'Zenaida meloda' 'Zonibyx modestus'\n",
      " 'Zonotrichia capensis']\n"
     ]
    }
   ],
   "source": [
    "print(f'celdas: {df.shape[0]}  /  especies: {df.shape[1]}')\n",
    "print(df.columns.values)"
   ]
  },
  {
   "cell_type": "markdown",
   "id": "d2255702",
   "metadata": {},
   "source": [
    "Si bien los datos contienen una gran cantidad de columnas (179), no se utiliza análisis de componenentes principales para reducir la dimensionalidad dado que la capacidad computacional es suficiente para procesar los modelos y se busca no perder información."
   ]
  },
  {
   "cell_type": "markdown",
   "id": "fa910170",
   "metadata": {},
   "source": [
    "#### Métricas por celda"
   ]
  },
  {
   "cell_type": "code",
   "execution_count": 4,
   "id": "23936bc6",
   "metadata": {},
   "outputs": [
    {
     "name": "stdout",
     "output_type": "stream",
     "text": [
      "Cantidad total de registros por celda\n",
      "0      170\n",
      "1      189\n",
      "2      179\n",
      "3       19\n",
      "4      555\n",
      "      ... \n",
      "388     15\n",
      "389     19\n",
      "390      2\n",
      "391    586\n",
      "392    264\n",
      "Name: total_registros, Length: 393, dtype: int64\n",
      "\n",
      "Riqueza\n",
      "0      48\n",
      "1      51\n",
      "2      57\n",
      "3      19\n",
      "4      70\n",
      "       ..\n",
      "388     3\n",
      "389    15\n",
      "390     1\n",
      "391    50\n",
      "392    41\n",
      "Name: riqueza, Length: 393, dtype: int64\n"
     ]
    }
   ],
   "source": [
    "spp_cols = df.columns.drop('grid_id')\n",
    "# Cantidad total de registros por celda\n",
    "df['total_registros'] = df[spp_cols].sum(axis=1)\n",
    "# Riqueza = cantidad de especies con al menos 1 registro\n",
    "df['riqueza'] = (df[spp_cols] > 0).sum(axis=1)\n",
    "\n",
    "print('Cantidad total de registros por celda')\n",
    "print(df['total_registros'])\n",
    "print('')\n",
    "\n",
    "print('Riqueza') # Cantidad de especies (spp) con al menos 1 registro\n",
    "print(df['riqueza'])\n"
   ]
  },
  {
   "cell_type": "code",
   "execution_count": 5,
   "id": "11b465b7",
   "metadata": {},
   "outputs": [
    {
     "name": "stdout",
     "output_type": "stream",
     "text": [
      "Riqueza media: 27.41730279898219\n",
      "Riqueza mediana: 19.0\n",
      "Riqueza mínima: 1\n",
      "Riqueza máxima: 144\n"
     ]
    }
   ],
   "source": [
    "# Métricas de riqueza de especies\n",
    "print(f'Riqueza media: {df['riqueza'].mean()}')\n",
    "print(f'Riqueza mediana: {df['riqueza'].median()}')\n",
    "print(f'Riqueza mínima: {df['riqueza'].min()}')\n",
    "print(f'Riqueza máxima: {df['riqueza'].max()}')"
   ]
  },
  {
   "cell_type": "markdown",
   "id": "a971cdef",
   "metadata": {},
   "source": [
    "La riqueza mediana es inferior a la media, lo que indica que hay celdas con valores extremos altos de riqueza."
   ]
  },
  {
   "cell_type": "markdown",
   "id": "a294c4a0",
   "metadata": {},
   "source": [
    "### Gráficos exploratorios"
   ]
  },
  {
   "cell_type": "markdown",
   "id": "888b3dc7",
   "metadata": {},
   "source": [
    "#### Distribución de registros"
   ]
  },
  {
   "cell_type": "markdown",
   "id": "d145f544",
   "metadata": {},
   "source": [
    "###### Histograma de total de registros por celda"
   ]
  },
  {
   "cell_type": "code",
   "execution_count": 6,
   "id": "2c0f5781",
   "metadata": {},
   "outputs": [
    {
     "data": {
      "image/png": "[encoded data removed]",
      "text/plain": [
       "<Figure size 800x500 with 1 Axes>"
      ]
     },
     "metadata": {},
     "output_type": "display_data"
    }
   ],
   "source": [
    "plt.figure(figsize=(8, 5))\n",
    "sns.histplot(df['total_registros'], bins=100, kde=True, color='cornflowerblue')\n",
    "plt.xlim(0, 20000)\n",
    "plt.title(\"Distribución de registros totales por celda\")\n",
    "plt.xlabel(\"Cantidad total de registros\")\n",
    "plt.ylabel(\"Número de celdas\")\n",
    "plt.grid(True)\n",
    "plt.tight_layout()\n",
    "plt.show()\n"
   ]
  },
  {
   "cell_type": "markdown",
   "id": "dc738115",
   "metadata": {},
   "source": [
    "La cantidad de registros por celda es menor a 1000 en la gran mayoría de las celdas."
   ]
  },
  {
   "cell_type": "markdown",
   "id": "5c247a85",
   "metadata": {},
   "source": [
    "###### Histograma de riqueza por celda"
   ]
  },
  {
   "cell_type": "code",
   "execution_count": 7,
   "id": "9cc56b25",
   "metadata": {},
   "outputs": [
    {
     "data": {
      "image/png": "[encoded data removed]",
      "text/plain": [
       "<Figure size 800x500 with 1 Axes>"
      ]
     },
     "metadata": {},
     "output_type": "display_data"
    }
   ],
   "source": [
    "plt.figure(figsize=(8, 5))\n",
    "sns.histplot(df['riqueza'], bins=30, kde=True, color='mediumseagreen')\n",
    "plt.title(\"Distribución de riqueza de especies por celda\")\n",
    "plt.xlabel(\"Riqueza de especies\")\n",
    "plt.ylabel(\"Número de celdas\")\n",
    "plt.grid(True)\n",
    "plt.tight_layout()\n",
    "plt.show()\n"
   ]
  },
  {
   "cell_type": "markdown",
   "id": "a577db86",
   "metadata": {},
   "source": [
    "La mayor parte de las celdas con requistros tienen una baja cantidad de especies"
   ]
  },
  {
   "cell_type": "markdown",
   "id": "f06b8342",
   "metadata": {},
   "source": [
    "### Borrar especies muy comunes o muy raras\n",
    "Las especies presentes en más de un 90% de las celdas o en menos de un 2% de las celdas se consideran muy comunes o muy raras. Las borro para mejorar el modelado."
   ]
  },
  {
   "cell_type": "code",
   "execution_count": 8,
   "id": "7eb51e58",
   "metadata": {},
   "outputs": [],
   "source": [
    "# Convertir 'grid_id' en índice:\n",
    "df_ind = df.set_index('grid_id')\n",
    "\n",
    "freq_rel = (df_ind > 0).sum(axis=0) / len(df_ind)\n",
    "umbral_inf, umbral_sup = 0.02, 0.90\n",
    "especies_útiles = freq_rel[(freq_rel >= umbral_inf) & (freq_rel <= umbral_sup)].index\n",
    "df_idx = df_ind[especies_útiles]"
   ]
  },
  {
   "cell_type": "markdown",
   "id": "32af1217",
   "metadata": {},
   "source": [
    "### TF-IDF\n",
    "Destaca las especies más raras y disminuye el efecto de las más comunes, para favorecer la diferenciación de las celdas al formase los clusters.\n",
    "\n",
    "Se normaliza el resultado obtenido"
   ]
  },
  {
   "cell_type": "code",
   "execution_count": 9,
   "id": "0830735b",
   "metadata": {},
   "outputs": [
    {
     "data": {
      "application/vnd.microsoft.datawrangler.viewer.v0+json": {
       "columns": [
        {
         "name": "grid_id",
         "rawType": "int64",
         "type": "integer"
        },
        {
         "name": "Anairetes parulus",
         "rawType": "float64",
         "type": "float"
        },
        {
         "name": "Anarhynchus falklandicus",
         "rawType": "float64",
         "type": "float"
        },
        {
         "name": "Anas bahamensis",
         "rawType": "float64",
         "type": "float"
        },
        {
         "name": "Anas flavirostris",
         "rawType": "float64",
         "type": "float"
        },
        {
         "name": "Anas georgica",
         "rawType": "float64",
         "type": "float"
        },
        {
         "name": "Anthus correndera",
         "rawType": "float64",
         "type": "float"
        },
        {
         "name": "Aphrastura spinicauda",
         "rawType": "float64",
         "type": "float"
        },
        {
         "name": "Aptenodytes patagonicus",
         "rawType": "float64",
         "type": "float"
        },
        {
         "name": "Ardea ibis",
         "rawType": "float64",
         "type": "float"
        },
        {
         "name": "Ardenna gravis",
         "rawType": "float64",
         "type": "float"
        },
        {
         "name": "Ardenna grisea",
         "rawType": "float64",
         "type": "float"
        },
        {
         "name": "Arenaria interpres",
         "rawType": "float64",
         "type": "float"
        },
        {
         "name": "Asio flammeus",
         "rawType": "float64",
         "type": "float"
        },
        {
         "name": "Asthenes anthoides",
         "rawType": "float64",
         "type": "float"
        },
        {
         "name": "Astur chilensis",
         "rawType": "float64",
         "type": "float"
        },
        {
         "name": "Attagis malouinus",
         "rawType": "float64",
         "type": "float"
        },
        {
         "name": "Bubo magellanicus",
         "rawType": "float64",
         "type": "float"
        },
        {
         "name": "Buteo ventralis",
         "rawType": "float64",
         "type": "float"
        },
        {
         "name": "Calidris alba",
         "rawType": "float64",
         "type": "float"
        },
        {
         "name": "Calidris bairdii",
         "rawType": "float64",
         "type": "float"
        },
        {
         "name": "Calidris canutus",
         "rawType": "float64",
         "type": "float"
        },
        {
         "name": "Calidris fuscicollis",
         "rawType": "float64",
         "type": "float"
        },
        {
         "name": "Calidris virgata",
         "rawType": "float64",
         "type": "float"
        },
        {
         "name": "Campephilus magellanicus",
         "rawType": "float64",
         "type": "float"
        },
        {
         "name": "Caracara plancus",
         "rawType": "float64",
         "type": "float"
        },
        {
         "name": "Cathartes aura",
         "rawType": "float64",
         "type": "float"
        },
        {
         "name": "Chionis albus",
         "rawType": "float64",
         "type": "float"
        },
        {
         "name": "Chloephaga hybrida",
         "rawType": "float64",
         "type": "float"
        },
        {
         "name": "Chloephaga picta",
         "rawType": "float64",
         "type": "float"
        },
        {
         "name": "Chloephaga poliocephala",
         "rawType": "float64",
         "type": "float"
        },
        {
         "name": "Chloephaga rubidiceps",
         "rawType": "float64",
         "type": "float"
        },
        {
         "name": "Chroicocephalus maculipennis",
         "rawType": "float64",
         "type": "float"
        },
        {
         "name": "Cinclodes antarcticus",
         "rawType": "float64",
         "type": "float"
        },
        {
         "name": "Cinclodes fuscus",
         "rawType": "float64",
         "type": "float"
        },
        {
         "name": "Cinclodes oustaleti",
         "rawType": "float64",
         "type": "float"
        },
        {
         "name": "Cinclodes patagonicus",
         "rawType": "float64",
         "type": "float"
        },
        {
         "name": "Circus cinereus",
         "rawType": "float64",
         "type": "float"
        },
        {
         "name": "Cistothorus platensis",
         "rawType": "float64",
         "type": "float"
        },
        {
         "name": "Colorhamphus parvirostris",
         "rawType": "float64",
         "type": "float"
        },
        {
         "name": "Columba livia",
         "rawType": "float64",
         "type": "float"
        },
        {
         "name": "Coscoroba coscoroba",
         "rawType": "float64",
         "type": "float"
        },
        {
         "name": "Curaeus curaeus",
         "rawType": "float64",
         "type": "float"
        },
        {
         "name": "Cygnus melancoryphus",
         "rawType": "float64",
         "type": "float"
        },
        {
         "name": "Daption capense",
         "rawType": "float64",
         "type": "float"
        },
        {
         "name": "Daptrius albogularis",
         "rawType": "float64",
         "type": "float"
        },
        {
         "name": "Daptrius australis",
         "rawType": "float64",
         "type": "float"
        },
        {
         "name": "Daptrius chimango",
         "rawType": "float64",
         "type": "float"
        },
        {
         "name": "Diomedea epomophora",
         "rawType": "float64",
         "type": "float"
        },
        {
         "name": "Elaenia albiceps",
         "rawType": "float64",
         "type": "float"
        },
        {
         "name": "Enicognathus ferrugineus",
         "rawType": "float64",
         "type": "float"
        },
        {
         "name": "Eudyptes chrysocome",
         "rawType": "float64",
         "type": "float"
        },
        {
         "name": "Falco femoralis",
         "rawType": "float64",
         "type": "float"
        },
        {
         "name": "Falco peregrinus",
         "rawType": "float64",
         "type": "float"
        },
        {
         "name": "Falco sparverius",
         "rawType": "float64",
         "type": "float"
        },
        {
         "name": "Fulica armillata",
         "rawType": "float64",
         "type": "float"
        },
        {
         "name": "Fulica leucoptera",
         "rawType": "float64",
         "type": "float"
        },
        {
         "name": "Fulmarus glacialoides",
         "rawType": "float64",
         "type": "float"
        },
        {
         "name": "Gallinago magellanica",
         "rawType": "float64",
         "type": "float"
        },
        {
         "name": "Geositta antarctica",
         "rawType": "float64",
         "type": "float"
        },
        {
         "name": "Geositta cunicularia",
         "rawType": "float64",
         "type": "float"
        },
        {
         "name": "Geranoaetus melanoleucus",
         "rawType": "float64",
         "type": "float"
        },
        {
         "name": "Geranoaetus polyosoma",
         "rawType": "float64",
         "type": "float"
        },
        {
         "name": "Glaucidium nana",
         "rawType": "float64",
         "type": "float"
        },
        {
         "name": "Haematopus ater",
         "rawType": "float64",
         "type": "float"
        },
        {
         "name": "Haematopus leucopodus",
         "rawType": "float64",
         "type": "float"
        },
        {
         "name": "Haematopus palliatus",
         "rawType": "float64",
         "type": "float"
        },
        {
         "name": "Hirundo rustica",
         "rawType": "float64",
         "type": "float"
        },
        {
         "name": "Larus dominicanus",
         "rawType": "float64",
         "type": "float"
        },
        {
         "name": "Leistes loyca",
         "rawType": "float64",
         "type": "float"
        },
        {
         "name": "Leptasthenura aegithaloides",
         "rawType": "float64",
         "type": "float"
        },
        {
         "name": "Lessonia rufa",
         "rawType": "float64",
         "type": "float"
        },
        {
         "name": "Leucocarbo atriceps",
         "rawType": "float64",
         "type": "float"
        },
        {
         "name": "Leucocarbo magellanicus",
         "rawType": "float64",
         "type": "float"
        },
        {
         "name": "Leucophaeus pipixcan",
         "rawType": "float64",
         "type": "float"
        },
        {
         "name": "Leucophaeus scoresbii",
         "rawType": "float64",
         "type": "float"
        },
        {
         "name": "Limosa haemastica",
         "rawType": "float64",
         "type": "float"
        },
        {
         "name": "Lophonetta specularioides",
         "rawType": "float64",
         "type": "float"
        },
        {
         "name": "Macronectes giganteus",
         "rawType": "float64",
         "type": "float"
        },
        {
         "name": "Macronectes halli",
         "rawType": "float64",
         "type": "float"
        },
        {
         "name": "Mareca sibilatrix",
         "rawType": "float64",
         "type": "float"
        },
        {
         "name": "Megaceryle torquata",
         "rawType": "float64",
         "type": "float"
        },
        {
         "name": "Melanodera melanodera",
         "rawType": "float64",
         "type": "float"
        },
        {
         "name": "Melanodera xanthogramma",
         "rawType": "float64",
         "type": "float"
        },
        {
         "name": "Muscisaxicola capistratus",
         "rawType": "float64",
         "type": "float"
        },
        {
         "name": "Muscisaxicola flavinucha",
         "rawType": "float64",
         "type": "float"
        },
        {
         "name": "Muscisaxicola maclovianus",
         "rawType": "float64",
         "type": "float"
        },
        {
         "name": "Nannopterum brasilianum",
         "rawType": "float64",
         "type": "float"
        },
        {
         "name": "Neoxolmis rufiventris",
         "rawType": "float64",
         "type": "float"
        },
        {
         "name": "Netta peposaca",
         "rawType": "float64",
         "type": "float"
        },
        {
         "name": "Numenius phaeopus",
         "rawType": "float64",
         "type": "float"
        },
        {
         "name": "Nycticorax nycticorax",
         "rawType": "float64",
         "type": "float"
        },
        {
         "name": "Oceanites oceanicus",
         "rawType": "float64",
         "type": "float"
        },
        {
         "name": "Oreopholus ruficollis",
         "rawType": "float64",
         "type": "float"
        },
        {
         "name": "Pachyptila belcheri",
         "rawType": "float64",
         "type": "float"
        },
        {
         "name": "Passer domesticus",
         "rawType": "float64",
         "type": "float"
        },
        {
         "name": "Pelecanoides magellani",
         "rawType": "float64",
         "type": "float"
        },
        {
         "name": "Pelecanoides urinatrix",
         "rawType": "float64",
         "type": "float"
        },
        {
         "name": "Phalaropus tricolor",
         "rawType": "float64",
         "type": "float"
        },
        {
         "name": "Phoenicopterus chilensis",
         "rawType": "float64",
         "type": "float"
        },
        {
         "name": "Phrygilus gayi",
         "rawType": "float64",
         "type": "float"
        },
        {
         "name": "Phrygilus patagonicus",
         "rawType": "float64",
         "type": "float"
        },
        {
         "name": "Pluvianellus socialis",
         "rawType": "float64",
         "type": "float"
        },
        {
         "name": "Podiceps major",
         "rawType": "float64",
         "type": "float"
        },
        {
         "name": "Podiceps occipitalis",
         "rawType": "float64",
         "type": "float"
        },
        {
         "name": "Procellaria aequinoctialis",
         "rawType": "float64",
         "type": "float"
        },
        {
         "name": "Pterodroma mollis",
         "rawType": "float64",
         "type": "float"
        },
        {
         "name": "Puffinus puffinus",
         "rawType": "float64",
         "type": "float"
        },
        {
         "name": "Pygarrhichas albogularis",
         "rawType": "float64",
         "type": "float"
        },
        {
         "name": "Pygochelidon cyanoleuca",
         "rawType": "float64",
         "type": "float"
        },
        {
         "name": "Pygoscelis papua",
         "rawType": "float64",
         "type": "float"
        },
        {
         "name": "Pyrope pyrope",
         "rawType": "float64",
         "type": "float"
        },
        {
         "name": "Rhopospina fruticeti",
         "rawType": "float64",
         "type": "float"
        },
        {
         "name": "Rollandia rolland",
         "rawType": "float64",
         "type": "float"
        },
        {
         "name": "Scytalopus magellanicus",
         "rawType": "float64",
         "type": "float"
        },
        {
         "name": "Sephanoides sephaniodes",
         "rawType": "float64",
         "type": "float"
        },
        {
         "name": "Sicalis lebruni",
         "rawType": "float64",
         "type": "float"
        },
        {
         "name": "Spatula cyanoptera",
         "rawType": "float64",
         "type": "float"
        },
        {
         "name": "Spatula platalea",
         "rawType": "float64",
         "type": "float"
        },
        {
         "name": "Spatula versicolor",
         "rawType": "float64",
         "type": "float"
        },
        {
         "name": "Speculanas specularis",
         "rawType": "float64",
         "type": "float"
        },
        {
         "name": "Spheniscus magellanicus",
         "rawType": "float64",
         "type": "float"
        },
        {
         "name": "Spinus barbatus",
         "rawType": "float64",
         "type": "float"
        },
        {
         "name": "Stercorarius antarcticus",
         "rawType": "float64",
         "type": "float"
        },
        {
         "name": "Stercorarius chilensis",
         "rawType": "float64",
         "type": "float"
        },
        {
         "name": "Sterna hirundinacea",
         "rawType": "float64",
         "type": "float"
        },
        {
         "name": "Strix rufipes",
         "rawType": "float64",
         "type": "float"
        },
        {
         "name": "Tachycineta leucopyga",
         "rawType": "float64",
         "type": "float"
        },
        {
         "name": "Tachyeres patachonicus",
         "rawType": "float64",
         "type": "float"
        },
        {
         "name": "Tachyeres pteneres",
         "rawType": "float64",
         "type": "float"
        },
        {
         "name": "Thalassarche chrysostoma",
         "rawType": "float64",
         "type": "float"
        },
        {
         "name": "Thalassarche melanophris",
         "rawType": "float64",
         "type": "float"
        },
        {
         "name": "Theristicus melanopis",
         "rawType": "float64",
         "type": "float"
        },
        {
         "name": "Thinocorus rumicivorus",
         "rawType": "float64",
         "type": "float"
        },
        {
         "name": "Tringa flavipes",
         "rawType": "float64",
         "type": "float"
        },
        {
         "name": "Tringa melanoleuca",
         "rawType": "float64",
         "type": "float"
        },
        {
         "name": "Troglodytes musculus",
         "rawType": "float64",
         "type": "float"
        },
        {
         "name": "Turdus falcklandii",
         "rawType": "float64",
         "type": "float"
        },
        {
         "name": "Tyto furcata",
         "rawType": "float64",
         "type": "float"
        },
        {
         "name": "Upucerthia dumetaria",
         "rawType": "float64",
         "type": "float"
        },
        {
         "name": "Vanellus chilensis",
         "rawType": "float64",
         "type": "float"
        },
        {
         "name": "Vultur gryphus",
         "rawType": "float64",
         "type": "float"
        },
        {
         "name": "Zenaida auriculata",
         "rawType": "float64",
         "type": "float"
        },
        {
         "name": "Zonibyx modestus",
         "rawType": "float64",
         "type": "float"
        },
        {
         "name": "Zonotrichia capensis",
         "rawType": "float64",
         "type": "float"
        }
       ],
       "ref": "4a4b87f0-2d96-4d50-8673-f7bbe8266be3",
       "rows": [
        [
         "25",
         "0.0",
         "0.0",
         "0.0",
         "0.0",
         "0.01978454688972018",
         "0.021280105228122948",
         "0.0",
         "0.0",
         "0.0",
         "0.15018534853688487",
         "0.3373255841145822",
         "0.0",
         "0.0",
         "0.0",
         "0.0",
         "0.0",
         "0.0",
         "0.0",
         "0.0",
         "0.0",
         "0.0",
         "0.0",
         "0.0",
         "0.0",
         "0.030687400150884267",
         "0.0",
         "0.03211099351294825",
         "0.07446161965744669",
         "0.014170765499766194",
         "0.017913580185430936",
         "0.0",
         "0.025967970988166875",
         "0.0",
         "0.019394637620160166",
         "0.0",
         "0.0",
         "0.030665962192234743",
         "0.028274750578204614",
         "0.0",
         "0.0",
         "0.0",
         "0.0",
         "0.0",
         "0.03793134071288763",
         "0.0",
         "0.03489896377246429",
         "0.04802339692788279",
         "0.0",
         "0.0",
         "0.0",
         "0.0",
         "0.0",
         "0.0",
         "0.0",
         "0.0",
         "0.0",
         "0.0",
         "0.023033215692387563",
         "0.0",
         "0.0",
         "0.0",
         "0.0",
         "0.0",
         "0.0",
         "0.06293345964491229",
         "0.0",
         "0.0",
         "0.16816723869632838",
         "0.018136570135252477",
         "0.0",
         "0.016286035786989304",
         "0.469982265523527",
         "0.16193376469571205",
         "0.0",
         "0.1693252759191253",
         "0.0",
         "0.0",
         "0.2797223202993664",
         "0.20277021263840195",
         "0.021434674609683145",
         "0.0",
         "0.0",
         "0.0",
         "0.0",
         "0.0",
         "0.023404215996354647",
         "0.0",
         "0.0",
         "0.0",
         "0.0",
         "0.0469982265523527",
         "0.0",
         "0.0",
         "0.048753702976308474",
         "0.0",
         "0.0",
         "0.0",
         "0.0",
         "0.0",
         "0.0",
         "0.020259115433671142",
         "0.0",
         "0.0",
         "0.0",
         "0.17166037190543673",
         "0.0",
         "0.0",
         "0.0",
         "0.027827903203531006",
         "0.0",
         "0.0",
         "0.0",
         "0.0",
         "0.0",
         "0.0",
         "0.0",
         "0.0",
         "0.0",
         "0.0",
         "0.0",
         "0.2558534196599569",
         "0.018422341875282622",
         "0.0",
         "0.21071177033707167",
         "0.29784647862978675",
         "0.0",
         "0.01727244458555882",
         "0.022675235663342577",
         "0.05654950115640923",
         "0.0",
         "0.41962032359691415",
         "0.015736949862638266",
         "0.0",
         "0.0",
         "0.0",
         "0.01933107738951924",
         "0.01706738473611736",
         "0.0",
         "0.0",
         "0.03454488917111764",
         "0.019522958607913844",
         "0.0",
         "0.023789219575021073",
         "0.014639877298994047"
        ],
        [
         "26",
         "0.12704096213915494",
         "0.0",
         "0.0",
         "0.08913699057495877",
         "0.09542695667495217",
         "0.03421349822434124",
         "0.15746274322603268",
         "0.0",
         "0.0",
         "0.0",
         "0.0",
         "0.0",
         "0.0",
         "0.0",
         "0.0",
         "0.0",
         "0.0",
         "0.0",
         "0.0",
         "0.10301185050159598",
         "0.0",
         "0.0",
         "0.0",
         "0.0411749552369389",
         "0.09867651492478437",
         "0.045956326054478205",
         "0.20650826821761814",
         "0.15962280039635812",
         "0.11391660310567277",
         "0.05760180575196305",
         "0.0",
         "0.0",
         "0.0",
         "0.15591050717694738",
         "0.15177252034895905",
         "0.15491060951616076",
         "0.049303790172295345",
         "0.22729636868116757",
         "0.0",
         "0.0",
         "0.0",
         "0.17420991987620985",
         "0.0",
         "0.0",
         "0.0",
         "0.0",
         "0.12868423251870362",
         "0.0",
         "0.07099103099682857",
         "0.0",
         "0.0",
         "0.0",
         "0.0",
         "0.0",
         "0.0",
         "0.0",
         "0.0",
         "0.1851604763567896",
         "0.0",
         "0.0",
         "0.0",
         "0.0",
         "0.0",
         "0.19017922276121207",
         "0.16863746574016844",
         "0.0",
         "0.0",
         "0.13518705525303237",
         "0.05831883850819047",
         "0.0",
         "0.13092093542454383",
         "0.18890575533563056",
         "0.21696010238535565",
         "0.0",
         "0.19445426222191411",
         "0.0",
         "0.11810379132376757",
         "0.18738705718865678",
         "0.0",
         "0.0",
         "0.0",
         "0.0",
         "0.0",
         "0.0",
         "0.0",
         "0.18814289070693882",
         "0.11109628581407373",
         "0.0",
         "0.0",
         "0.0",
         "0.15112460426850444",
         "0.0",
         "0.0",
         "0.0",
         "0.0",
         "0.0",
         "0.0",
         "0.0",
         "0.0",
         "0.0",
         "0.1628599112847928",
         "0.0",
         "0.0",
         "0.0",
         "0.05519805251352569",
         "0.0",
         "0.0",
         "0.0",
         "0.0",
         "0.0",
         "0.16984347800767635",
         "0.0",
         "0.0",
         "0.0",
         "0.0",
         "0.0",
         "0.0",
         "0.0",
         "0.0",
         "0.0",
         "0.0",
         "0.14809437131100725",
         "0.0",
         "0.04234698737971831",
         "0.19952850049544765",
         "0.0",
         "0.1388505239572481",
         "0.036456545998608356",
         "0.04545927373623351",
         "0.0",
         "0.2248842137194462",
         "0.1265069181778227",
         "0.0",
         "0.0",
         "0.0",
         "0.155399556264144",
         "0.13720207938436194",
         "0.0",
         "0.0",
         "0.05554020958289924",
         "0.0",
         "0.0",
         "0.07649515009096974",
         "0.11768772066779098"
        ],
        [
         "27",
         "0.0",
         "0.0",
         "0.0",
         "0.026418245042120148",
         "0.05656490551905387",
         "0.06084077378035538",
         "0.08400329375819358",
         "0.049078469031008515",
         "0.0",
         "0.10734665920942932",
         "0.087675359143854",
         "0.0",
         "0.0",
         "0.0",
         "0.0",
         "0.0",
         "0.0",
         "0.0",
         "0.0",
         "0.0",
         "0.0",
         "0.0",
         "0.0",
         "0.07322011097960716",
         "0.04386832561381745",
         "0.16344534072037853",
         "0.13771015259843733",
         "0.1064445525135493",
         "0.06077227970609439",
         "0.0768235918930788",
         "0.0",
         "0.0",
         "0.0",
         "0.08317520618559113",
         "0.0",
         "0.10330222542521636",
         "0.043837679571927",
         "0.08083877805975763",
         "0.0",
         "0.0",
         "0.0",
         "0.0619583899663414",
         "0.0",
         "0.0",
         "0.0",
         "0.29933310065261437",
         "0.09153402821812552",
         "0.0",
         "0.06312054425114849",
         "0.0",
         "0.0",
         "0.0",
         "0.0",
         "0.0",
         "0.0",
         "0.0",
         "0.0",
         "0.09877949265420238",
         "0.0",
         "0.0",
         "0.0",
         "0.0",
         "0.0",
         "0.08454741308436826",
         "0.08996478965740927",
         "0.0",
         "0.0",
         "0.21635894971849112",
         "0.07777989927128122",
         "0.0",
         "0.04656250561136856",
         "0.3695175943688204",
         "0.11574397118385565",
         "0.0",
         "0.3457918187989435",
         "0.0",
         "0.05250505227071087",
         "0.3332244332639007",
         "0.04831075983991485",
         "0.0",
         "0.0",
         "0.0",
         "0.0",
         "0.0",
         "0.0",
         "0.16728425396353036",
         "0.0329264975514008",
         "0.0",
         "0.0",
         "0.0",
         "0.06718501715796735",
         "0.0",
         "0.0",
         "0.06969451001154336",
         "0.0",
         "0.0",
         "0.0",
         "0.0",
         "0.0",
         "0.0",
         "0.05792171823761297",
         "0.0",
         "0.0",
         "0.0",
         "0.09815693806201703",
         "0.0",
         "0.0",
         "0.0",
         "0.0",
         "0.049478031199534776",
         "0.09060817361419723",
         "0.0",
         "0.0",
         "0.0",
         "0.0",
         "0.0",
         "0.0",
         "0.0",
         "0.0",
         "0.0",
         "0.1625547520099241",
         "0.07900545057389051",
         "0.0",
         "0.07530429839577192",
         "0.1064445525135493",
         "0.0",
         "0.07407403880749527",
         "0.0648295141692474",
         "0.08083877805975763",
         "0.0",
         "0.35991398878789227",
         "0.0674889665479833",
         "0.0",
         "0.0",
         "0.0",
         "0.08290262386710183",
         "0.07319462586915036",
         "0.0",
         "0.0",
         "0.049382692538330185",
         "0.08372551936098432",
         "0.0",
         "0.06801444405746135",
         "0.06278409716765458"
        ],
        [
         "28",
         "0.2747093855979488",
         "0.0",
         "0.0",
         "0.0",
         "0.0",
         "0.0",
         "0.2042954936006064",
         "0.0",
         "0.0",
         "0.0",
         "0.0",
         "0.0",
         "0.0",
         "0.0",
         "0.0",
         "0.0",
         "0.0",
         "0.0",
         "0.0",
         "0.0",
         "0.0",
         "0.0",
         "0.0",
         "0.0",
         "0.0",
         "0.2981235472918473",
         "0.0",
         "0.25887249682671076",
         "0.14779781035168843",
         "0.18683450283682757",
         "0.0",
         "0.0",
         "0.0",
         "0.0",
         "0.0",
         "0.0",
         "0.0",
         "0.29489911633692106",
         "0.0",
         "0.0",
         "0.0",
         "0.0",
         "0.0",
         "0.0",
         "0.0",
         "0.0",
         "0.1669576451064737",
         "0.0",
         "0.0",
         "0.23200743277641958",
         "0.0",
         "0.0",
         "0.0",
         "0.0",
         "0.0",
         "0.0",
         "0.0",
         "0.24023111840706124",
         "0.0",
         "0.0",
         "0.0",
         "0.0",
         "0.0",
         "0.0",
         "0.0",
         "0.0",
         "0.0",
         "0.0",
         "0.0",
         "0.0",
         "0.1698595907656485",
         "0.24509032257166766",
         "0.28148862581943407",
         "0.0",
         "0.0",
         "0.0",
         "0.0",
         "0.0",
         "0.0",
         "0.0",
         "0.0",
         "0.0",
         "0.0",
         "0.0",
         "0.0",
         "0.0",
         "0.24023111840706124",
         "0.0",
         "0.0",
         "0.0",
         "0.0",
         "0.0",
         "0.0",
         "0.0",
         "0.0",
         "0.0",
         "0.0",
         "0.0",
         "0.0",
         "0.0",
         "0.2112978935970745",
         "0.0",
         "0.0",
         "0.0",
         "0.0",
         "0.0",
         "0.0",
         "0.0",
         "0.0",
         "0.0",
         "0.0",
         "0.0",
         "0.0",
         "0.0",
         "0.0",
         "0.0",
         "0.0",
         "0.0",
         "0.0",
         "0.0",
         "0.0",
         "0.0",
         "0.0",
         "0.0",
         "0.0",
         "0.0",
         "0.18014760664895554",
         "0.23649746940670516",
         "0.0",
         "0.0",
         "0.0",
         "0.0",
         "0.0",
         "0.0",
         "0.0",
         "0.0",
         "0.0",
         "0.0",
         "0.0",
         "0.0",
         "0.0",
         "0.0",
         "0.24811606424661037",
         "0.15269053804075797"
        ],
        [
         "70",
         "0.014261058629492092",
         "0.0",
         "0.0",
         "0.070042880585043",
         "0.14997093547502993",
         "0.13826363600949967",
         "0.042422576944542933",
         "0.0",
         "0.0",
         "0.02032921139003311",
         "0.06641551485100776",
         "0.0",
         "0.0",
         "0.0",
         "0.0",
         "0.0",
         "0.0",
         "0.0",
         "0.02032921139003311",
         "0.03469096930940892",
         "0.0",
         "0.08274425865066981",
         "0.026397364150574133",
         "0.0",
         "0.049846458453274116",
         "0.030953127993839747",
         "0.0",
         "0.026877828340469298",
         "0.09974465213092583",
         "0.11639024825460784",
         "0.0",
         "0.05624073205346413",
         "0.0",
         "0.12601315114297992",
         "0.08518657189763175",
         "0.02608437366312384",
         "0.01660387871275194",
         "0.09185503972597381",
         "0.0",
         "0.0",
         "0.0",
         "0.1642707190706601",
         "0.0",
         "0.0",
         "0.0",
         "0.018895808911727274",
         "0.08667314952937427",
         "0.0",
         "0.15539823647624687",
         "0.0",
         "0.0",
         "0.0",
         "0.014060183013366033",
         "0.10369772700712475",
         "0.0",
         "0.0",
         "0.0",
         "0.06235589761111421",
         "0.0",
         "0.0",
         "0.0",
         "0.0",
         "0.0",
         "0.016011511170732327",
         "0.19309108813923642",
         "0.0",
         "0.0",
         "0.19121133966918255",
         "0.1178390851341904",
         "0.0",
         "0.08817964400516407",
         "0.3435327890487192",
         "0.18996888380390708",
         "0.0",
         "0.15716576630692786",
         "0.0",
         "0.06960350887133915",
         "0.2524229442829563",
         "0.03659618870048568",
         "0.04642264087270067",
         "0.0",
         "0.0",
         "0.0",
         "0.0",
         "0.019055920721610595",
         "0.0",
         "0.16212533378889693",
         "0.0",
         "0.0",
         "0.0",
         "0.10178749305147236",
         "0.02032921139003311",
         "0.0",
         "0.0",
         "0.0",
         "0.0",
         "0.0",
         "0.0",
         "0.0",
         "0.0",
         "0.12066077780883862",
         "0.0",
         "0.05131062460474501",
         "0.0",
         "0.05576661140524393",
         "0.0",
         "0.051630816863900156",
         "0.027115406128241114",
         "0.01506723078588517",
         "0.0",
         "0.16015339586636773",
         "0.0",
         "0.07435548187365856",
         "0.0",
         "0.0",
         "0.0",
         "0.0",
         "0.05546542854965227",
         "0.0",
         "0.0",
         "0.09235340737387046",
         "0.09974652945326448",
         "0.0",
         "0.1711327035539051",
         "0.3090950259153969",
         "0.0",
         "0.12157663442145615",
         "0.11049618281642891",
         "0.153091732876623",
         "0.0",
         "0.31808083766053863",
         "0.059644658671707505",
         "0.0",
         "0.01858887046841464",
         "0.0",
         "0.146533543376358",
         "0.13861530790681922",
         "0.0",
         "0.0",
         "0.07481639041320377",
         "0.0",
         "0.0",
         "0.025761025466515097",
         "0.11097328162266772"
        ]
       ],
       "shape": {
        "columns": 144,
        "rows": 5
       }
      },
      "text/html": [
       "<div>\n",
       "<style scoped>\n",
       "    .dataframe tbody tr th:only-of-type {\n",
       "        vertical-align: middle;\n",
       "    }\n",
       "\n",
       "    .dataframe tbody tr th {\n",
       "        vertical-align: top;\n",
       "    }\n",
       "\n",
       "    .dataframe thead th {\n",
       "        text-align: right;\n",
       "    }\n",
       "</style>\n",
       "<table border=\"1\" class=\"dataframe\">\n",
       "  <thead>\n",
       "    <tr style=\"text-align: right;\">\n",
       "      <th></th>\n",
       "      <th>Anairetes parulus</th>\n",
       "      <th>Anarhynchus falklandicus</th>\n",
       "      <th>Anas bahamensis</th>\n",
       "      <th>Anas flavirostris</th>\n",
       "      <th>Anas georgica</th>\n",
       "      <th>Anthus correndera</th>\n",
       "      <th>Aphrastura spinicauda</th>\n",
       "      <th>Aptenodytes patagonicus</th>\n",
       "      <th>Ardea ibis</th>\n",
       "      <th>Ardenna gravis</th>\n",
       "      <th>...</th>\n",
       "      <th>Tringa melanoleuca</th>\n",
       "      <th>Troglodytes musculus</th>\n",
       "      <th>Turdus falcklandii</th>\n",
       "      <th>Tyto furcata</th>\n",
       "      <th>Upucerthia dumetaria</th>\n",
       "      <th>Vanellus chilensis</th>\n",
       "      <th>Vultur gryphus</th>\n",
       "      <th>Zenaida auriculata</th>\n",
       "      <th>Zonibyx modestus</th>\n",
       "      <th>Zonotrichia capensis</th>\n",
       "    </tr>\n",
       "    <tr>\n",
       "      <th>grid_id</th>\n",
       "      <th></th>\n",
       "      <th></th>\n",
       "      <th></th>\n",
       "      <th></th>\n",
       "      <th></th>\n",
       "      <th></th>\n",
       "      <th></th>\n",
       "      <th></th>\n",
       "      <th></th>\n",
       "      <th></th>\n",
       "      <th></th>\n",
       "      <th></th>\n",
       "      <th></th>\n",
       "      <th></th>\n",
       "      <th></th>\n",
       "      <th></th>\n",
       "      <th></th>\n",
       "      <th></th>\n",
       "      <th></th>\n",
       "      <th></th>\n",
       "      <th></th>\n",
       "    </tr>\n",
       "  </thead>\n",
       "  <tbody>\n",
       "    <tr>\n",
       "      <th>25</th>\n",
       "      <td>0.000000</td>\n",
       "      <td>0.0</td>\n",
       "      <td>0.0</td>\n",
       "      <td>0.000000</td>\n",
       "      <td>0.019785</td>\n",
       "      <td>0.021280</td>\n",
       "      <td>0.000000</td>\n",
       "      <td>0.000000</td>\n",
       "      <td>0.0</td>\n",
       "      <td>0.150185</td>\n",
       "      <td>...</td>\n",
       "      <td>0.0</td>\n",
       "      <td>0.019331</td>\n",
       "      <td>0.017067</td>\n",
       "      <td>0.0</td>\n",
       "      <td>0.0</td>\n",
       "      <td>0.034545</td>\n",
       "      <td>0.019523</td>\n",
       "      <td>0.0</td>\n",
       "      <td>0.023789</td>\n",
       "      <td>0.014640</td>\n",
       "    </tr>\n",
       "    <tr>\n",
       "      <th>26</th>\n",
       "      <td>0.127041</td>\n",
       "      <td>0.0</td>\n",
       "      <td>0.0</td>\n",
       "      <td>0.089137</td>\n",
       "      <td>0.095427</td>\n",
       "      <td>0.034213</td>\n",
       "      <td>0.157463</td>\n",
       "      <td>0.000000</td>\n",
       "      <td>0.0</td>\n",
       "      <td>0.000000</td>\n",
       "      <td>...</td>\n",
       "      <td>0.0</td>\n",
       "      <td>0.155400</td>\n",
       "      <td>0.137202</td>\n",
       "      <td>0.0</td>\n",
       "      <td>0.0</td>\n",
       "      <td>0.055540</td>\n",
       "      <td>0.000000</td>\n",
       "      <td>0.0</td>\n",
       "      <td>0.076495</td>\n",
       "      <td>0.117688</td>\n",
       "    </tr>\n",
       "    <tr>\n",
       "      <th>27</th>\n",
       "      <td>0.000000</td>\n",
       "      <td>0.0</td>\n",
       "      <td>0.0</td>\n",
       "      <td>0.026418</td>\n",
       "      <td>0.056565</td>\n",
       "      <td>0.060841</td>\n",
       "      <td>0.084003</td>\n",
       "      <td>0.049078</td>\n",
       "      <td>0.0</td>\n",
       "      <td>0.107347</td>\n",
       "      <td>...</td>\n",
       "      <td>0.0</td>\n",
       "      <td>0.082903</td>\n",
       "      <td>0.073195</td>\n",
       "      <td>0.0</td>\n",
       "      <td>0.0</td>\n",
       "      <td>0.049383</td>\n",
       "      <td>0.083726</td>\n",
       "      <td>0.0</td>\n",
       "      <td>0.068014</td>\n",
       "      <td>0.062784</td>\n",
       "    </tr>\n",
       "    <tr>\n",
       "      <th>28</th>\n",
       "      <td>0.274709</td>\n",
       "      <td>0.0</td>\n",
       "      <td>0.0</td>\n",
       "      <td>0.000000</td>\n",
       "      <td>0.000000</td>\n",
       "      <td>0.000000</td>\n",
       "      <td>0.204295</td>\n",
       "      <td>0.000000</td>\n",
       "      <td>0.0</td>\n",
       "      <td>0.000000</td>\n",
       "      <td>...</td>\n",
       "      <td>0.0</td>\n",
       "      <td>0.000000</td>\n",
       "      <td>0.000000</td>\n",
       "      <td>0.0</td>\n",
       "      <td>0.0</td>\n",
       "      <td>0.000000</td>\n",
       "      <td>0.000000</td>\n",
       "      <td>0.0</td>\n",
       "      <td>0.248116</td>\n",
       "      <td>0.152691</td>\n",
       "    </tr>\n",
       "    <tr>\n",
       "      <th>70</th>\n",
       "      <td>0.014261</td>\n",
       "      <td>0.0</td>\n",
       "      <td>0.0</td>\n",
       "      <td>0.070043</td>\n",
       "      <td>0.149971</td>\n",
       "      <td>0.138264</td>\n",
       "      <td>0.042423</td>\n",
       "      <td>0.000000</td>\n",
       "      <td>0.0</td>\n",
       "      <td>0.020329</td>\n",
       "      <td>...</td>\n",
       "      <td>0.0</td>\n",
       "      <td>0.146534</td>\n",
       "      <td>0.138615</td>\n",
       "      <td>0.0</td>\n",
       "      <td>0.0</td>\n",
       "      <td>0.074816</td>\n",
       "      <td>0.000000</td>\n",
       "      <td>0.0</td>\n",
       "      <td>0.025761</td>\n",
       "      <td>0.110973</td>\n",
       "    </tr>\n",
       "  </tbody>\n",
       "</table>\n",
       "<p>5 rows × 144 columns</p>\n",
       "</div>"
      ],
      "text/plain": [
       "         Anairetes parulus  Anarhynchus falklandicus  Anas bahamensis  \\\n",
       "grid_id                                                                 \n",
       "25                0.000000                       0.0              0.0   \n",
       "26                0.127041                       0.0              0.0   \n",
       "27                0.000000                       0.0              0.0   \n",
       "28                0.274709                       0.0              0.0   \n",
       "70                0.014261                       0.0              0.0   \n",
       "\n",
       "         Anas flavirostris  Anas georgica  Anthus correndera  \\\n",
       "grid_id                                                        \n",
       "25                0.000000       0.019785           0.021280   \n",
       "26                0.089137       0.095427           0.034213   \n",
       "27                0.026418       0.056565           0.060841   \n",
       "28                0.000000       0.000000           0.000000   \n",
       "70                0.070043       0.149971           0.138264   \n",
       "\n",
       "         Aphrastura spinicauda  Aptenodytes patagonicus  Ardea ibis  \\\n",
       "grid_id                                                               \n",
       "25                    0.000000                 0.000000         0.0   \n",
       "26                    0.157463                 0.000000         0.0   \n",
       "27                    0.084003                 0.049078         0.0   \n",
       "28                    0.204295                 0.000000         0.0   \n",
       "70                    0.042423                 0.000000         0.0   \n",
       "\n",
       "         Ardenna gravis  ...  Tringa melanoleuca  Troglodytes musculus  \\\n",
       "grid_id                  ...                                             \n",
       "25             0.150185  ...                 0.0              0.019331   \n",
       "26             0.000000  ...                 0.0              0.155400   \n",
       "27             0.107347  ...                 0.0              0.082903   \n",
       "28             0.000000  ...                 0.0              0.000000   \n",
       "70             0.020329  ...                 0.0              0.146534   \n",
       "\n",
       "         Turdus falcklandii  Tyto furcata  Upucerthia dumetaria  \\\n",
       "grid_id                                                           \n",
       "25                 0.017067           0.0                   0.0   \n",
       "26                 0.137202           0.0                   0.0   \n",
       "27                 0.073195           0.0                   0.0   \n",
       "28                 0.000000           0.0                   0.0   \n",
       "70                 0.138615           0.0                   0.0   \n",
       "\n",
       "         Vanellus chilensis  Vultur gryphus  Zenaida auriculata  \\\n",
       "grid_id                                                           \n",
       "25                 0.034545        0.019523                 0.0   \n",
       "26                 0.055540        0.000000                 0.0   \n",
       "27                 0.049383        0.083726                 0.0   \n",
       "28                 0.000000        0.000000                 0.0   \n",
       "70                 0.074816        0.000000                 0.0   \n",
       "\n",
       "         Zonibyx modestus  Zonotrichia capensis  \n",
       "grid_id                                          \n",
       "25               0.023789              0.014640  \n",
       "26               0.076495              0.117688  \n",
       "27               0.068014              0.062784  \n",
       "28               0.248116              0.152691  \n",
       "70               0.025761              0.110973  \n",
       "\n",
       "[5 rows x 144 columns]"
      ]
     },
     "execution_count": 9,
     "metadata": {},
     "output_type": "execute_result"
    }
   ],
   "source": [
    "# Separar la matriz de valores (sin índice) para pasar a TfidfTransformer\n",
    "X = df_idx.values  # shape = (n_celdas, n_especies)\n",
    "\n",
    "# Crear y ajustar el transformador TF–IDF\n",
    "tfidf = TfidfTransformer(norm=None, use_idf=True, smooth_idf=True)\n",
    "X_tfidf = tfidf.fit_transform(X).toarray()  # array NumPy, idéntica forma que X\n",
    "\n",
    "# Normalizar cada fila para usar cosine distance\n",
    "X_norm = normalize(X_tfidf, norm='l2', axis=1)\n",
    "\n",
    "# 'Envolver' el array normalizado en un DataFrame que recupere el índice original\n",
    "#  y los nombres de especie como columnas.\n",
    "df_tfidf = pd.DataFrame(\n",
    "    X_norm,\n",
    "    index=df_idx.index,       # los grid_id originales\n",
    "    columns=df_idx.columns    # nombres de especies\n",
    ")\n",
    "\n",
    "\n",
    "df_tfidf.head()\n"
   ]
  },
  {
   "cell_type": "markdown",
   "id": "1589a4d0",
   "metadata": {},
   "source": [
    "## Modelado"
   ]
  },
  {
   "cell_type": "markdown",
   "id": "2f8a7d60",
   "metadata": {},
   "source": [
    "#### Preparar los datos para guardar los resultados de los modelos"
   ]
  },
  {
   "cell_type": "code",
   "execution_count": 11,
   "id": "d4331e6a",
   "metadata": {},
   "outputs": [],
   "source": [
    "# Copiar los datos para no modificar los datos preprocesados\n",
    "X = df_tfidf.copy()\n",
    "# Almacenar los nombres de las celdas\n",
    "id_grid = X.index\n",
    "\n",
    "# Cargar la grilla vacía\n",
    "ruta_grilla = \"../data/raw/grilla_tdf_vacia.gpkg\"\n",
    "gdf_grid = gpd.read_file(ruta_grilla)"
   ]
  },
  {
   "cell_type": "markdown",
   "id": "291cbc11",
   "metadata": {},
   "source": [
    "### Construcción y entrenamiento de modelos\n",
    "Se probaron cerca de 10 modelos distintos, mostrando unicamente los que dieron mejor resultado."
   ]
  },
  {
   "cell_type": "markdown",
   "id": "39932e15",
   "metadata": {},
   "source": [
    "#### K-means"
   ]
  },
  {
   "cell_type": "markdown",
   "id": "d2101d92",
   "metadata": {},
   "source": [
    "Buscar K óptimo"
   ]
  },
  {
   "cell_type": "code",
   "execution_count": 12,
   "id": "6d2eed33",
   "metadata": {},
   "outputs": [
    {
     "name": "stdout",
     "output_type": "stream",
     "text": [
      "Número ideal de clusters: 4\n"
     ]
    }
   ],
   "source": [
    "scores = {}\n",
    "for k in range(2, 11):\n",
    "    km = KMeans(n_clusters=k, random_state=0).fit(X)\n",
    "    scores[k] = silhouette_score(X, km.labels_)\n",
    "\n",
    "best_k = max(scores, key=scores.get)\n",
    "print(f'Número ideal de clusters: {best_k}')\n",
    "\n",
    "model_km = KMeans(n_clusters=best_k).fit(X)\n",
    "labels_km = model_km.labels_"
   ]
  },
  {
   "cell_type": "markdown",
   "id": "0375f923",
   "metadata": {},
   "source": [
    "#### Gaussian Mixture"
   ]
  },
  {
   "cell_type": "code",
   "execution_count": 13,
   "id": "930f4708",
   "metadata": {},
   "outputs": [],
   "source": [
    "# Partiendo de X_norm (TF–IDF + normalizado L2)\n",
    "n_components = 3  # Valor elegido luego de varias pruebas\n",
    "gmm = GaussianMixture(n_components=n_components, covariance_type='full', random_state=0)\n",
    "gmm.fit(X)\n",
    "labels_gmm = gmm.predict(X)"
   ]
  },
  {
   "cell_type": "markdown",
   "id": "6296d40f",
   "metadata": {},
   "source": [
    "#### Clustering espectral"
   ]
  },
  {
   "cell_type": "code",
   "execution_count": 14,
   "id": "d2162f92",
   "metadata": {},
   "outputs": [],
   "source": [
    "# Usar directamente X_norm con k-vecinos para construir grafo\n",
    "sp = SpectralClustering(\n",
    "    n_clusters=4,\n",
    "    affinity='nearest_neighbors',   # genera un grafo kNN\n",
    "    n_neighbors=10,\n",
    "    assign_labels='kmeans',\n",
    "    random_state=0\n",
    ")\n",
    "labels_sp = sp.fit_predict(X)\n",
    "\n"
   ]
  },
  {
   "cell_type": "markdown",
   "id": "23636078",
   "metadata": {},
   "source": [
    "### Evaluación de los modelos\n",
    "Dado que los modelos son de aprendizaje no supervisado, no es posible utilizar métricas que comparen los resultados contra etiquetas reales. En su lugar, se utilizan métricas que evalúan cuan bien se agrupan los datos"
   ]
  },
  {
   "cell_type": "markdown",
   "id": "0fd1b13c",
   "metadata": {},
   "source": [
    "##### Silhouette Score\n",
    "- Evalúa la compactación y separación de los clusters.\n",
    "- Rango: -1 a 1. Valores más cercanos a 1 indican mejor separación."
   ]
  },
  {
   "cell_type": "code",
   "execution_count": 15,
   "id": "2fe1f37c",
   "metadata": {},
   "outputs": [
    {
     "name": "stdout",
     "output_type": "stream",
     "text": [
      "silhouette para k-means: 0.07748399751812542\n",
      "silhouette para gausiano: 0.09380874687452652\n",
      "silhouette para espectral: 0.0815677953405538\n"
     ]
    }
   ],
   "source": [
    "# K-means\n",
    "silhouette_kmens = silhouette_score(X, labels_km)\n",
    "print(f'silhouette para k-means: {silhouette_kmens}')\n",
    "\n",
    "# Gaussian Mixture\n",
    "silhouette_gaus = silhouette_score(X, labels_gmm)\n",
    "print(f'silhouette para gausiano: {silhouette_gaus}')\n",
    "\n",
    "# Clustering espectral\n",
    "silhouette_espect = silhouette_score(X, labels_sp)\n",
    "print(f'silhouette para espectral: {silhouette_espect}')\n",
    "\n",
    "# Agrupar los resultados\n",
    "silhouette_total = [silhouette_kmens, silhouette_gaus, silhouette_espect]"
   ]
  },
  {
   "cell_type": "markdown",
   "id": "d4e94f38",
   "metadata": {},
   "source": [
    "#### Davies-Bouldin Index\n",
    "- Evalúa la distancia entre los centroides de los clusters.\n",
    "- Valores más bajos indican mejores clusters."
   ]
  },
  {
   "cell_type": "code",
   "execution_count": 16,
   "id": "a05bf948",
   "metadata": {},
   "outputs": [
    {
     "name": "stdout",
     "output_type": "stream",
     "text": [
      "davies_bouldin para k-means: 3.3415460445707277\n",
      "davies_bouldin para gausiano: 3.058984643611805\n",
      "davies_bouldin para espectral: 2.777926535875331\n"
     ]
    }
   ],
   "source": [
    "# K-means\n",
    "dbs_kmens = davies_bouldin_score(X, labels_km)\n",
    "print(f'davies_bouldin para k-means: {dbs_kmens}')\n",
    "\n",
    "# Gaussian Mixture\n",
    "dbs_gaus = davies_bouldin_score(X, labels_gmm)\n",
    "print(f'davies_bouldin para gausiano: {dbs_gaus}')\n",
    "\n",
    "# Clustering espectral\n",
    "dbs_espect = davies_bouldin_score(X, labels_sp)\n",
    "print(f'davies_bouldin para espectral: {dbs_espect}')\n",
    "\n",
    "# Agrupar los resultados\n",
    "dbs_total = [dbs_kmens, dbs_gaus, dbs_espect]"
   ]
  },
  {
   "cell_type": "markdown",
   "id": "af9ba348",
   "metadata": {},
   "source": [
    "#### Calinski-Harabasz Index\n",
    "- Mide la dispersión entre y dentro de los clusters.\n",
    "- Valores más altos indican mejores agrupamientos."
   ]
  },
  {
   "cell_type": "code",
   "execution_count": 17,
   "id": "ede7e640",
   "metadata": {},
   "outputs": [
    {
     "name": "stdout",
     "output_type": "stream",
     "text": [
      "calinski_harabasz para k-means: 26.50197745996215\n",
      "calinski_harabasz para gausiano: 31.21789650330717\n",
      "calinski_harabasz para espectral: 23.68927034757616\n"
     ]
    }
   ],
   "source": [
    "# K-means\n",
    "chs_kmens = calinski_harabasz_score(X, labels_km)\n",
    "print(f'calinski_harabasz para k-means: {chs_kmens}')\n",
    "\n",
    "# Gaussian Mixture\n",
    "chs_gaus = calinski_harabasz_score(X, labels_gmm)\n",
    "print(f'calinski_harabasz para gausiano: {chs_gaus}')\n",
    "\n",
    "# Clustering espectral\n",
    "chs_espect = calinski_harabasz_score(X, labels_sp)\n",
    "print(f'calinski_harabasz para espectral: {chs_espect}')\n",
    "\n",
    "# Agrupar los resultados\n",
    "chs_total = [chs_kmens, chs_gaus, chs_espect]"
   ]
  },
  {
   "cell_type": "markdown",
   "id": "d2641a00",
   "metadata": {},
   "source": [
    "#### Combinación de métricas\n",
    "Para elegir el mejor modelo se escala las métricas, su suma Silhouette y Calinski-Harabasz, mientras que se resta Davies-Bouldin. El mayor valor indica el mejor modelo."
   ]
  },
  {
   "cell_type": "code",
   "execution_count": 18,
   "id": "6655f15a",
   "metadata": {},
   "outputs": [
    {
     "name": "stdout",
     "output_type": "stream",
     "text": [
      "K-means: 0.12453388149022275\n",
      "Gaussian Mixture: 0.8337778688161239\n",
      "Clustering espectral: 0.4167199698500956\n"
     ]
    }
   ],
   "source": [
    "# Inicializo el escalador\n",
    "scaler = MinMaxScaler()\n",
    "\n",
    "# Invierto la métrica de Davies-Bouldin Index\n",
    "dbs_inv = [-x for x in dbs_total]\n",
    "\n",
    "# Uno las tres métricas\n",
    "metricas = np.array([silhouette_total, dbs_inv, chs_total]).T\n",
    "\n",
    "# Escalo los valores de cada métrica\n",
    "metricas_norm = scaler.fit_transform(metricas)\n",
    "\n",
    "# Combino las métricas normalizadas como promedio simple\n",
    "puntaje_total = metricas_norm.mean(axis=1)\n",
    "\n",
    "# Resultados\n",
    "print(f'K-means: {puntaje_total[0]}')\n",
    "print(f'Gaussian Mixture: {puntaje_total[1]}')\n",
    "print(f'Clustering espectral: {puntaje_total[2]}')\n"
   ]
  },
  {
   "cell_type": "markdown",
   "id": "dff4be81",
   "metadata": {},
   "source": [
    "Dado que el **modelo gaussiano** obtuvo un mejor puntaje, utilizo este modelo para los pasos siguientes"
   ]
  },
  {
   "cell_type": "markdown",
   "id": "5708d4a9",
   "metadata": {},
   "source": [
    "## Gráficos de resultados del modelo"
   ]
  },
  {
   "cell_type": "markdown",
   "id": "6d547db6",
   "metadata": {},
   "source": [
    "#### Preparar los datos"
   ]
  },
  {
   "cell_type": "code",
   "execution_count": 19,
   "id": "d2bb9062",
   "metadata": {},
   "outputs": [],
   "source": [
    "# Crear un DataFrame con el resultado del modelo\n",
    "df_clusters = pd.DataFrame({\n",
    "    'grid_id': id_grid,\n",
    "    'cluster': labels_gmm\n",
    "})\n",
    "\n",
    "# Unir el cluster a tu DataFrame de registros\n",
    "df = df.merge(df_clusters, on='grid_id', how='left')\n"
   ]
  },
  {
   "cell_type": "markdown",
   "id": "b55e10d7",
   "metadata": {},
   "source": [
    "#### Riqueza por cluster"
   ]
  },
  {
   "cell_type": "code",
   "execution_count": 20,
   "id": "6db64f19",
   "metadata": {},
   "outputs": [
    {
     "data": {
      "image/png": "[encoded data removed]",
      "text/plain": [
       "<Figure size 800x600 with 1 Axes>"
      ]
     },
     "metadata": {},
     "output_type": "display_data"
    }
   ],
   "source": [
    "plt.figure(figsize=(8, 6))\n",
    "sns.boxplot(data=df, x='cluster', y='riqueza', hue='cluster', palette='pastel', legend=False)\n",
    "plt.title('Distribución de riqueza por cluster (GMM)')\n",
    "plt.xlabel('Cluster')\n",
    "plt.ylabel('Riqueza')\n",
    "plt.grid(True, axis='y')\n",
    "plt.tight_layout()\n",
    "plt.show()"
   ]
  },
  {
   "cell_type": "markdown",
   "id": "c3eb95ad",
   "metadata": {},
   "source": [
    "Se observa que la riqueza específica es similar entre los tres clusters del modelo"
   ]
  },
  {
   "cell_type": "markdown",
   "id": "7ac1316e",
   "metadata": {},
   "source": [
    "#### Celdas por cluster"
   ]
  },
  {
   "cell_type": "code",
   "execution_count": 21,
   "id": "65d7fb58",
   "metadata": {},
   "outputs": [
    {
     "data": {
      "image/png": "[encoded data removed]",
      "text/plain": [
       "<Figure size 600x400 with 1 Axes>"
      ]
     },
     "metadata": {},
     "output_type": "display_data"
    }
   ],
   "source": [
    "plt.figure(figsize=(6, 4))\n",
    "sns.countplot(data=df, x='cluster', hue='cluster', palette='pastel', legend=False)\n",
    "plt.title('Cantidad de celdas por cluster')\n",
    "plt.xlabel('Cluster')\n",
    "plt.ylabel('Número de celdas')\n",
    "plt.grid(axis='y', linestyle='--', alpha=0.7)\n",
    "plt.tight_layout()\n",
    "plt.show()"
   ]
  },
  {
   "cell_type": "markdown",
   "id": "19d1c59a",
   "metadata": {},
   "source": [
    "Se observa que los tres clusters tienen un tamaño similar, siendo el primero algo más grande."
   ]
  },
  {
   "cell_type": "markdown",
   "id": "dbf3b48c",
   "metadata": {},
   "source": [
    "## Exportar grilla espacial con los resultados de los modelos\n",
    "Para permitir la visualización en el mapa"
   ]
  },
  {
   "cell_type": "code",
   "execution_count": 22,
   "id": "0169a738",
   "metadata": {},
   "outputs": [],
   "source": [
    "# Preparar los datos para la grilla espacial\n",
    "clusters = labels_gmm\n",
    "nombre_modelo = 'GaussianMixture'"
   ]
  },
  {
   "cell_type": "code",
   "execution_count": 23,
   "id": "a64c0590",
   "metadata": {},
   "outputs": [],
   "source": [
    "# Agregar el resultado del modelo a la grilla espacial\n",
    "gdf_grid = utils.grillar_res_mod(\n",
    "    grilla=gdf_grid,\n",
    "    id_grid=id_grid,\n",
    "    clusters=clusters,\n",
    "    nombre=nombre_modelo\n",
    ")"
   ]
  },
  {
   "cell_type": "code",
   "execution_count": 24,
   "id": "56445ade",
   "metadata": {},
   "outputs": [
    {
     "name": "stdout",
     "output_type": "stream",
     "text": [
      "Grilla con clusters guardada en: ../data/processed/grilla_tdf_clusters.gpkg\n"
     ]
    }
   ],
   "source": [
    "# Guardo el resultado en un nuevo .gpkg\n",
    "ruta_salida = \"../data/processed/grilla_tdf_clusters.gpkg\"\n",
    "gdf_grid.to_file(ruta_salida, driver=\"GPKG\", layer=\"grilla_clusters\")\n",
    "\n",
    "print(\"Grilla con clusters guardada en:\", ruta_salida)"
   ]
  },
  {
   "cell_type": "markdown",
   "id": "81adec2f",
   "metadata": {},
   "source": [
    "La grilla espacial obtenida luego del modelado se continua procesando en el notebook 04-postprocesamiento"
   ]
  }
 ],
 "metadata": {
  "kernelspec": {
   "display_name": "Python 3",
   "language": "python",
   "name": "python3"
  },
  "language_info": {
   "codemirror_mode": {
    "name": "ipython",
    "version": 3
   },
   "file_extension": ".py",
   "mimetype": "text/x-python",
   "name": "python",
   "nbconvert_exporter": "python",
   "pygments_lexer": "ipython3",
   "version": "3.13.0"
  }
 },
 "nbformat": 4,
 "nbformat_minor": 5
}
