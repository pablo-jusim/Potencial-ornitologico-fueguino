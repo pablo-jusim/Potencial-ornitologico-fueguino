{
 "cells": [
  {
   "cell_type": "markdown",
   "id": "dc9ef0b7",
   "metadata": {},
   "source": [
    "# Potencial Ornitológico Fueguino\n",
    "### **Autor:** Pablo Jusim"
   ]
  },
  {
   "cell_type": "markdown",
   "id": "30c3c795",
   "metadata": {},
   "source": [
    "# Script principal del modelado\n",
    "\n",
    "En este script se realizará la **creación**, **entrenamiento** y **evaluación** del modelo de aprendizaje automático.\n",
    "\n",
    "### **Objetivo**\n",
    "Clasificar cada área de la provincia de Tierra del Fuego según su potencial ornitológico."
   ]
  },
  {
   "cell_type": "markdown",
   "id": "3b45eb2b",
   "metadata": {},
   "source": [
    "Se utilizarán módulos de Python creados para este proyecto además de módulos de terceros.\n",
    "\n",
    "El preprocesamiento de los datos se realizará en otros notebook (01a, 01b y 02) dentro de este proyecto.\n",
    "\n",
    "El producto obtenido del modelado se continua procesando en otro notebook (03) para generar la grilla espacial final. El producto final del trabajo es un mapa que se genera en Qgis a partir de la griila obtenida mediante el modelo.\n"
   ]
  },
  {
   "cell_type": "markdown",
   "id": "683f0d69",
   "metadata": {},
   "source": [
    "## Importaciones"
   ]
  },
  {
   "cell_type": "code",
   "execution_count": null,
   "id": "86b4ebe3",
   "metadata": {},
   "outputs": [],
   "source": [
    "import pandas as pd\n",
    "import matplotlib.pyplot as plt\n",
    "import seaborn as sns\n",
    "import numpy as np\n",
    "from sklearn.cluster import KMeans, SpectralClustering\n",
    "from sklearn.mixture import GaussianMixture\n",
    "from sklearn.metrics import silhouette_score, davies_bouldin_score, calinski_harabasz_score\n",
    "from sklearn.preprocessing import  normalize, MinMaxScaler\n",
    "from sklearn.feature_extraction.text import TfidfTransformer\n",
    "import geopandas as gpd\n",
    "from pathlib import Path\n",
    "import sys\n",
    "\n",
    "\n",
    "# Modulos propios\n",
    "sys.path.append(str(Path('..')/'src'))\n",
    "\n",
    "import utils"
   ]
  },
  {
   "cell_type": "markdown",
   "id": "0e41e843",
   "metadata": {},
   "source": [
    "## Carga de datos"
   ]
  },
  {
   "cell_type": "code",
   "execution_count": null,
   "id": "a1070a80",
   "metadata": {},
   "outputs": [],
   "source": [
    "ruta_registros = '../data/interim/grilla_tdf_spp.csv'\n",
    "try:\n",
    "    df = pd.read_csv(ruta_registros)\n",
    "except FileNotFoundError:\n",
    "    print('No se encuentra el archivo en la ruta ' + ruta_registros)"
   ]
  },
  {
   "cell_type": "markdown",
   "id": "10a0c709",
   "metadata": {},
   "source": [
    "## Preprocesamiento"
   ]
  },
  {
   "cell_type": "markdown",
   "id": "56d64830",
   "metadata": {},
   "source": [
    "### Métricas exploratorias"
   ]
  },
  {
   "cell_type": "markdown",
   "id": "0820e4b1",
   "metadata": {},
   "source": [
    "#### Forma de los datos"
   ]
  },
  {
   "cell_type": "code",
   "execution_count": null,
   "id": "232d4d35",
   "metadata": {},
   "outputs": [],
   "source": [
    "print(f'celdas: {df.shape[0]}  /  especies: {df.shape[1]}')\n",
    "print(df.columns.values)"
   ]
  },
  {
   "cell_type": "markdown",
   "id": "d2255702",
   "metadata": {},
   "source": [
    "Si bien los datos contienen una gran cantidad de columnas (179), no se utiliza análisis de componenentes principales para reducir la dimensionalidad dado que la capacidad computacional es suficiente para procesar los modelos y se busca no perder información."
   ]
  },
  {
   "cell_type": "markdown",
   "id": "fa910170",
   "metadata": {},
   "source": [
    "#### Métricas por celda"
   ]
  },
  {
   "cell_type": "code",
   "execution_count": null,
   "id": "23936bc6",
   "metadata": {},
   "outputs": [],
   "source": [
    "spp_cols = df.columns.drop('grid_id')\n",
    "# Cantidad total de registros por celda\n",
    "df['total_registros'] = df[spp_cols].sum(axis=1)\n",
    "# Riqueza = cantidad de especies con al menos 1 registro\n",
    "df['riqueza'] = (df[spp_cols] > 0).sum(axis=1)\n",
    "\n",
    "print('Celda', end= ' | ')\n",
    "print('Cantidad total de registros por celda', end=' | ')\n",
    "print('Riqueza')  # Cantidad de especies (spp) con al menos 1 registro\n",
    "for i in range(len(df)):\n",
    "    print(df['grid_id'][i], end='    |      ')\n",
    "    print(df['total_registros'][i], end='                             | ')\n",
    "    print(df['riqueza'][i])\n"
   ]
  },
  {
   "cell_type": "code",
   "execution_count": null,
   "id": "11b465b7",
   "metadata": {},
   "outputs": [],
   "source": [
    "# Métricas de riqueza de especies\n",
    "print(f'Riqueza media: {df['riqueza'].mean()}')\n",
    "print(f'Riqueza mediana: {df['riqueza'].median()}')\n",
    "print(f'Riqueza mínima: {df['riqueza'].min()}')\n",
    "print(f'Riqueza máxima: {df['riqueza'].max()}')"
   ]
  },
  {
   "cell_type": "markdown",
   "id": "a971cdef",
   "metadata": {},
   "source": [
    "La riqueza mediana es inferior a la media, lo que indica que hay celdas con valores extremos altos de riqueza."
   ]
  },
  {
   "cell_type": "markdown",
   "id": "a294c4a0",
   "metadata": {},
   "source": [
    "### Gráficos exploratorios"
   ]
  },
  {
   "cell_type": "markdown",
   "id": "888b3dc7",
   "metadata": {},
   "source": [
    "#### Distribución de registros"
   ]
  },
  {
   "cell_type": "markdown",
   "id": "d145f544",
   "metadata": {},
   "source": [
    "###### Histograma de total de registros por celda"
   ]
  },
  {
   "cell_type": "code",
   "execution_count": null,
   "id": "2c0f5781",
   "metadata": {},
   "outputs": [],
   "source": [
    "plt.figure(figsize=(8, 5))\n",
    "sns.histplot(df['total_registros'], bins=100, kde=True, color='cornflowerblue')\n",
    "plt.xlim(0, 20000)\n",
    "plt.title(\"Distribución de registros totales por celda\")\n",
    "plt.xlabel(\"Cantidad total de registros\")\n",
    "plt.ylabel(\"Número de celdas\")\n",
    "plt.grid(True)\n",
    "plt.tight_layout()\n",
    "plt.show()\n"
   ]
  },
  {
   "cell_type": "markdown",
   "id": "dc738115",
   "metadata": {},
   "source": [
    "La cantidad de registros por celda es menor a 1000 en la gran mayoría de las celdas."
   ]
  },
  {
   "cell_type": "markdown",
   "id": "5c247a85",
   "metadata": {},
   "source": [
    "###### Histograma de riqueza por celda"
   ]
  },
  {
   "cell_type": "code",
   "execution_count": null,
   "id": "9cc56b25",
   "metadata": {},
   "outputs": [],
   "source": [
    "plt.figure(figsize=(8, 5))\n",
    "sns.histplot(df['riqueza'], bins=30, kde=True, color='mediumseagreen')\n",
    "plt.title(\"Distribución de riqueza de especies por celda\")\n",
    "plt.xlabel(\"Riqueza de especies\")\n",
    "plt.ylabel(\"Número de celdas\")\n",
    "plt.grid(True)\n",
    "plt.tight_layout()\n",
    "plt.show()\n"
   ]
  },
  {
   "cell_type": "markdown",
   "id": "a577db86",
   "metadata": {},
   "source": [
    "La mayor parte de las celdas con requistros tienen una baja cantidad de especies"
   ]
  },
  {
   "cell_type": "markdown",
   "id": "f06b8342",
   "metadata": {},
   "source": [
    "### Borrar especies muy comunes o muy raras\n",
    "Las especies presentes en más de un 90% de las celdas o en menos de un 2% de las celdas se consideran muy comunes o muy raras. Las borro para mejorar el modelado."
   ]
  },
  {
   "cell_type": "code",
   "execution_count": null,
   "id": "7eb51e58",
   "metadata": {},
   "outputs": [],
   "source": [
    "# Convertir 'grid_id' en índice:\n",
    "df_ind = df.set_index('grid_id')\n",
    "\n",
    "freq_rel = (df_ind > 0).sum(axis=0) / len(df_ind)\n",
    "umbral_inf, umbral_sup = 0.02, 0.90\n",
    "especies_útiles = freq_rel[(freq_rel >= umbral_inf) & (freq_rel <= umbral_sup)].index\n",
    "df_idx = df_ind[especies_útiles]"
   ]
  },
  {
   "cell_type": "markdown",
   "id": "32af1217",
   "metadata": {},
   "source": [
    "### TF-IDF y normalización\n",
    "Destaca las especies más raras y disminuye el efecto de las más comunes, para favorecer la diferenciación de las celdas al formase los clusters.\n",
    "\n",
    "Se normaliza el resultado obtenido"
   ]
  },
  {
   "cell_type": "code",
   "execution_count": null,
   "id": "0830735b",
   "metadata": {},
   "outputs": [],
   "source": [
    "# Separar la matriz de valores (sin índice) para pasar a TfidfTransformer\n",
    "X = df_idx.values  # shape = (n_celdas, n_especies)\n",
    "\n",
    "# Crear y ajustar el transformador TF–IDF\n",
    "tfidf = TfidfTransformer(norm=None, use_idf=True, smooth_idf=True)\n",
    "X_tfidf = tfidf.fit_transform(X).toarray()  # array NumPy, idéntica forma que X\n",
    "\n",
    "# Normalizar cada fila para usar cosine distance\n",
    "X_norm = normalize(X_tfidf, norm='l2', axis=1)\n",
    "\n",
    "# 'Envolver' el array normalizado en un DataFrame que recupere el índice original\n",
    "#  y los nombres de especie como columnas.\n",
    "df_tfidf = pd.DataFrame(\n",
    "    X_norm,\n",
    "    index=df_idx.index,       # los grid_id originales\n",
    "    columns=df_idx.columns    # nombres de especies\n",
    ")\n",
    "\n",
    "\n",
    "df_tfidf.head()\n"
   ]
  },
  {
   "cell_type": "markdown",
   "id": "1589a4d0",
   "metadata": {},
   "source": [
    "## Modelado"
   ]
  },
  {
   "cell_type": "markdown",
   "id": "2f8a7d60",
   "metadata": {},
   "source": [
    "#### Preparar los datos para guardar los resultados de los modelos"
   ]
  },
  {
   "cell_type": "code",
   "execution_count": null,
   "id": "d4331e6a",
   "metadata": {},
   "outputs": [],
   "source": [
    "# Copiar los datos para no modificar los datos preprocesados\n",
    "X = df_tfidf.copy()\n",
    "# Almacenar los nombres de las celdas\n",
    "id_grid = X.index\n",
    "\n",
    "# Cargar la grilla vacía\n",
    "ruta_grilla = \"../data/raw/grilla_tdf_vacia.gpkg\"\n",
    "gdf_grid = gpd.read_file(ruta_grilla)"
   ]
  },
  {
   "cell_type": "markdown",
   "id": "291cbc11",
   "metadata": {},
   "source": [
    "### Construcción y entrenamiento de modelos\n",
    "Se probaron cerca de 10 modelos distintos, mostrando unicamente los que dieron mejor resultado."
   ]
  },
  {
   "cell_type": "markdown",
   "id": "39932e15",
   "metadata": {},
   "source": [
    "#### K-means"
   ]
  },
  {
   "cell_type": "markdown",
   "id": "d2101d92",
   "metadata": {},
   "source": [
    "Buscar K óptimo"
   ]
  },
  {
   "cell_type": "code",
   "execution_count": null,
   "id": "6d2eed33",
   "metadata": {},
   "outputs": [],
   "source": [
    "scores = {}\n",
    "for k in range(2, 11):\n",
    "    km = KMeans(n_clusters=k, random_state=0).fit(X)\n",
    "    scores[k] = silhouette_score(X, km.labels_)\n",
    "\n",
    "best_k = max(scores, key=scores.get)\n",
    "print(f'Número ideal de clusters: {best_k}')\n",
    "\n",
    "model_km = KMeans(n_clusters=best_k).fit(X)\n",
    "labels_km = model_km.labels_"
   ]
  },
  {
   "cell_type": "markdown",
   "id": "0375f923",
   "metadata": {},
   "source": [
    "#### Gaussian Mixture"
   ]
  },
  {
   "cell_type": "code",
   "execution_count": null,
   "id": "930f4708",
   "metadata": {},
   "outputs": [],
   "source": [
    "# Partiendo de X_norm (TF–IDF + normalizado L2)\n",
    "n_components = 3  # Cantidad óptima de clusters elegido luego de varias pruebas\n",
    "gmm = GaussianMixture(n_components=n_components, covariance_type='full', random_state=0)\n",
    "gmm.fit(X)\n",
    "labels_gmm = gmm.predict(X)"
   ]
  },
  {
   "cell_type": "markdown",
   "id": "6296d40f",
   "metadata": {},
   "source": [
    "#### Clustering espectral"
   ]
  },
  {
   "cell_type": "code",
   "execution_count": null,
   "id": "d2162f92",
   "metadata": {},
   "outputs": [],
   "source": [
    "# Usar directamente X_norm con k-vecinos para construir grafo\n",
    "sp = SpectralClustering(\n",
    "    n_clusters=4,\n",
    "    affinity='nearest_neighbors',   # genera un grafo kNN\n",
    "    n_neighbors=10,\n",
    "    assign_labels='kmeans',\n",
    "    random_state=0\n",
    ")\n",
    "labels_sp = sp.fit_predict(X)\n",
    "\n"
   ]
  },
  {
   "cell_type": "markdown",
   "id": "23636078",
   "metadata": {},
   "source": [
    "### Evaluación de los modelos\n",
    "Dado que los modelos son de aprendizaje no supervisado, no es posible utilizar métricas que comparen los resultados contra etiquetas reales. En su lugar, se utilizan métricas que evalúan cuan bien se agrupan los datos"
   ]
  },
  {
   "cell_type": "markdown",
   "id": "0fd1b13c",
   "metadata": {},
   "source": [
    "##### Silhouette Score\n",
    "- Evalúa la compactación y separación de los clusters.\n",
    "- Rango: -1 a 1. Valores más cercanos a 1 indican mejor separación."
   ]
  },
  {
   "cell_type": "code",
   "execution_count": null,
   "id": "2fe1f37c",
   "metadata": {},
   "outputs": [],
   "source": [
    "# K-means\n",
    "silhouette_kmens = silhouette_score(X, labels_km)\n",
    "print(f'silhouette para k-means: {silhouette_kmens}')\n",
    "\n",
    "# Gaussian Mixture\n",
    "silhouette_gaus = silhouette_score(X, labels_gmm)\n",
    "print(f'silhouette para gausiano: {silhouette_gaus}')\n",
    "\n",
    "# Clustering espectral\n",
    "silhouette_espect = silhouette_score(X, labels_sp)\n",
    "print(f'silhouette para espectral: {silhouette_espect}')\n",
    "\n",
    "# Agrupar los resultados\n",
    "silhouette_total = [silhouette_kmens, silhouette_gaus, silhouette_espect]"
   ]
  },
  {
   "cell_type": "markdown",
   "id": "d4e94f38",
   "metadata": {},
   "source": [
    "#### Davies-Bouldin Index\n",
    "- Evalúa la distancia entre los centroides de los clusters.\n",
    "- Valores más bajos indican mejores clusters."
   ]
  },
  {
   "cell_type": "code",
   "execution_count": null,
   "id": "a05bf948",
   "metadata": {},
   "outputs": [],
   "source": [
    "# K-means\n",
    "dbs_kmens = davies_bouldin_score(X, labels_km)\n",
    "print(f'davies_bouldin para k-means: {dbs_kmens}')\n",
    "\n",
    "# Gaussian Mixture\n",
    "dbs_gaus = davies_bouldin_score(X, labels_gmm)\n",
    "print(f'davies_bouldin para gausiano: {dbs_gaus}')\n",
    "\n",
    "# Clustering espectral\n",
    "dbs_espect = davies_bouldin_score(X, labels_sp)\n",
    "print(f'davies_bouldin para espectral: {dbs_espect}')\n",
    "\n",
    "# Agrupar los resultados\n",
    "dbs_total = [dbs_kmens, dbs_gaus, dbs_espect]"
   ]
  },
  {
   "cell_type": "markdown",
   "id": "af9ba348",
   "metadata": {},
   "source": [
    "#### Calinski-Harabasz Index\n",
    "- Mide la dispersión entre y dentro de los clusters.\n",
    "- Valores más altos indican mejores agrupamientos."
   ]
  },
  {
   "cell_type": "code",
   "execution_count": null,
   "id": "ede7e640",
   "metadata": {},
   "outputs": [],
   "source": [
    "# K-means\n",
    "chs_kmens = calinski_harabasz_score(X, labels_km)\n",
    "print(f'calinski_harabasz para k-means: {chs_kmens}')\n",
    "\n",
    "# Gaussian Mixture\n",
    "chs_gaus = calinski_harabasz_score(X, labels_gmm)\n",
    "print(f'calinski_harabasz para gausiano: {chs_gaus}')\n",
    "\n",
    "# Clustering espectral\n",
    "chs_espect = calinski_harabasz_score(X, labels_sp)\n",
    "print(f'calinski_harabasz para espectral: {chs_espect}')\n",
    "\n",
    "# Agrupar los resultados\n",
    "chs_total = [chs_kmens, chs_gaus, chs_espect]"
   ]
  },
  {
   "cell_type": "markdown",
   "id": "d2641a00",
   "metadata": {},
   "source": [
    "#### Combinación de métricas\n",
    "Para elegir el mejor modelo se escala las métricas, su suma Silhouette y Calinski-Harabasz, mientras que se resta Davies-Bouldin. El mayor valor indica el mejor modelo."
   ]
  },
  {
   "cell_type": "code",
   "execution_count": null,
   "id": "6655f15a",
   "metadata": {},
   "outputs": [],
   "source": [
    "# Inicializo el escalador\n",
    "scaler = MinMaxScaler()\n",
    "\n",
    "# Invierto la métrica de Davies-Bouldin Index\n",
    "dbs_inv = [-x for x in dbs_total]\n",
    "\n",
    "# Uno las tres métricas\n",
    "metricas = np.array([silhouette_total, dbs_inv, chs_total]).T\n",
    "\n",
    "# Escalo los valores de cada métrica\n",
    "metricas_norm = scaler.fit_transform(metricas)\n",
    "\n",
    "# Combino las métricas normalizadas como promedio simple\n",
    "puntaje_total = metricas_norm.mean(axis=1)\n",
    "\n",
    "# Resultados\n",
    "print(f'K-means: {puntaje_total[0]}')\n",
    "print(f'Gaussian Mixture: {puntaje_total[1]}')\n",
    "print(f'Clustering espectral: {puntaje_total[2]}')\n"
   ]
  },
  {
   "cell_type": "markdown",
   "id": "dff4be81",
   "metadata": {},
   "source": [
    "Dado que el **modelo gaussiano** obtuvo un mejor puntaje, utilizo este modelo para los pasos siguientes"
   ]
  },
  {
   "cell_type": "markdown",
   "id": "5708d4a9",
   "metadata": {},
   "source": [
    "## Gráficos de resultados del modelo"
   ]
  },
  {
   "cell_type": "markdown",
   "id": "6d547db6",
   "metadata": {},
   "source": [
    "#### Preparar los datos"
   ]
  },
  {
   "cell_type": "code",
   "execution_count": null,
   "id": "d2bb9062",
   "metadata": {},
   "outputs": [],
   "source": [
    "# Crear un DataFrame con el resultado del modelo\n",
    "df_clusters = pd.DataFrame({\n",
    "    'grid_id': id_grid,\n",
    "    'cluster': labels_gmm\n",
    "})\n",
    "\n",
    "# Unir el cluster a tu DataFrame de registros\n",
    "df = df.merge(df_clusters, on='grid_id', how='left')\n"
   ]
  },
  {
   "cell_type": "markdown",
   "id": "b55e10d7",
   "metadata": {},
   "source": [
    "#### Riqueza por cluster"
   ]
  },
  {
   "cell_type": "code",
   "execution_count": null,
   "id": "6db64f19",
   "metadata": {},
   "outputs": [],
   "source": [
    "plt.figure(figsize=(8, 6))\n",
    "sns.boxplot(data=df, x='cluster', y='riqueza', hue='cluster', palette='pastel', legend=False)\n",
    "plt.title('Distribución de riqueza por cluster (GMM)')\n",
    "plt.xlabel('Cluster')\n",
    "plt.ylabel('Riqueza')\n",
    "plt.grid(True, axis='y')\n",
    "plt.tight_layout()\n",
    "plt.show()"
   ]
  },
  {
   "cell_type": "markdown",
   "id": "c3eb95ad",
   "metadata": {},
   "source": [
    "Se observa que la riqueza específica es similar entre los tres clusters del modelo"
   ]
  },
  {
   "cell_type": "markdown",
   "id": "7ac1316e",
   "metadata": {},
   "source": [
    "#### Celdas por cluster"
   ]
  },
  {
   "cell_type": "code",
   "execution_count": null,
   "id": "65d7fb58",
   "metadata": {},
   "outputs": [],
   "source": [
    "plt.figure(figsize=(6, 4))\n",
    "sns.countplot(data=df, x='cluster', hue='cluster', palette='pastel', legend=False)\n",
    "plt.title('Cantidad de celdas por cluster')\n",
    "plt.xlabel('Cluster')\n",
    "plt.ylabel('Número de celdas')\n",
    "plt.grid(axis='y', linestyle='--', alpha=0.7)\n",
    "plt.tight_layout()\n",
    "plt.show()"
   ]
  },
  {
   "cell_type": "markdown",
   "id": "19d1c59a",
   "metadata": {},
   "source": [
    "Se observa que los tres clusters tienen un tamaño similar, siendo el primero algo más grande."
   ]
  },
  {
   "cell_type": "markdown",
   "id": "dbf3b48c",
   "metadata": {},
   "source": [
    "## Exportar grilla espacial con los resultados de los modelos\n",
    "Para permitir la visualización en el mapa"
   ]
  },
  {
   "cell_type": "code",
   "execution_count": null,
   "id": "0169a738",
   "metadata": {},
   "outputs": [],
   "source": [
    "# Preparar los datos para la grilla espacial\n",
    "clusters = labels_gmm\n",
    "nombre_modelo = 'GaussianMixture'"
   ]
  },
  {
   "cell_type": "code",
   "execution_count": null,
   "id": "a64c0590",
   "metadata": {},
   "outputs": [],
   "source": [
    "# Agregar el resultado del modelo a la grilla espacial\n",
    "gdf_grid = utils.grillar_res_mod(\n",
    "    grilla=gdf_grid,\n",
    "    id_grid=id_grid,\n",
    "    clusters=clusters,\n",
    "    nombre=nombre_modelo\n",
    ")"
   ]
  },
  {
   "cell_type": "code",
   "execution_count": null,
   "id": "56445ade",
   "metadata": {},
   "outputs": [],
   "source": [
    "# Guardo el resultado en un nuevo .gpkg\n",
    "ruta_salida = \"../data/processed/grilla_tdf_clusters.gpkg\"\n",
    "gdf_grid.to_file(ruta_salida, driver=\"GPKG\", layer=\"grilla_clusters\")\n",
    "\n",
    "print(\"Grilla con clusters guardada en:\", ruta_salida)"
   ]
  },
  {
   "cell_type": "markdown",
   "id": "81adec2f",
   "metadata": {},
   "source": [
    "La grilla espacial obtenida luego del modelado se continua procesando en el notebook 04-postprocesamiento"
   ]
  }
 ],
 "metadata": {
  "kernelspec": {
   "display_name": "Python 3",
   "language": "python",
   "name": "python3"
  },
  "language_info": {
   "codemirror_mode": {
    "name": "ipython",
    "version": 3
   },
   "file_extension": ".py",
   "mimetype": "text/x-python",
   "name": "python",
   "nbconvert_exporter": "python",
   "pygments_lexer": "ipython3",
   "version": "3.13.0"
  }
 },
 "nbformat": 4,
 "nbformat_minor": 5
}
