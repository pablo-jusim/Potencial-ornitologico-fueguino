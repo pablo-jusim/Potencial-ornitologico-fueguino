{
 "cells": [
  {
   "cell_type": "markdown",
   "id": "7614e7c9",
   "metadata": {},
   "source": [
    "# Potencial Ornitológico Fueguino\n",
    "### **Autor:** Pablo Jusim"
   ]
  },
  {
   "cell_type": "markdown",
   "id": "a6889f41",
   "metadata": {},
   "source": [
    "# Script principal del modelado\n",
    "\n",
    "En este script se realizará la creación, entrenamiento y prueba del modelo de aprendizaje automático. El **objetivo** es clasificar cada área de la provincia de Tierra del Fuego según su potencial ornitológico.\n",
    "\n",
    "Se utilizarán módulos de Python creados para este proyecto además de módulos de terceros. El preprocesamiento de los datos se realizará en otros notebook dentro de este proyecto."
   ]
  },
  {
   "cell_type": "markdown",
   "id": "270d521e",
   "metadata": {},
   "source": [
    "## Importaciones"
   ]
  },
  {
   "cell_type": "code",
   "execution_count": 1,
   "id": "ed47fe02",
   "metadata": {},
   "outputs": [],
   "source": [
    "# Modulos de terceros\n",
    "from pathlib import Path\n",
    "import sys\n",
    "from pathlib import Path"
   ]
  },
  {
   "cell_type": "code",
   "execution_count": 2,
   "id": "25d3bd8d",
   "metadata": {},
   "outputs": [],
   "source": [
    "# Modulos propios\n",
    "sys.path.append(str(Path('..')/'src'))\n",
    "\n",
    "import grillado"
   ]
  },
  {
   "cell_type": "markdown",
   "id": "c2dcdc77",
   "metadata": {},
   "source": [
    "## Carga de datos del proyecto"
   ]
  },
  {
   "cell_type": "markdown",
   "id": "85e2bb22",
   "metadata": {},
   "source": [
    "Dentro de la carpeta data/raw se encuentran los datos tal cual fueron obtenidos.\n",
    "\n",
    "Los datos descargados fueron preprocesados según los script 01a-conversion_inat.ipynb y 01b-conversion_ebird.ipynb"
   ]
  },
  {
   "cell_type": "markdown",
   "id": "aae44f9a",
   "metadata": {},
   "source": [
    "### Crear grilla de Tierra del Fuego"
   ]
  },
  {
   "cell_type": "code",
   "execution_count": 5,
   "id": "81e7ec76",
   "metadata": {},
   "outputs": [
    {
     "name": "stdout",
     "output_type": "stream",
     "text": [
      "La grilla ya existe en ..\\data\\interim\\grilla_tdf_vacia.gpkg.\n"
     ]
    }
   ],
   "source": [
    "# Verificar si la grilla ya fue creada, sino crearla\n",
    "RUTA_CONTORNO = '../data/raw/contorno_tdf.gpkg'\n",
    "RUTA_GRILLA = Path('../data/interim/grilla_tdf_vacia.gpkg')\n",
    "\n",
    "def crear_grilla(ruta, archivo_cont):\n",
    "    if ruta.exists():\n",
    "        print(f\"La grilla ya existe en {ruta}.\")\n",
    "    else:\n",
    "        geo_df = grillado.main(\n",
    "            archivo_cont = archivo_cont,\n",
    "            geoide = 4326,\n",
    "            lado_celda = 5\n",
    "        )\n",
    "\n",
    "        geo_df.to_file(RUTA_GRILLA, driver='GPKG',\n",
    "                                layer='grilla_tdf_vacia')\n",
    "\n",
    "crear_grilla(RUTA_GRILLA, RUTA_CONTORNO)\n"
   ]
  },
  {
   "cell_type": "markdown",
   "id": "02c3ca09",
   "metadata": {},
   "source": [
    "## Preprocesamiento de datos"
   ]
  }
 ],
 "metadata": {
  "kernelspec": {
   "display_name": "Python 3",
   "language": "python",
   "name": "python3"
  },
  "language_info": {
   "codemirror_mode": {
    "name": "ipython",
    "version": 3
   },
   "file_extension": ".py",
   "mimetype": "text/x-python",
   "name": "python",
   "nbconvert_exporter": "python",
   "pygments_lexer": "ipython3",
   "version": "3.13.0"
  }
 },
 "nbformat": 4,
 "nbformat_minor": 5
}
