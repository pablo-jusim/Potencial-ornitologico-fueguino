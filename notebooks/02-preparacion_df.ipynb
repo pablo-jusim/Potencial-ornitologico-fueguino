{
 "cells": [
  {
   "cell_type": "markdown",
   "id": "7614e7c9",
   "metadata": {},
   "source": [
    "# Potencial Ornitológico Fueguino\n",
    "### **Autor:** Pablo Jusim"
   ]
  },
  {
   "cell_type": "markdown",
   "id": "a6889f41",
   "metadata": {},
   "source": [
    "# Script de creación de la base de datos para modelar\n",
    "\n",
    "En este script se creará el dataframe con los datos para el modelado a partir de las observaciones obtenidas de iNaturalist y ebird. El preprocesamiento de ambas fuentes de datos se realizará de manera independiente en sendos notebooks."
   ]
  },
  {
   "cell_type": "markdown",
   "id": "270d521e",
   "metadata": {},
   "source": [
    "## Importaciones"
   ]
  },
  {
   "cell_type": "code",
   "execution_count": null,
   "id": "ed47fe02",
   "metadata": {},
   "outputs": [],
   "source": [
    "# Modulos de terceros\n",
    "import pandas as pd\n",
    "from pathlib import Path\n",
    "import sys\n",
    "from pyogrio.errors import DataSourceError"
   ]
  },
  {
   "cell_type": "code",
   "execution_count": null,
   "id": "25d3bd8d",
   "metadata": {},
   "outputs": [],
   "source": [
    "# Modulos propios\n",
    "sys.path.append(str(Path('..')/'src'))\n",
    "\n",
    "import grillado\n",
    "import asociar_grilla\n",
    "import utils"
   ]
  },
  {
   "cell_type": "markdown",
   "id": "c2dcdc77",
   "metadata": {},
   "source": [
    "## Carga de datos crudos del proyecto"
   ]
  },
  {
   "cell_type": "markdown",
   "id": "85e2bb22",
   "metadata": {},
   "source": [
    "Dentro de la carpeta data/raw se encuentran los datos tal cual fueron obtenidos.\n",
    "\n",
    "Los datos descargados fueron preprocesados según los script 01a-conversion_inat.ipynb y 01b-conversion_ebird.ipynb"
   ]
  },
  {
   "cell_type": "markdown",
   "id": "aae44f9a",
   "metadata": {},
   "source": [
    "### Crear grilla de Tierra del Fuego"
   ]
  },
  {
   "cell_type": "code",
   "execution_count": null,
   "id": "81e7ec76",
   "metadata": {},
   "outputs": [],
   "source": [
    "# Verificar si la grilla ya fue creada, sino crearla\n",
    "RUTA_CONTORNO = '../data/external/contorno_tdf.gpkg'\n",
    "RUTA_GRILLA = Path('../data/raw/grilla_tdf_vacia.gpkg')\n",
    "\n",
    "def crear_grilla(ruta, archivo_cont):\n",
    "    if ruta.exists():\n",
    "        print(f\"La grilla ya existe en {ruta}.\")\n",
    "    else:\n",
    "        geo_df = grillado.main(\n",
    "            archivo_cont = archivo_cont,\n",
    "            geoide = 4326,  # WGS 84\n",
    "            lado_celda = 5  # tamaño de lado en kilometros\n",
    "        )\n",
    "\n",
    "        geo_df.to_file(RUTA_GRILLA, driver='GPKG',\n",
    "                                layer='grilla_tdf_vacia')\n",
    "\n",
    "try:\n",
    "    crear_grilla(RUTA_GRILLA, RUTA_CONTORNO)\n",
    "except DataSourceError:\n",
    "    print(\"Error al abrir el archivo GeoPackage\")\n"
   ]
  },
  {
   "cell_type": "markdown",
   "id": "02c3ca09",
   "metadata": {},
   "source": [
    "### Unir los datos de eBird e iNaturalist"
   ]
  },
  {
   "cell_type": "code",
   "execution_count": null,
   "id": "ec19db40",
   "metadata": {},
   "outputs": [],
   "source": [
    "df_ebird = pd.read_csv('../data/raw/data_ebird.csv')\n",
    "df_inat = pd.read_csv('../data/raw/data_inat.csv')\n",
    "df_obs = pd.concat([df_ebird, df_inat])\n",
    "\n",
    "# Revisar que la union es correcta viendo cuantas filas tiene cada dataframe\n",
    "print(f'obs ebird: {len(df_ebird)}')\n",
    "print(f'obs inat: {len(df_inat)}')\n",
    "print(f'obs sumadas: {len(df_ebird) + len(df_inat)}')\n",
    "print(f'obs totales: {len(df_obs)}')"
   ]
  },
  {
   "cell_type": "markdown",
   "id": "42322567",
   "metadata": {},
   "source": [
    "### Asociar cada registro la celda de la grilla"
   ]
  },
  {
   "cell_type": "code",
   "execution_count": null,
   "id": "52539b8a",
   "metadata": {},
   "outputs": [],
   "source": [
    "# Punto de partida: directorio actual (notebooks/)\n",
    "BASE_DIR = Path.cwd()\n",
    "# Subir un nivel al directorio raíz del proyecto\n",
    "PROYECTO_DIR = BASE_DIR.parent\n",
    "# Construir ruta completa al archivo GPKG\n",
    "DIR_DATOS = PROYECTO_DIR / 'data' / 'raw'\n",
    "\n",
    "nombre_grilla = 'grilla_tdf_vacia.gpkg'\n",
    "ruta_grilla = DIR_DATOS / nombre_grilla"
   ]
  },
  {
   "cell_type": "code",
   "execution_count": null,
   "id": "15d8c785",
   "metadata": {},
   "outputs": [],
   "source": [
    "# Asociar grilla a los datos de observaciones\n",
    "\n",
    "df_grillada =asociar_grilla.assign_grid_cell_ids(\n",
    "    grilla = ruta_grilla,\n",
    "    datos_georef = df_obs,\n",
    "    grid_id_field = 'grid_id'\n",
    ")"
   ]
  },
  {
   "cell_type": "markdown",
   "id": "21433bcb",
   "metadata": {},
   "source": [
    "### Eliminar registros erróneos o raros"
   ]
  },
  {
   "cell_type": "markdown",
   "id": "b77e8499",
   "metadata": {},
   "source": [
    "#### Eliminar registros de especies raras\n",
    "Los registros de especies con pocas ocurrencias podrían ser por especies muy difíciles de observar, especies que alguna vez han alcanzado Tierra del Fuego por algún motivo o errores de registro e identificación. Ante la imposibilidad de distinguir estos casos, se eliminan los registros de especies con menos de 5 ocurrencias."
   ]
  },
  {
   "cell_type": "code",
   "execution_count": null,
   "id": "ad85ed7a",
   "metadata": {},
   "outputs": [],
   "source": [
    "df_obs_com = utils.eliminar_spp_raras(\n",
    "    data = df_grillada, \n",
    "    ocurrencia = 5\n",
    ")\n",
    "print(f'obs totales spp no raras: {len(df_obs_com)}')"
   ]
  },
  {
   "cell_type": "markdown",
   "id": "a637655a",
   "metadata": {},
   "source": [
    "#### Eliminar los registros erróneos\n",
    "Se consideran erróneos los registros que cumplan alguna de las siguentes características:\n",
    "- Contengan en el texto el símbolo \"/\" o \"\\\", lo que indica duda entre más de una especie\n",
    "- Contengan la palabra \"sp.\" o \"spp.\" que indican que se conoce el género pero no la especie.\n",
    "- Tengan una cantidad de palabras diferente de 2 (género + epíteto) o 3 (género + epíteto + subespecie). Si tienen 3 palabras solo se conservan las 2 primeras"
   ]
  },
  {
   "cell_type": "code",
   "execution_count": null,
   "id": "5a438e5f",
   "metadata": {},
   "outputs": [],
   "source": [
    "# 0) Limpiar whitespace\n",
    "df_corr = df_obs_com.copy()\n",
    "df_corr['scientific_name'] = df_corr['scientific_name'].str.strip()\n",
    "\n",
    "# 1) Eliminar nombres con '/' o '\\'\n",
    "df_corr = df_corr[~df_corr['scientific_name']\n",
    "                   .str.contains(r'[\\\\/]', regex=True)]\n",
    "\n",
    "# 2) Eliminar 'sp.' o 'spp.' (insensible a mayúsculas)\n",
    "df_corr = df_corr[~df_corr['scientific_name']\n",
    "                   .str.contains(r'(?i)\\b(?:sp\\.|spp\\.)', regex=True)]\n",
    "\n",
    "print(f'obs corregidas: {len(df_corr)}')\n"
   ]
  },
  {
   "cell_type": "markdown",
   "id": "68a7e598",
   "metadata": {},
   "source": [
    "## Crear dataframe de registros por celda y por especie\n",
    "Crear un dataframe donde cada fila sea una celda y cada columna sea una especie. El dataframe mostrará la cantidad de registros por celda y especie."
   ]
  },
  {
   "cell_type": "code",
   "execution_count": null,
   "id": "3a00f25e",
   "metadata": {},
   "outputs": [],
   "source": [
    "df_grilla_spp = utils.crear_df_conteos(df_corr)\n",
    "df_grilla_spp.head()"
   ]
  },
  {
   "cell_type": "markdown",
   "id": "dbcd3d4f",
   "metadata": {},
   "source": [
    "## Exportar el dataframe generado como un csv"
   ]
  },
  {
   "cell_type": "code",
   "execution_count": null,
   "id": "a973e37e",
   "metadata": {},
   "outputs": [],
   "source": [
    "df_grilla_spp.to_csv('../data/interim/grilla_tdf_spp.csv', index=False)"
   ]
  }
 ],
 "metadata": {
  "kernelspec": {
   "display_name": "Python 3",
   "language": "python",
   "name": "python3"
  },
  "language_info": {
   "codemirror_mode": {
    "name": "ipython",
    "version": 3
   },
   "file_extension": ".py",
   "mimetype": "text/x-python",
   "name": "python",
   "nbconvert_exporter": "python",
   "pygments_lexer": "ipython3",
   "version": "3.13.0"
  }
 },
 "nbformat": 4,
 "nbformat_minor": 5
}
