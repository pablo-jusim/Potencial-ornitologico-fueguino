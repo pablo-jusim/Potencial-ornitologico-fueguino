{
 "cells": [
  {
   "cell_type": "markdown",
   "id": "7614e7c9",
   "metadata": {},
   "source": [
    "# Potencial Ornitológico Fueguino\n",
    "### **Autor:** Pablo Jusim"
   ]
  },
  {
   "cell_type": "markdown",
   "id": "a6889f41",
   "metadata": {},
   "source": [
    "# Script de creación de la base de datos para modelar\n",
    "\n",
    "En este script se creará el dataframe con los datos para el modelado a partir de las observaciones obtenidas de iNaturalist y ebird. El preprocesamiento de ambas fuentes de datos se realizará de manera independiente en sendos notebooks."
   ]
  },
  {
   "cell_type": "markdown",
   "id": "270d521e",
   "metadata": {},
   "source": [
    "## Importaciones"
   ]
  },
  {
   "cell_type": "code",
   "execution_count": 1,
   "id": "ed47fe02",
   "metadata": {},
   "outputs": [],
   "source": [
    "# Modulos de terceros\n",
    "import pandas as pd\n",
    "from pathlib import Path\n",
    "import sys\n",
    "from pyogrio.errors import DataSourceError"
   ]
  },
  {
   "cell_type": "code",
   "execution_count": 2,
   "id": "25d3bd8d",
   "metadata": {},
   "outputs": [],
   "source": [
    "# Modulos propios\n",
    "sys.path.append(str(Path('..')/'src'))\n",
    "\n",
    "import grillado\n",
    "import asociar_grilla\n",
    "import utils"
   ]
  },
  {
   "cell_type": "markdown",
   "id": "c2dcdc77",
   "metadata": {},
   "source": [
    "## Carga de datos crudos del proyecto"
   ]
  },
  {
   "cell_type": "markdown",
   "id": "85e2bb22",
   "metadata": {},
   "source": [
    "Dentro de la carpeta data/raw se encuentran los datos tal cual fueron obtenidos.\n",
    "\n",
    "Los datos descargados fueron preprocesados según los script 01a-conversion_inat.ipynb y 01b-conversion_ebird.ipynb"
   ]
  },
  {
   "cell_type": "markdown",
   "id": "aae44f9a",
   "metadata": {},
   "source": [
    "### Crear grilla de Tierra del Fuego"
   ]
  },
  {
   "cell_type": "code",
   "execution_count": 3,
   "id": "81e7ec76",
   "metadata": {},
   "outputs": [
    {
     "name": "stdout",
     "output_type": "stream",
     "text": [
      "La grilla ya existe en ..\\data\\raw\\grilla_tdf_vacia.gpkg.\n"
     ]
    }
   ],
   "source": [
    "# Verificar si la grilla ya fue creada, sino crearla\n",
    "RUTA_CONTORNO = '../data/external/contorno_tdf.gpkg'\n",
    "RUTA_GRILLA = Path('../data/raw/grilla_tdf_vacia.gpkg')\n",
    "\n",
    "def crear_grilla(ruta, archivo_cont):\n",
    "    if ruta.exists():\n",
    "        print(f\"La grilla ya existe en {ruta}.\")\n",
    "    else:\n",
    "        geo_df = grillado.main(\n",
    "            archivo_cont = archivo_cont,\n",
    "            geoide = 4326,  # WGS 84\n",
    "            lado_celda = 5  # tamaño de lado en kilometros\n",
    "        )\n",
    "\n",
    "        geo_df.to_file(RUTA_GRILLA, driver='GPKG',\n",
    "                                layer='grilla_tdf_vacia')\n",
    "\n",
    "try:\n",
    "    crear_grilla(RUTA_GRILLA, RUTA_CONTORNO)\n",
    "except DataSourceError:\n",
    "    print(\"Error al abrir el archivo GeoPackage\")\n"
   ]
  },
  {
   "cell_type": "markdown",
   "id": "02c3ca09",
   "metadata": {},
   "source": [
    "### Unir los datos de eBird e iNaturalist"
   ]
  },
  {
   "cell_type": "code",
   "execution_count": 4,
   "id": "ec19db40",
   "metadata": {},
   "outputs": [
    {
     "name": "stdout",
     "output_type": "stream",
     "text": [
      "obs ebird: 426837\n",
      "obs inat: 8087\n",
      "obs sumadas: 434924\n",
      "obs totales: 434924\n"
     ]
    }
   ],
   "source": [
    "df_ebird = pd.read_csv('../data/raw/data_ebird.csv')\n",
    "df_inat = pd.read_csv('../data/raw/data_inat.csv')\n",
    "df_obs = pd.concat([df_ebird, df_inat])\n",
    "\n",
    "# Revisar que la union es correcta viendo cuantas filas tiene cada dataframe\n",
    "print(f'obs ebird: {len(df_ebird)}')\n",
    "print(f'obs inat: {len(df_inat)}')\n",
    "print(f'obs sumadas: {len(df_ebird) + len(df_inat)}')\n",
    "print(f'obs totales: {len(df_obs)}')"
   ]
  },
  {
   "cell_type": "markdown",
   "id": "42322567",
   "metadata": {},
   "source": [
    "### Asociar cada registro la celda de la grilla"
   ]
  },
  {
   "cell_type": "code",
   "execution_count": 5,
   "id": "52539b8a",
   "metadata": {},
   "outputs": [],
   "source": [
    "# Punto de partida: directorio actual (notebooks/)\n",
    "BASE_DIR = Path.cwd()\n",
    "# Subir un nivel al directorio raíz del proyecto\n",
    "PROYECTO_DIR = BASE_DIR.parent\n",
    "# Construir ruta completa al archivo GPKG\n",
    "DIR_DATOS = PROYECTO_DIR / 'data' / 'raw'\n",
    "\n",
    "nombre_grilla = 'grilla_tdf_vacia.gpkg'\n",
    "ruta_grilla = DIR_DATOS / nombre_grilla"
   ]
  },
  {
   "cell_type": "code",
   "execution_count": 6,
   "id": "15d8c785",
   "metadata": {},
   "outputs": [],
   "source": [
    "# Asociar grilla a los datos de observaciones\n",
    "\n",
    "df_grillada =asociar_grilla.assign_grid_cell_ids(\n",
    "    grilla = ruta_grilla,\n",
    "    datos_georef = df_obs,\n",
    "    grid_id_field = 'grid_id'\n",
    ")"
   ]
  },
  {
   "cell_type": "markdown",
   "id": "21433bcb",
   "metadata": {},
   "source": [
    "### Eliminar registros erróneos o raros"
   ]
  },
  {
   "cell_type": "markdown",
   "id": "b77e8499",
   "metadata": {},
   "source": [
    "#### Eliminar registros de especies raras\n",
    "Los registros de especies con pocas ocurrencias podrían ser por especies muy difíciles de observar, especies que alguna vez han alcanzado Tierra del Fuego por algún motivo o errores de registro e identificación. Ante la imposibilidad de distinguir estos casos, se eliminan los registros de especies con menos de 5 ocurrencias."
   ]
  },
  {
   "cell_type": "code",
   "execution_count": 7,
   "id": "ad85ed7a",
   "metadata": {},
   "outputs": [
    {
     "name": "stdout",
     "output_type": "stream",
     "text": [
      "obs totales spp no raras: 406793\n"
     ]
    }
   ],
   "source": [
    "df_obs_com = utils.eliminar_spp_raras(\n",
    "    data = df_grillada, \n",
    "    ocurrencia = 5\n",
    ")\n",
    "print(f'obs totales spp no raras: {len(df_obs_com)}')"
   ]
  },
  {
   "cell_type": "markdown",
   "id": "a637655a",
   "metadata": {},
   "source": [
    "#### Eliminar los registros erróneos\n",
    "Se consideran erróneos los registros que cumplan alguna de las siguentes características:\n",
    "- Contengan en el texto el símbolo \"/\" o \"\\\", lo que indica duda entre más de una especie\n",
    "- Contengan la palabra \"sp.\" o \"spp.\" que indican que se conoce el género pero no la especie.\n",
    "- Tengan una cantidad de palabras diferente de 2 (género + epíteto) o 3 (género + epíteto + subespecie). Si tienen 3 palabras solo se conservan las 2 primeras"
   ]
  },
  {
   "cell_type": "code",
   "execution_count": 8,
   "id": "5a438e5f",
   "metadata": {},
   "outputs": [
    {
     "name": "stdout",
     "output_type": "stream",
     "text": [
      "obs corregidas: 404164\n"
     ]
    }
   ],
   "source": [
    "# 0) Limpiar whitespace\n",
    "df_corr = df_obs_com.copy()\n",
    "df_corr['scientific_name'] = df_corr['scientific_name'].str.strip()\n",
    "\n",
    "# 1) Eliminar nombres con '/' o '\\'\n",
    "df_corr = df_corr[~df_corr['scientific_name']\n",
    "                   .str.contains(r'[\\\\/]', regex=True)]\n",
    "\n",
    "# 2) Eliminar 'sp.' o 'spp.' (insensible a mayúsculas)\n",
    "df_corr = df_corr[~df_corr['scientific_name']\n",
    "                   .str.contains(r'(?i)\\b(?:sp\\.|spp\\.)', regex=True)]\n",
    "\n",
    "print(f'obs corregidas: {len(df_corr)}')\n"
   ]
  },
  {
   "cell_type": "markdown",
   "id": "68a7e598",
   "metadata": {},
   "source": [
    "## Crear dataframe de registros por celda y por especie\n",
    "Crear un dataframe donde cada fila sea una celda y cada columna sea una especie. El dataframe mostrará la cantidad de registros por celda y especie."
   ]
  },
  {
   "cell_type": "code",
   "execution_count": 9,
   "id": "3a00f25e",
   "metadata": {},
   "outputs": [
    {
     "data": {
      "application/vnd.microsoft.datawrangler.viewer.v0+json": {
       "columns": [
        {
         "name": "index",
         "rawType": "int64",
         "type": "integer"
        },
        {
         "name": "grid_id",
         "rawType": "Int64",
         "type": "integer"
        },
        {
         "name": "Anairetes parulus",
         "rawType": "int64",
         "type": "integer"
        },
        {
         "name": "Anarhynchus falklandicus",
         "rawType": "int64",
         "type": "integer"
        },
        {
         "name": "Anas bahamensis",
         "rawType": "int64",
         "type": "integer"
        },
        {
         "name": "Anas flavirostris",
         "rawType": "int64",
         "type": "integer"
        },
        {
         "name": "Anas georgica",
         "rawType": "int64",
         "type": "integer"
        },
        {
         "name": "Anser anser",
         "rawType": "int64",
         "type": "integer"
        },
        {
         "name": "Anthus correndera",
         "rawType": "int64",
         "type": "integer"
        },
        {
         "name": "Aphrastura spinicauda",
         "rawType": "int64",
         "type": "integer"
        },
        {
         "name": "Aptenodytes patagonicus",
         "rawType": "int64",
         "type": "integer"
        },
        {
         "name": "Ardea ibis",
         "rawType": "int64",
         "type": "integer"
        },
        {
         "name": "Ardenna gravis",
         "rawType": "int64",
         "type": "integer"
        },
        {
         "name": "Ardenna grisea",
         "rawType": "int64",
         "type": "integer"
        },
        {
         "name": "Arenaria interpres",
         "rawType": "int64",
         "type": "integer"
        },
        {
         "name": "Asio flammeus",
         "rawType": "int64",
         "type": "integer"
        },
        {
         "name": "Asthenes anthoides",
         "rawType": "int64",
         "type": "integer"
        },
        {
         "name": "Astur chilensis",
         "rawType": "int64",
         "type": "integer"
        },
        {
         "name": "Attagis malouinus",
         "rawType": "int64",
         "type": "integer"
        },
        {
         "name": "Bubo magellanicus",
         "rawType": "int64",
         "type": "integer"
        },
        {
         "name": "Buteo ventralis",
         "rawType": "int64",
         "type": "integer"
        },
        {
         "name": "Calidris alba",
         "rawType": "int64",
         "type": "integer"
        },
        {
         "name": "Calidris bairdii",
         "rawType": "int64",
         "type": "integer"
        },
        {
         "name": "Calidris canutus",
         "rawType": "int64",
         "type": "integer"
        },
        {
         "name": "Calidris fuscicollis",
         "rawType": "int64",
         "type": "integer"
        },
        {
         "name": "Calidris himantopus",
         "rawType": "int64",
         "type": "integer"
        },
        {
         "name": "Calidris melanotos",
         "rawType": "int64",
         "type": "integer"
        },
        {
         "name": "Calidris pusilla",
         "rawType": "int64",
         "type": "integer"
        },
        {
         "name": "Calidris virgata",
         "rawType": "int64",
         "type": "integer"
        },
        {
         "name": "Campephilus magellanicus",
         "rawType": "int64",
         "type": "integer"
        },
        {
         "name": "Caracara plancus",
         "rawType": "int64",
         "type": "integer"
        },
        {
         "name": "Cathartes aura",
         "rawType": "int64",
         "type": "integer"
        },
        {
         "name": "Charadrius semipalmatus",
         "rawType": "int64",
         "type": "integer"
        },
        {
         "name": "Chionis albus",
         "rawType": "int64",
         "type": "integer"
        },
        {
         "name": "Chloephaga hybrida",
         "rawType": "int64",
         "type": "integer"
        },
        {
         "name": "Chloephaga picta",
         "rawType": "int64",
         "type": "integer"
        },
        {
         "name": "Chloephaga poliocephala",
         "rawType": "int64",
         "type": "integer"
        },
        {
         "name": "Chloephaga rubidiceps",
         "rawType": "int64",
         "type": "integer"
        },
        {
         "name": "Chroicocephalus maculipennis",
         "rawType": "int64",
         "type": "integer"
        },
        {
         "name": "Cinclodes antarcticus",
         "rawType": "int64",
         "type": "integer"
        },
        {
         "name": "Cinclodes fuscus",
         "rawType": "int64",
         "type": "integer"
        },
        {
         "name": "Cinclodes oustaleti",
         "rawType": "int64",
         "type": "integer"
        },
        {
         "name": "Cinclodes patagonicus",
         "rawType": "int64",
         "type": "integer"
        },
        {
         "name": "Circus cinereus",
         "rawType": "int64",
         "type": "integer"
        },
        {
         "name": "Cistothorus platensis",
         "rawType": "int64",
         "type": "integer"
        },
        {
         "name": "Colorhamphus parvirostris",
         "rawType": "int64",
         "type": "integer"
        },
        {
         "name": "Columba livia",
         "rawType": "int64",
         "type": "integer"
        },
        {
         "name": "Coscoroba coscoroba",
         "rawType": "int64",
         "type": "integer"
        },
        {
         "name": "Curaeus curaeus",
         "rawType": "int64",
         "type": "integer"
        },
        {
         "name": "Cygnus melancoryphus",
         "rawType": "int64",
         "type": "integer"
        },
        {
         "name": "Daption capense",
         "rawType": "int64",
         "type": "integer"
        },
        {
         "name": "Daptrius albogularis",
         "rawType": "int64",
         "type": "integer"
        },
        {
         "name": "Daptrius australis",
         "rawType": "int64",
         "type": "integer"
        },
        {
         "name": "Daptrius chimango",
         "rawType": "int64",
         "type": "integer"
        },
        {
         "name": "Diomedea epomophora",
         "rawType": "int64",
         "type": "integer"
        },
        {
         "name": "Diomedea exulans",
         "rawType": "int64",
         "type": "integer"
        },
        {
         "name": "Diuca diuca",
         "rawType": "int64",
         "type": "integer"
        },
        {
         "name": "Egretta thula",
         "rawType": "int64",
         "type": "integer"
        },
        {
         "name": "Elaenia albiceps",
         "rawType": "int64",
         "type": "integer"
        },
        {
         "name": "Enicognathus ferrugineus",
         "rawType": "int64",
         "type": "integer"
        },
        {
         "name": "Eudyptes chrysocome",
         "rawType": "int64",
         "type": "integer"
        },
        {
         "name": "Eudyptes chrysolophus",
         "rawType": "int64",
         "type": "integer"
        },
        {
         "name": "Falco femoralis",
         "rawType": "int64",
         "type": "integer"
        },
        {
         "name": "Falco peregrinus",
         "rawType": "int64",
         "type": "integer"
        },
        {
         "name": "Falco sparverius",
         "rawType": "int64",
         "type": "integer"
        },
        {
         "name": "Fregetta tropica",
         "rawType": "int64",
         "type": "integer"
        },
        {
         "name": "Fulica armillata",
         "rawType": "int64",
         "type": "integer"
        },
        {
         "name": "Fulica leucoptera",
         "rawType": "int64",
         "type": "integer"
        },
        {
         "name": "Fulica rufifrons",
         "rawType": "int64",
         "type": "integer"
        },
        {
         "name": "Fulmarus glacialoides",
         "rawType": "int64",
         "type": "integer"
        },
        {
         "name": "Gallinago magellanica",
         "rawType": "int64",
         "type": "integer"
        },
        {
         "name": "Gallinula galeata",
         "rawType": "int64",
         "type": "integer"
        },
        {
         "name": "Geositta antarctica",
         "rawType": "int64",
         "type": "integer"
        },
        {
         "name": "Geositta cunicularia",
         "rawType": "int64",
         "type": "integer"
        },
        {
         "name": "Geranoaetus melanoleucus",
         "rawType": "int64",
         "type": "integer"
        },
        {
         "name": "Geranoaetus polyosoma",
         "rawType": "int64",
         "type": "integer"
        },
        {
         "name": "Glaucidium nana",
         "rawType": "int64",
         "type": "integer"
        },
        {
         "name": "Haematopus ater",
         "rawType": "int64",
         "type": "integer"
        },
        {
         "name": "Haematopus leucopodus",
         "rawType": "int64",
         "type": "integer"
        },
        {
         "name": "Haematopus palliatus",
         "rawType": "int64",
         "type": "integer"
        },
        {
         "name": "Halobaena caerulea",
         "rawType": "int64",
         "type": "integer"
        },
        {
         "name": "Hirundo rustica",
         "rawType": "int64",
         "type": "integer"
        },
        {
         "name": "Larus dominicanus",
         "rawType": "int64",
         "type": "integer"
        },
        {
         "name": "Leistes loyca",
         "rawType": "int64",
         "type": "integer"
        },
        {
         "name": "Leptasthenura aegithaloides",
         "rawType": "int64",
         "type": "integer"
        },
        {
         "name": "Lessonia rufa",
         "rawType": "int64",
         "type": "integer"
        },
        {
         "name": "Leucocarbo atriceps",
         "rawType": "int64",
         "type": "integer"
        },
        {
         "name": "Leucocarbo magellanicus",
         "rawType": "int64",
         "type": "integer"
        },
        {
         "name": "Leucophaeus pipixcan",
         "rawType": "int64",
         "type": "integer"
        },
        {
         "name": "Leucophaeus scoresbii",
         "rawType": "int64",
         "type": "integer"
        },
        {
         "name": "Limosa haemastica",
         "rawType": "int64",
         "type": "integer"
        },
        {
         "name": "Lophonetta specularioides",
         "rawType": "int64",
         "type": "integer"
        },
        {
         "name": "Macronectes giganteus",
         "rawType": "int64",
         "type": "integer"
        },
        {
         "name": "Macronectes halli",
         "rawType": "int64",
         "type": "integer"
        },
        {
         "name": "Mareca sibilatrix",
         "rawType": "int64",
         "type": "integer"
        },
        {
         "name": "Megaceryle torquata",
         "rawType": "int64",
         "type": "integer"
        },
        {
         "name": "Melanodera melanodera",
         "rawType": "int64",
         "type": "integer"
        },
        {
         "name": "Melanodera xanthogramma",
         "rawType": "int64",
         "type": "integer"
        },
        {
         "name": "Merganetta armata",
         "rawType": "int64",
         "type": "integer"
        },
        {
         "name": "Mimus saturninus",
         "rawType": "int64",
         "type": "integer"
        },
        {
         "name": "Muscisaxicola capistratus",
         "rawType": "int64",
         "type": "integer"
        },
        {
         "name": "Muscisaxicola flavinucha",
         "rawType": "int64",
         "type": "integer"
        },
        {
         "name": "Muscisaxicola maclovianus",
         "rawType": "int64",
         "type": "integer"
        },
        {
         "name": "Nannopterum brasilianum",
         "rawType": "int64",
         "type": "integer"
        },
        {
         "name": "Neoxolmis rufiventris",
         "rawType": "int64",
         "type": "integer"
        },
        {
         "name": "Netta peposaca",
         "rawType": "int64",
         "type": "integer"
        },
        {
         "name": "Numenius phaeopus",
         "rawType": "int64",
         "type": "integer"
        },
        {
         "name": "Nycticorax nycticorax",
         "rawType": "int64",
         "type": "integer"
        },
        {
         "name": "Oceanites oceanicus",
         "rawType": "int64",
         "type": "integer"
        },
        {
         "name": "Oreopholus ruficollis",
         "rawType": "int64",
         "type": "integer"
        },
        {
         "name": "Pachyptila belcheri",
         "rawType": "int64",
         "type": "integer"
        },
        {
         "name": "Pachyptila desolata",
         "rawType": "int64",
         "type": "integer"
        },
        {
         "name": "Pardirallus sanguinolentus",
         "rawType": "int64",
         "type": "integer"
        },
        {
         "name": "Passer domesticus",
         "rawType": "int64",
         "type": "integer"
        },
        {
         "name": "Patagioenas araucana",
         "rawType": "int64",
         "type": "integer"
        },
        {
         "name": "Pelecanoides magellani",
         "rawType": "int64",
         "type": "integer"
        },
        {
         "name": "Pelecanoides urinatrix",
         "rawType": "int64",
         "type": "integer"
        },
        {
         "name": "Petrochelidon pyrrhonota",
         "rawType": "int64",
         "type": "integer"
        },
        {
         "name": "Phalaropus tricolor",
         "rawType": "int64",
         "type": "integer"
        },
        {
         "name": "Phoebetria palpebrata",
         "rawType": "int64",
         "type": "integer"
        },
        {
         "name": "Phoenicopterus chilensis",
         "rawType": "int64",
         "type": "integer"
        },
        {
         "name": "Phrygilus gayi",
         "rawType": "int64",
         "type": "integer"
        },
        {
         "name": "Phrygilus patagonicus",
         "rawType": "int64",
         "type": "integer"
        },
        {
         "name": "Pitangus sulphuratus",
         "rawType": "int64",
         "type": "integer"
        },
        {
         "name": "Pluvialis dominica",
         "rawType": "int64",
         "type": "integer"
        },
        {
         "name": "Pluvialis squatarola",
         "rawType": "int64",
         "type": "integer"
        },
        {
         "name": "Pluvianellus socialis",
         "rawType": "int64",
         "type": "integer"
        },
        {
         "name": "Podiceps major",
         "rawType": "int64",
         "type": "integer"
        },
        {
         "name": "Podiceps occipitalis",
         "rawType": "int64",
         "type": "integer"
        },
        {
         "name": "Poikilocarbo gaimardi",
         "rawType": "int64",
         "type": "integer"
        },
        {
         "name": "Procellaria aequinoctialis",
         "rawType": "int64",
         "type": "integer"
        },
        {
         "name": "Pterodroma mollis",
         "rawType": "int64",
         "type": "integer"
        },
        {
         "name": "Puffinus puffinus",
         "rawType": "int64",
         "type": "integer"
        },
        {
         "name": "Pygarrhichas albogularis",
         "rawType": "int64",
         "type": "integer"
        },
        {
         "name": "Pygochelidon cyanoleuca",
         "rawType": "int64",
         "type": "integer"
        },
        {
         "name": "Pygoscelis antarcticus",
         "rawType": "int64",
         "type": "integer"
        },
        {
         "name": "Pygoscelis papua",
         "rawType": "int64",
         "type": "integer"
        },
        {
         "name": "Pyrope pyrope",
         "rawType": "int64",
         "type": "integer"
        },
        {
         "name": "Rhopospina fruticeti",
         "rawType": "int64",
         "type": "integer"
        },
        {
         "name": "Riparia riparia",
         "rawType": "int64",
         "type": "integer"
        },
        {
         "name": "Rollandia rolland",
         "rawType": "int64",
         "type": "integer"
        },
        {
         "name": "Rynchops niger",
         "rawType": "int64",
         "type": "integer"
        },
        {
         "name": "Scytalopus magellanicus",
         "rawType": "int64",
         "type": "integer"
        },
        {
         "name": "Sephanoides sephaniodes",
         "rawType": "int64",
         "type": "integer"
        },
        {
         "name": "Sicalis lebruni",
         "rawType": "int64",
         "type": "integer"
        },
        {
         "name": "Spatula cyanoptera",
         "rawType": "int64",
         "type": "integer"
        },
        {
         "name": "Spatula platalea",
         "rawType": "int64",
         "type": "integer"
        },
        {
         "name": "Spatula versicolor",
         "rawType": "int64",
         "type": "integer"
        },
        {
         "name": "Speculanas specularis",
         "rawType": "int64",
         "type": "integer"
        },
        {
         "name": "Spheniscus magellanicus",
         "rawType": "int64",
         "type": "integer"
        },
        {
         "name": "Spinus barbatus",
         "rawType": "int64",
         "type": "integer"
        },
        {
         "name": "Stercorarius antarcticus",
         "rawType": "int64",
         "type": "integer"
        },
        {
         "name": "Stercorarius chilensis",
         "rawType": "int64",
         "type": "integer"
        },
        {
         "name": "Stercorarius maccormicki",
         "rawType": "int64",
         "type": "integer"
        },
        {
         "name": "Sterna hirundinacea",
         "rawType": "int64",
         "type": "integer"
        },
        {
         "name": "Sterna paradisaea",
         "rawType": "int64",
         "type": "integer"
        },
        {
         "name": "Strix rufipes",
         "rawType": "int64",
         "type": "integer"
        },
        {
         "name": "Tachycineta leucopyga",
         "rawType": "int64",
         "type": "integer"
        },
        {
         "name": "Tachyeres patachonicus",
         "rawType": "int64",
         "type": "integer"
        },
        {
         "name": "Tachyeres pteneres",
         "rawType": "int64",
         "type": "integer"
        },
        {
         "name": "Thalassarche chrysostoma",
         "rawType": "int64",
         "type": "integer"
        },
        {
         "name": "Thalassarche melanophris",
         "rawType": "int64",
         "type": "integer"
        },
        {
         "name": "Thalasseus elegans",
         "rawType": "int64",
         "type": "integer"
        },
        {
         "name": "Theristicus melanopis",
         "rawType": "int64",
         "type": "integer"
        },
        {
         "name": "Thinocorus rumicivorus",
         "rawType": "int64",
         "type": "integer"
        },
        {
         "name": "Tringa flavipes",
         "rawType": "int64",
         "type": "integer"
        },
        {
         "name": "Tringa melanoleuca",
         "rawType": "int64",
         "type": "integer"
        },
        {
         "name": "Troglodytes musculus",
         "rawType": "int64",
         "type": "integer"
        },
        {
         "name": "Turdus falcklandii",
         "rawType": "int64",
         "type": "integer"
        },
        {
         "name": "Tyrannus melancholicus",
         "rawType": "int64",
         "type": "integer"
        },
        {
         "name": "Tyrannus savana",
         "rawType": "int64",
         "type": "integer"
        },
        {
         "name": "Tyrannus tyrannus",
         "rawType": "int64",
         "type": "integer"
        },
        {
         "name": "Tyto furcata",
         "rawType": "int64",
         "type": "integer"
        },
        {
         "name": "Upucerthia dumetaria",
         "rawType": "int64",
         "type": "integer"
        },
        {
         "name": "Vanellus chilensis",
         "rawType": "int64",
         "type": "integer"
        },
        {
         "name": "Vultur gryphus",
         "rawType": "int64",
         "type": "integer"
        },
        {
         "name": "Zenaida auriculata",
         "rawType": "int64",
         "type": "integer"
        },
        {
         "name": "Zenaida meloda",
         "rawType": "int64",
         "type": "integer"
        },
        {
         "name": "Zonibyx modestus",
         "rawType": "int64",
         "type": "integer"
        },
        {
         "name": "Zonotrichia capensis",
         "rawType": "int64",
         "type": "integer"
        }
       ],
       "ref": "a28dc486-3e4c-4ce8-ae98-e11f26e28929",
       "rows": [
        [
         "0",
         "25",
         "0",
         "0",
         "0",
         "0",
         "1",
         "0",
         "1",
         "0",
         "0",
         "0",
         "4",
         "11",
         "0",
         "0",
         "0",
         "0",
         "0",
         "0",
         "0",
         "0",
         "0",
         "0",
         "0",
         "0",
         "0",
         "0",
         "0",
         "0",
         "2",
         "0",
         "0",
         "1",
         "3",
         "1",
         "1",
         "0",
         "1",
         "0",
         "1",
         "0",
         "0",
         "1",
         "1",
         "0",
         "0",
         "0",
         "0",
         "0",
         "1",
         "0",
         "1",
         "3",
         "0",
         "0",
         "0",
         "0",
         "0",
         "0",
         "0",
         "0",
         "0",
         "0",
         "0",
         "0",
         "0",
         "0",
         "0",
         "0",
         "1",
         "0",
         "0",
         "0",
         "0",
         "0",
         "0",
         "0",
         "3",
         "0",
         "0",
         "0",
         "10",
         "1",
         "0",
         "1",
         "20",
         "6",
         "0",
         "7",
         "0",
         "0",
         "12",
         "6",
         "1",
         "0",
         "0",
         "0",
         "0",
         "0",
         "0",
         "0",
         "1",
         "0",
         "0",
         "0",
         "0",
         "2",
         "0",
         "0",
         "1",
         "0",
         "0",
         "0",
         "0",
         "0",
         "0",
         "0",
         "0",
         "0",
         "0",
         "0",
         "1",
         "0",
         "0",
         "0",
         "0",
         "0",
         "0",
         "0",
         "5",
         "0",
         "0",
         "0",
         "1",
         "0",
         "0",
         "0",
         "0",
         "0",
         "0",
         "0",
         "0",
         "0",
         "0",
         "0",
         "0",
         "0",
         "0",
         "9",
         "1",
         "0",
         "8",
         "0",
         "12",
         "0",
         "0",
         "1",
         "1",
         "2",
         "0",
         "15",
         "0",
         "1",
         "0",
         "0",
         "0",
         "1",
         "1",
         "0",
         "0",
         "0",
         "0",
         "0",
         "2",
         "1",
         "0",
         "0",
         "1",
         "1"
        ],
        [
         "1",
         "26",
         "3",
         "0",
         "0",
         "3",
         "3",
         "0",
         "1",
         "5",
         "0",
         "0",
         "0",
         "0",
         "0",
         "0",
         "0",
         "0",
         "0",
         "0",
         "0",
         "0",
         "3",
         "0",
         "0",
         "0",
         "0",
         "0",
         "0",
         "1",
         "4",
         "1",
         "0",
         "4",
         "4",
         "5",
         "2",
         "0",
         "0",
         "0",
         "5",
         "3",
         "4",
         "1",
         "5",
         "0",
         "0",
         "0",
         "5",
         "0",
         "0",
         "0",
         "0",
         "5",
         "0",
         "0",
         "0",
         "0",
         "2",
         "0",
         "0",
         "0",
         "0",
         "0",
         "0",
         "0",
         "0",
         "0",
         "0",
         "0",
         "5",
         "0",
         "0",
         "0",
         "0",
         "0",
         "0",
         "4",
         "5",
         "0",
         "0",
         "0",
         "5",
         "2",
         "0",
         "5",
         "5",
         "5",
         "0",
         "5",
         "0",
         "4",
         "5",
         "0",
         "0",
         "0",
         "0",
         "0",
         "0",
         "0",
         "0",
         "0",
         "5",
         "3",
         "0",
         "0",
         "0",
         "4",
         "0",
         "0",
         "0",
         "0",
         "0",
         "0",
         "0",
         "0",
         "0",
         "0",
         "0",
         "0",
         "0",
         "0",
         "5",
         "0",
         "0",
         "0",
         "0",
         "0",
         "0",
         "0",
         "1",
         "0",
         "0",
         "0",
         "0",
         "0",
         "0",
         "5",
         "0",
         "0",
         "0",
         "0",
         "0",
         "0",
         "0",
         "0",
         "0",
         "0",
         "0",
         "0",
         "5",
         "0",
         "1",
         "0",
         "5",
         "0",
         "0",
         "5",
         "1",
         "1",
         "0",
         "5",
         "0",
         "5",
         "0",
         "0",
         "0",
         "5",
         "5",
         "0",
         "0",
         "0",
         "0",
         "0",
         "2",
         "0",
         "0",
         "0",
         "2",
         "5"
        ],
        [
         "2",
         "27",
         "0",
         "0",
         "0",
         "1",
         "2",
         "0",
         "2",
         "3",
         "1",
         "0",
         "2",
         "2",
         "0",
         "0",
         "0",
         "0",
         "0",
         "0",
         "0",
         "0",
         "0",
         "0",
         "0",
         "0",
         "0",
         "0",
         "0",
         "2",
         "2",
         "4",
         "0",
         "3",
         "3",
         "3",
         "3",
         "0",
         "0",
         "0",
         "3",
         "0",
         "3",
         "1",
         "2",
         "0",
         "0",
         "0",
         "2",
         "0",
         "0",
         "0",
         "6",
         "4",
         "0",
         "0",
         "0",
         "0",
         "2",
         "0",
         "0",
         "0",
         "0",
         "0",
         "0",
         "0",
         "0",
         "0",
         "0",
         "0",
         "3",
         "0",
         "0",
         "0",
         "0",
         "0",
         "0",
         "2",
         "3",
         "0",
         "0",
         "0",
         "9",
         "3",
         "0",
         "2",
         "11",
         "3",
         "0",
         "10",
         "0",
         "2",
         "10",
         "1",
         "0",
         "0",
         "0",
         "0",
         "0",
         "0",
         "0",
         "0",
         "5",
         "1",
         "0",
         "0",
         "0",
         "2",
         "0",
         "0",
         "1",
         "0",
         "0",
         "0",
         "0",
         "0",
         "0",
         "0",
         "0",
         "0",
         "0",
         "0",
         "2",
         "0",
         "0",
         "0",
         "0",
         "0",
         "0",
         "0",
         "2",
         "0",
         "0",
         "0",
         "0",
         "0",
         "1",
         "3",
         "0",
         "0",
         "0",
         "0",
         "0",
         "0",
         "0",
         "0",
         "0",
         "0",
         "0",
         "4",
         "3",
         "0",
         "2",
         "0",
         "3",
         "0",
         "0",
         "3",
         "2",
         "2",
         "0",
         "9",
         "0",
         "3",
         "0",
         "0",
         "0",
         "3",
         "3",
         "0",
         "0",
         "0",
         "0",
         "0",
         "2",
         "3",
         "0",
         "0",
         "2",
         "3"
        ],
        [
         "3",
         "28",
         "1",
         "0",
         "0",
         "0",
         "0",
         "0",
         "0",
         "1",
         "0",
         "0",
         "0",
         "0",
         "0",
         "0",
         "0",
         "0",
         "0",
         "0",
         "0",
         "0",
         "0",
         "0",
         "0",
         "0",
         "0",
         "0",
         "0",
         "0",
         "0",
         "1",
         "0",
         "0",
         "1",
         "1",
         "1",
         "0",
         "0",
         "0",
         "0",
         "0",
         "0",
         "0",
         "1",
         "0",
         "0",
         "0",
         "0",
         "0",
         "0",
         "0",
         "0",
         "1",
         "0",
         "0",
         "0",
         "0",
         "0",
         "1",
         "0",
         "0",
         "0",
         "0",
         "0",
         "0",
         "0",
         "0",
         "0",
         "0",
         "1",
         "0",
         "0",
         "0",
         "0",
         "0",
         "0",
         "0",
         "0",
         "0",
         "0",
         "0",
         "0",
         "0",
         "0",
         "1",
         "1",
         "1",
         "0",
         "0",
         "0",
         "0",
         "0",
         "0",
         "0",
         "0",
         "0",
         "0",
         "0",
         "0",
         "0",
         "0",
         "0",
         "1",
         "0",
         "0",
         "0",
         "0",
         "0",
         "0",
         "0",
         "0",
         "0",
         "0",
         "0",
         "0",
         "0",
         "0",
         "0",
         "0",
         "0",
         "0",
         "1",
         "0",
         "0",
         "0",
         "0",
         "0",
         "0",
         "0",
         "0",
         "0",
         "0",
         "0",
         "0",
         "0",
         "0",
         "0",
         "0",
         "0",
         "0",
         "0",
         "0",
         "0",
         "0",
         "0",
         "0",
         "0",
         "0",
         "0",
         "0",
         "0",
         "0",
         "0",
         "0",
         "0",
         "0",
         "1",
         "1",
         "0",
         "0",
         "0",
         "0",
         "0",
         "0",
         "0",
         "0",
         "0",
         "0",
         "0",
         "0",
         "0",
         "0",
         "0",
         "0",
         "0",
         "0",
         "0",
         "1",
         "1"
        ],
        [
         "4",
         "70",
         "1",
         "0",
         "0",
         "7",
         "14",
         "0",
         "12",
         "4",
         "0",
         "0",
         "1",
         "4",
         "0",
         "0",
         "0",
         "0",
         "0",
         "0",
         "0",
         "1",
         "3",
         "0",
         "7",
         "0",
         "0",
         "0",
         "1",
         "0",
         "6",
         "2",
         "0",
         "0",
         "2",
         "13",
         "12",
         "0",
         "4",
         "0",
         "12",
         "5",
         "2",
         "1",
         "6",
         "0",
         "0",
         "0",
         "14",
         "0",
         "0",
         "0",
         "1",
         "10",
         "0",
         "0",
         "0",
         "0",
         "13",
         "0",
         "0",
         "0",
         "0",
         "1",
         "9",
         "0",
         "0",
         "0",
         "0",
         "0",
         "5",
         "0",
         "0",
         "0",
         "0",
         "0",
         "0",
         "1",
         "17",
         "0",
         "3",
         "0",
         "21",
         "12",
         "0",
         "10",
         "27",
         "13",
         "0",
         "12",
         "0",
         "7",
         "20",
         "2",
         "4",
         "0",
         "0",
         "0",
         "0",
         "0",
         "0",
         "1",
         "0",
         "13",
         "0",
         "0",
         "0",
         "8",
         "1",
         "0",
         "0",
         "0",
         "0",
         "0",
         "0",
         "0",
         "0",
         "0",
         "0",
         "0",
         "0",
         "0",
         "11",
         "0",
         "0",
         "0",
         "0",
         "4",
         "0",
         "0",
         "3",
         "0",
         "2",
         "2",
         "1",
         "0",
         "0",
         "14",
         "0",
         "0",
         "4",
         "0",
         "0",
         "0",
         "0",
         "0",
         "4",
         "0",
         "0",
         "6",
         "10",
         "0",
         "12",
         "0",
         "23",
         "0",
         "0",
         "13",
         "9",
         "10",
         "0",
         "21",
         "0",
         "7",
         "0",
         "1",
         "0",
         "14",
         "15",
         "0",
         "0",
         "0",
         "0",
         "0",
         "8",
         "0",
         "0",
         "0",
         "2",
         "14"
        ]
       ],
       "shape": {
        "columns": 179,
        "rows": 5
       }
      },
      "text/html": [
       "<div>\n",
       "<style scoped>\n",
       "    .dataframe tbody tr th:only-of-type {\n",
       "        vertical-align: middle;\n",
       "    }\n",
       "\n",
       "    .dataframe tbody tr th {\n",
       "        vertical-align: top;\n",
       "    }\n",
       "\n",
       "    .dataframe thead th {\n",
       "        text-align: right;\n",
       "    }\n",
       "</style>\n",
       "<table border=\"1\" class=\"dataframe\">\n",
       "  <thead>\n",
       "    <tr style=\"text-align: right;\">\n",
       "      <th>scientific_name</th>\n",
       "      <th>grid_id</th>\n",
       "      <th>Anairetes parulus</th>\n",
       "      <th>Anarhynchus falklandicus</th>\n",
       "      <th>Anas bahamensis</th>\n",
       "      <th>Anas flavirostris</th>\n",
       "      <th>Anas georgica</th>\n",
       "      <th>Anser anser</th>\n",
       "      <th>Anthus correndera</th>\n",
       "      <th>Aphrastura spinicauda</th>\n",
       "      <th>Aptenodytes patagonicus</th>\n",
       "      <th>...</th>\n",
       "      <th>Tyrannus savana</th>\n",
       "      <th>Tyrannus tyrannus</th>\n",
       "      <th>Tyto furcata</th>\n",
       "      <th>Upucerthia dumetaria</th>\n",
       "      <th>Vanellus chilensis</th>\n",
       "      <th>Vultur gryphus</th>\n",
       "      <th>Zenaida auriculata</th>\n",
       "      <th>Zenaida meloda</th>\n",
       "      <th>Zonibyx modestus</th>\n",
       "      <th>Zonotrichia capensis</th>\n",
       "    </tr>\n",
       "  </thead>\n",
       "  <tbody>\n",
       "    <tr>\n",
       "      <th>0</th>\n",
       "      <td>25</td>\n",
       "      <td>0</td>\n",
       "      <td>0</td>\n",
       "      <td>0</td>\n",
       "      <td>0</td>\n",
       "      <td>1</td>\n",
       "      <td>0</td>\n",
       "      <td>1</td>\n",
       "      <td>0</td>\n",
       "      <td>0</td>\n",
       "      <td>...</td>\n",
       "      <td>0</td>\n",
       "      <td>0</td>\n",
       "      <td>0</td>\n",
       "      <td>0</td>\n",
       "      <td>2</td>\n",
       "      <td>1</td>\n",
       "      <td>0</td>\n",
       "      <td>0</td>\n",
       "      <td>1</td>\n",
       "      <td>1</td>\n",
       "    </tr>\n",
       "    <tr>\n",
       "      <th>1</th>\n",
       "      <td>26</td>\n",
       "      <td>3</td>\n",
       "      <td>0</td>\n",
       "      <td>0</td>\n",
       "      <td>3</td>\n",
       "      <td>3</td>\n",
       "      <td>0</td>\n",
       "      <td>1</td>\n",
       "      <td>5</td>\n",
       "      <td>0</td>\n",
       "      <td>...</td>\n",
       "      <td>0</td>\n",
       "      <td>0</td>\n",
       "      <td>0</td>\n",
       "      <td>0</td>\n",
       "      <td>2</td>\n",
       "      <td>0</td>\n",
       "      <td>0</td>\n",
       "      <td>0</td>\n",
       "      <td>2</td>\n",
       "      <td>5</td>\n",
       "    </tr>\n",
       "    <tr>\n",
       "      <th>2</th>\n",
       "      <td>27</td>\n",
       "      <td>0</td>\n",
       "      <td>0</td>\n",
       "      <td>0</td>\n",
       "      <td>1</td>\n",
       "      <td>2</td>\n",
       "      <td>0</td>\n",
       "      <td>2</td>\n",
       "      <td>3</td>\n",
       "      <td>1</td>\n",
       "      <td>...</td>\n",
       "      <td>0</td>\n",
       "      <td>0</td>\n",
       "      <td>0</td>\n",
       "      <td>0</td>\n",
       "      <td>2</td>\n",
       "      <td>3</td>\n",
       "      <td>0</td>\n",
       "      <td>0</td>\n",
       "      <td>2</td>\n",
       "      <td>3</td>\n",
       "    </tr>\n",
       "    <tr>\n",
       "      <th>3</th>\n",
       "      <td>28</td>\n",
       "      <td>1</td>\n",
       "      <td>0</td>\n",
       "      <td>0</td>\n",
       "      <td>0</td>\n",
       "      <td>0</td>\n",
       "      <td>0</td>\n",
       "      <td>0</td>\n",
       "      <td>1</td>\n",
       "      <td>0</td>\n",
       "      <td>...</td>\n",
       "      <td>0</td>\n",
       "      <td>0</td>\n",
       "      <td>0</td>\n",
       "      <td>0</td>\n",
       "      <td>0</td>\n",
       "      <td>0</td>\n",
       "      <td>0</td>\n",
       "      <td>0</td>\n",
       "      <td>1</td>\n",
       "      <td>1</td>\n",
       "    </tr>\n",
       "    <tr>\n",
       "      <th>4</th>\n",
       "      <td>70</td>\n",
       "      <td>1</td>\n",
       "      <td>0</td>\n",
       "      <td>0</td>\n",
       "      <td>7</td>\n",
       "      <td>14</td>\n",
       "      <td>0</td>\n",
       "      <td>12</td>\n",
       "      <td>4</td>\n",
       "      <td>0</td>\n",
       "      <td>...</td>\n",
       "      <td>0</td>\n",
       "      <td>0</td>\n",
       "      <td>0</td>\n",
       "      <td>0</td>\n",
       "      <td>8</td>\n",
       "      <td>0</td>\n",
       "      <td>0</td>\n",
       "      <td>0</td>\n",
       "      <td>2</td>\n",
       "      <td>14</td>\n",
       "    </tr>\n",
       "  </tbody>\n",
       "</table>\n",
       "<p>5 rows × 179 columns</p>\n",
       "</div>"
      ],
      "text/plain": [
       "scientific_name  grid_id  Anairetes parulus  Anarhynchus falklandicus  \\\n",
       "0                     25                  0                         0   \n",
       "1                     26                  3                         0   \n",
       "2                     27                  0                         0   \n",
       "3                     28                  1                         0   \n",
       "4                     70                  1                         0   \n",
       "\n",
       "scientific_name  Anas bahamensis  Anas flavirostris  Anas georgica  \\\n",
       "0                              0                  0              1   \n",
       "1                              0                  3              3   \n",
       "2                              0                  1              2   \n",
       "3                              0                  0              0   \n",
       "4                              0                  7             14   \n",
       "\n",
       "scientific_name  Anser anser  Anthus correndera  Aphrastura spinicauda  \\\n",
       "0                          0                  1                      0   \n",
       "1                          0                  1                      5   \n",
       "2                          0                  2                      3   \n",
       "3                          0                  0                      1   \n",
       "4                          0                 12                      4   \n",
       "\n",
       "scientific_name  Aptenodytes patagonicus  ...  Tyrannus savana  \\\n",
       "0                                      0  ...                0   \n",
       "1                                      0  ...                0   \n",
       "2                                      1  ...                0   \n",
       "3                                      0  ...                0   \n",
       "4                                      0  ...                0   \n",
       "\n",
       "scientific_name  Tyrannus tyrannus  Tyto furcata  Upucerthia dumetaria  \\\n",
       "0                                0             0                     0   \n",
       "1                                0             0                     0   \n",
       "2                                0             0                     0   \n",
       "3                                0             0                     0   \n",
       "4                                0             0                     0   \n",
       "\n",
       "scientific_name  Vanellus chilensis  Vultur gryphus  Zenaida auriculata  \\\n",
       "0                                 2               1                   0   \n",
       "1                                 2               0                   0   \n",
       "2                                 2               3                   0   \n",
       "3                                 0               0                   0   \n",
       "4                                 8               0                   0   \n",
       "\n",
       "scientific_name  Zenaida meloda  Zonibyx modestus  Zonotrichia capensis  \n",
       "0                             0                 1                     1  \n",
       "1                             0                 2                     5  \n",
       "2                             0                 2                     3  \n",
       "3                             0                 1                     1  \n",
       "4                             0                 2                    14  \n",
       "\n",
       "[5 rows x 179 columns]"
      ]
     },
     "execution_count": 9,
     "metadata": {},
     "output_type": "execute_result"
    }
   ],
   "source": [
    "df_grilla_spp = utils.crear_df_conteos(df_corr)\n",
    "df_grilla_spp.head()"
   ]
  },
  {
   "cell_type": "markdown",
   "id": "dbcd3d4f",
   "metadata": {},
   "source": [
    "## Exportar el dataframe generado como un csv"
   ]
  },
  {
   "cell_type": "code",
   "execution_count": 10,
   "id": "a973e37e",
   "metadata": {},
   "outputs": [],
   "source": [
    "df_grilla_spp.to_csv('../data/interim/grilla_tdf_spp.csv', index=False)"
   ]
  }
 ],
 "metadata": {
  "kernelspec": {
   "display_name": "Python 3",
   "language": "python",
   "name": "python3"
  },
  "language_info": {
   "codemirror_mode": {
    "name": "ipython",
    "version": 3
   },
   "file_extension": ".py",
   "mimetype": "text/x-python",
   "name": "python",
   "nbconvert_exporter": "python",
   "pygments_lexer": "ipython3",
   "version": "3.13.0"
  }
 },
 "nbformat": 4,
 "nbformat_minor": 5
}
