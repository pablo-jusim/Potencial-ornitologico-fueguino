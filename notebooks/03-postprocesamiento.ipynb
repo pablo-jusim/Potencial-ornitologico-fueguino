{
 "cells": [
  {
   "cell_type": "markdown",
   "id": "4d080d57",
   "metadata": {},
   "source": [
    "# Potencial Ornitológico Fueguino\n",
    "### **Autor:** Pablo Jusim"
   ]
  },
  {
   "cell_type": "markdown",
   "id": "4e76bc9b",
   "metadata": {},
   "source": [
    "# Script de postprocesmiento de la grilla espacial\n",
    "\n",
    "En este script se tomará la grilla espacial generada en el notebook *main* y se buscarán las celdas con mejor potencial ornitológico dentro de cada cluster."
   ]
  },
  {
   "cell_type": "markdown",
   "id": "c4996ccf",
   "metadata": {},
   "source": [
    "## Importaciones"
   ]
  },
  {
   "cell_type": "code",
   "execution_count": 104,
   "id": "fcf8573d",
   "metadata": {},
   "outputs": [],
   "source": [
    "import pandas as pd\n",
    "import geopandas as gpd\n",
    "import sys\n",
    "from pathlib import Path\n",
    "\n",
    "# Modulos propios\n",
    "sys.path.append(str(Path('..')/'src'))\n",
    "\n",
    "import utils"
   ]
  },
  {
   "cell_type": "markdown",
   "id": "fde02157",
   "metadata": {},
   "source": [
    "## Carga de datos"
   ]
  },
  {
   "cell_type": "code",
   "execution_count": 39,
   "id": "2d83c9b6",
   "metadata": {},
   "outputs": [],
   "source": [
    "ruta_grilla = '../data/processed/grilla_tdf_clusters.gpkg'\n",
    "ruta_registros = '../data/processed/grilla_tdf_spp.csv'\n",
    "\n",
    "grilla = gpd.read_file(ruta_grilla)\n",
    "registros = pd.read_csv(ruta_registros)"
   ]
  },
  {
   "cell_type": "markdown",
   "id": "e9447de0",
   "metadata": {},
   "source": [
    "## Cálculo de nuevas variables"
   ]
  },
  {
   "cell_type": "markdown",
   "id": "4f10c14a",
   "metadata": {},
   "source": [
    "#### Crear un nuevo dataframe para almacenar variables temporales\n",
    "Aquí se almacenarán variables para permitir calcular las variables de interés antes de incorporarlas a la grilla. La inicializo con el número de celda y de cluster"
   ]
  },
  {
   "cell_type": "code",
   "execution_count": 61,
   "id": "2b105093",
   "metadata": {},
   "outputs": [],
   "source": [
    "df_calc = grilla[['grid_id', 'GaussianMixture']].copy()\n",
    "# Filtrar las filas donde haya datos del cluster\n",
    "df_calc = df_calc[df_calc['GaussianMixture'].notna()]\n",
    "# Renombrar la columna ‘GaussianMixture’ a ‘cluster’\n",
    "df_calc = df_calc.rename(columns={'GaussianMixture': 'cluster'})"
   ]
  },
  {
   "cell_type": "markdown",
   "id": "168f4775",
   "metadata": {},
   "source": [
    "### Celdas de cada cluster con mayor riqueza de aves registradas\n",
    "Calculo la cantidad de especies registradas (riqueza) en cada celda y la proporción de registros. Luego asigno un puntaje a cada celda según la cantidad de especies y la proporción de registros en esa celda, siendo independientes los puntajes para cada cluster. Las especies de la lista de prioritarias otorgan un puntaje doble."
   ]
  },
  {
   "cell_type": "markdown",
   "id": "617885db",
   "metadata": {},
   "source": [
    "#### Copiar el dataframe y duplicar el valor de las especies de interés\n",
    "Al duplicar la cantidad de registros de las especies de interés se les asigna mayor peso\n",
    "\n",
    "Los observadores de aves en muchos casos viajan a determinados lugares buscando ciertas especies en particular, además de tratar de registrar toda la avifauna posible. Para Tierra del Fuego, elaboré una lista de las especies más buscadas y las especies endémicas o que dificilmente se observan en otros sitios, según una encuesta realizada al Club de Observadores de Aves de Ushuaia, chat GPT y conocimiento propio Estas especies fueron: \n",
    "- Carpintero gigante (*Campephilus magellanicus*)\n",
    "- Cóndor andino (*Vultur gryphus*)\n",
    "- Caranca (*Chloephaga hybrida*)\n",
    "- Cauquén colorado (*Chloephaga rubidiceps*)\n",
    "- Matamico blanco (*Daptrius albogularis*)\n",
    "- Carancho austral (*Daptrius australis*)\n",
    "- Remolinera negra (*Cinclodes antarcticus*)\n",
    "- Quetro austral (*Tachyeres pteneres*)\n",
    "- Caminera patagónica (*Geositta antarctica*)\n",
    "- Playero Rojizo (*Calidris canutus*)\n",
    "- Pingüino Rey (*Aptenodytes patagonicus*)\n",
    "- Albatros de Ceja Negra (*Thalassarche melanophris*)\n",
    "\n",
    "Al duplicar la cantidad de registros de las especies de interés se les asigna mayor peso."
   ]
  },
  {
   "cell_type": "code",
   "execution_count": null,
   "id": "b0df308e",
   "metadata": {},
   "outputs": [
    {
     "name": "stdout",
     "output_type": "stream",
     "text": [
      "True\n",
      "True\n",
      "True\n",
      "True\n",
      "True\n",
      "True\n",
      "True\n",
      "True\n",
      "True\n",
      "True\n",
      "True\n",
      "True\n"
     ]
    }
   ],
   "source": [
    "lista_spp_buscadas = [\n",
    "    \"Campephilus magellanicus\",\n",
    "    \"Vultur gryphus\",\n",
    "    \"Chloephaga hybrida\",\n",
    "    \"Chloephaga rubidiceps\",\n",
    "    \"Daptrius albogularis\",\n",
    "    \"Daptrius australis\",\n",
    "    \"Cinclodes antarcticus\",\n",
    "    \"Tachyeres pteneres\",\n",
    "    \"Geositta antarctica\",\n",
    "    \"Calidris canutus\",\n",
    "    \"Aptenodytes patagonicus\",\n",
    "    \"Thalassarche melanophris\"\n",
    "]\n",
    "\n",
    "# Convertir la columna 'grid_id' de registros en índice\n",
    "reg_idx = registros.set_index('grid_id')\n",
    "\n",
    "# Revisar que las especies buscadas estén en los registros bien escritas\n",
    "for spp in lista_spp_buscadas:\n",
    "    print(spp in reg_idx.columns)"
   ]
  },
  {
   "cell_type": "code",
   "execution_count": null,
   "id": "1cdb9ac7",
   "metadata": {},
   "outputs": [],
   "source": [
    "# Calcular, para cada especie (columna), el máximo número de registros en cualquier celda\n",
    "max_por_especie = reg_idx.max(axis=0)\n",
    "# Construir un DataFrame de proporciones fila‒columna:\n",
    "df_prop = reg_idx.div(max_por_especie, axis=1)\n",
    "\n",
    "# Crear una Serie de pesos por especie: 1 por defecto, 2 si está en la lista de spp buscadas\n",
    "pesos = pd.Series(1.0, index=reg_idx.columns)\n",
    "pesos.loc[lista_spp_buscadas] = 2.0\n",
    "# Multiplicar cada columna de proporciones por su peso\n",
    "df_ponderado = df_prop * pesos\n",
    "\n",
    "# Para cada fila (celda), sumar las proporciones ponderadas → riqueza ponderada\n",
    "reg_idx = reg_idx.assign(riqueza_ponderada = df_ponderado.sum(axis=1))"
   ]
  },
  {
   "cell_type": "markdown",
   "id": "09fbe0cc",
   "metadata": {},
   "source": [
    "##### Agregar la riqueza ponderada al df temporal"
   ]
  },
  {
   "cell_type": "code",
   "execution_count": 98,
   "id": "84ecda55",
   "metadata": {},
   "outputs": [],
   "source": [
    "df_calc['riqueza_ponderada'] = df_calc['grid_id'].map(reg_idx['riqueza_ponderada'])"
   ]
  },
  {
   "cell_type": "markdown",
   "id": "106d6444",
   "metadata": {},
   "source": [
    "##### Calcular el puntaje de riqueza por celda de cada cluster\n",
    "El puntaje va entre 0 (sin registros) y 1 (la celda con mayor riqueza ponderada del cluster)"
   ]
  },
  {
   "cell_type": "code",
   "execution_count": 101,
   "id": "319548d5",
   "metadata": {},
   "outputs": [],
   "source": [
    "# Calcular, para cada fila, el máximo de riqueza ponderada en su cluster\n",
    "max_por_cluster = df_calc.groupby('cluster')['riqueza_ponderada'] \\\n",
    "                         .transform('max')\n",
    "# Dividir la riqueza de cada fila por ese máximo\n",
    "df_calc['score_riqueza'] = df_calc['riqueza_ponderada'] / max_por_cluster"
   ]
  },
  {
   "cell_type": "code",
   "execution_count": 110,
   "id": "dba130ea",
   "metadata": {},
   "outputs": [
    {
     "data": {
      "application/vnd.microsoft.datawrangler.viewer.v0+json": {
       "columns": [
        {
         "name": "index",
         "rawType": "int64",
         "type": "integer"
        },
        {
         "name": "grid_id",
         "rawType": "int64",
         "type": "integer"
        },
        {
         "name": "cluster",
         "rawType": "float64",
         "type": "float"
        },
        {
         "name": "riqueza_ponderada",
         "rawType": "float64",
         "type": "float"
        },
        {
         "name": "score_riqueza",
         "rawType": "float64",
         "type": "float"
        }
       ],
       "ref": "f05cad6a-443c-4a7d-bd58-105139c274d0",
       "rows": [
        [
         "0",
         "25",
         "2.0",
         "0.8490144348307459",
         "0.00904559873041811"
        ],
        [
         "1",
         "26",
         "2.0",
         "0.25815462824166957",
         "0.0027504399002826483"
        ],
        [
         "2",
         "27",
         "2.0",
         "0.7517861196209285",
         "0.008009705477557284"
        ],
        [
         "3",
         "28",
         "2.0",
         "0.02015799401190554",
         "0.00021476799163988182"
        ],
        [
         "5",
         "70",
         "2.0",
         "1.0533489846778723",
         "0.011222626904322118"
        ],
        [
         "6",
         "71",
         "0.0",
         "0.11028511607580596",
         "0.002379530108364114"
        ],
        [
         "10",
         "75",
         "0.0",
         "0.04053415736451353",
         "0.0008745717581666341"
        ],
        [
         "11",
         "76",
         "2.0",
         "0.041246435207659964",
         "0.00043944918559960693"
        ],
        [
         "12",
         "77",
         "2.0",
         "0.04060920361182373",
         "0.000432659970860958"
        ],
        [
         "14",
         "79",
         "2.0",
         "0.035969074485631435",
         "0.0003832229478717923"
        ],
        [
         "16",
         "112",
         "2.0",
         "0.6370810310690621",
         "0.006787610586338971"
        ],
        [
         "17",
         "113",
         "2.0",
         "0.39113865658495545",
         "0.0041672828991743205"
        ],
        [
         "18",
         "114",
         "2.0",
         "0.6495829267670585",
         "0.0069208087125594755"
        ],
        [
         "19",
         "115",
         "2.0",
         "0.049645988851870916",
         "0.0005289399983150586"
        ],
        [
         "20",
         "116",
         "2.0",
         "0.3875447147824555",
         "0.004128992201075212"
        ],
        [
         "37",
         "138",
         "2.0",
         "0.7016809745552778",
         "0.007475873521350771"
        ],
        [
         "38",
         "149",
         "2.0",
         "1.6934157386763884",
         "0.018042048082368443"
        ],
        [
         "39",
         "150",
         "2.0",
         "1.2496800723696977",
         "0.013314384317045992"
        ],
        [
         "40",
         "152",
         "2.0",
         "0.4277089718611843",
         "0.0045569116073123535"
        ],
        [
         "41",
         "153",
         "2.0",
         "1.5807358893789711",
         "0.016841530564722686"
        ],
        [
         "42",
         "154",
         "2.0",
         "9.919889827801027",
         "0.1056888306617929"
        ],
        [
         "43",
         "155",
         "2.0",
         "0.17401727508044137",
         "0.0018540208245720348"
        ],
        [
         "44",
         "156",
         "2.0",
         "0.6244523964238636",
         "0.006653062153677405"
        ],
        [
         "45",
         "157",
         "2.0",
         "0.09753618909111617",
         "0.0010391734133334324"
        ],
        [
         "46",
         "158",
         "2.0",
         "0.10836251564665181",
         "0.001154519633289478"
        ],
        [
         "47",
         "159",
         "0.0",
         "0.013409106796432691",
         "0.0002893171307581478"
        ],
        [
         "60",
         "172",
         "2.0",
         "0.2722998018896037",
         "0.0029011458948359726"
        ],
        [
         "61",
         "173",
         "2.0",
         "0.05103865854939413",
         "0.0005437778276039318"
        ],
        [
         "62",
         "174",
         "2.0",
         "0.01028549100476464",
         "0.00010958403126911909"
        ],
        [
         "63",
         "175",
         "1.0",
         "0.0007664185864342591",
         "1.764866471649075e-05"
        ],
        [
         "64",
         "176",
         "0.0",
         "0.004181187881372628",
         "9.021400898390105e-05"
        ],
        [
         "69",
         "181",
         "2.0",
         "1.2503835595536346",
         "0.013321879434345327"
        ],
        [
         "70",
         "184",
         "0.0",
         "26.192800662555864",
         "0.5651402475388446"
        ],
        [
         "71",
         "185",
         "2.0",
         "8.463266747436329",
         "0.09016962704651947"
        ],
        [
         "72",
         "186",
         "2.0",
         "3.8391219568552812",
         "0.0409029049144181"
        ],
        [
         "73",
         "187",
         "2.0",
         "2.4950138049994184",
         "0.026582461712064517"
        ],
        [
         "74",
         "188",
         "2.0",
         "4.217121523149847",
         "0.044930200866876616"
        ],
        [
         "75",
         "189",
         "2.0",
         "3.1567254344845046",
         "0.03363249246538904"
        ],
        [
         "76",
         "190",
         "2.0",
         "8.487409717964441",
         "0.09042685191172585"
        ],
        [
         "77",
         "191",
         "2.0",
         "0.6645369923412044",
         "0.007080132831234854"
        ],
        [
         "78",
         "192",
         "2.0",
         "33.602938946974234",
         "0.3580135854081947"
        ],
        [
         "79",
         "193",
         "2.0",
         "0.7352955264665738",
         "0.007834010834002009"
        ],
        [
         "80",
         "194",
         "2.0",
         "0.17816189707137398",
         "0.0018981785984345213"
        ],
        [
         "81",
         "195",
         "2.0",
         "0.11382832854132953",
         "0.0012127536846229588"
        ],
        [
         "82",
         "196",
         "0.0",
         "0.01451369178245983",
         "0.00031314984114575687"
        ],
        [
         "83",
         "197",
         "2.0",
         "0.984691522158624",
         "0.010491134210771332"
        ],
        [
         "84",
         "198",
         "2.0",
         "1.4980531563610757",
         "0.01596060935286688"
        ],
        [
         "85",
         "199",
         "2.0",
         "0.5449575814511491",
         "0.0058061057676704235"
        ],
        [
         "86",
         "200",
         "2.0",
         "3.847577057675179",
         "0.04099298753975918"
        ],
        [
         "87",
         "201",
         "2.0",
         "0.6088952814693595",
         "0.0064873130055966835"
        ]
       ],
       "shape": {
        "columns": 4,
        "rows": 393
       }
      },
      "text/html": [
       "<div>\n",
       "<style scoped>\n",
       "    .dataframe tbody tr th:only-of-type {\n",
       "        vertical-align: middle;\n",
       "    }\n",
       "\n",
       "    .dataframe tbody tr th {\n",
       "        vertical-align: top;\n",
       "    }\n",
       "\n",
       "    .dataframe thead th {\n",
       "        text-align: right;\n",
       "    }\n",
       "</style>\n",
       "<table border=\"1\" class=\"dataframe\">\n",
       "  <thead>\n",
       "    <tr style=\"text-align: right;\">\n",
       "      <th></th>\n",
       "      <th>grid_id</th>\n",
       "      <th>cluster</th>\n",
       "      <th>riqueza_ponderada</th>\n",
       "      <th>score_riqueza</th>\n",
       "    </tr>\n",
       "  </thead>\n",
       "  <tbody>\n",
       "    <tr>\n",
       "      <th>0</th>\n",
       "      <td>25</td>\n",
       "      <td>2.0</td>\n",
       "      <td>0.849014</td>\n",
       "      <td>0.009046</td>\n",
       "    </tr>\n",
       "    <tr>\n",
       "      <th>1</th>\n",
       "      <td>26</td>\n",
       "      <td>2.0</td>\n",
       "      <td>0.258155</td>\n",
       "      <td>0.002750</td>\n",
       "    </tr>\n",
       "    <tr>\n",
       "      <th>2</th>\n",
       "      <td>27</td>\n",
       "      <td>2.0</td>\n",
       "      <td>0.751786</td>\n",
       "      <td>0.008010</td>\n",
       "    </tr>\n",
       "    <tr>\n",
       "      <th>3</th>\n",
       "      <td>28</td>\n",
       "      <td>2.0</td>\n",
       "      <td>0.020158</td>\n",
       "      <td>0.000215</td>\n",
       "    </tr>\n",
       "    <tr>\n",
       "      <th>5</th>\n",
       "      <td>70</td>\n",
       "      <td>2.0</td>\n",
       "      <td>1.053349</td>\n",
       "      <td>0.011223</td>\n",
       "    </tr>\n",
       "    <tr>\n",
       "      <th>...</th>\n",
       "      <td>...</td>\n",
       "      <td>...</td>\n",
       "      <td>...</td>\n",
       "      <td>...</td>\n",
       "    </tr>\n",
       "    <tr>\n",
       "      <th>909</th>\n",
       "      <td>2300</td>\n",
       "      <td>1.0</td>\n",
       "      <td>0.055650</td>\n",
       "      <td>0.001281</td>\n",
       "    </tr>\n",
       "    <tr>\n",
       "      <th>910</th>\n",
       "      <td>2301</td>\n",
       "      <td>1.0</td>\n",
       "      <td>0.352171</td>\n",
       "      <td>0.008110</td>\n",
       "    </tr>\n",
       "    <tr>\n",
       "      <th>912</th>\n",
       "      <td>2346</td>\n",
       "      <td>2.0</td>\n",
       "      <td>0.034854</td>\n",
       "      <td>0.000371</td>\n",
       "    </tr>\n",
       "    <tr>\n",
       "      <th>914</th>\n",
       "      <td>2392</td>\n",
       "      <td>1.0</td>\n",
       "      <td>4.802218</td>\n",
       "      <td>0.110583</td>\n",
       "    </tr>\n",
       "    <tr>\n",
       "      <th>915</th>\n",
       "      <td>2438</td>\n",
       "      <td>1.0</td>\n",
       "      <td>1.523447</td>\n",
       "      <td>0.035081</td>\n",
       "    </tr>\n",
       "  </tbody>\n",
       "</table>\n",
       "<p>393 rows × 4 columns</p>\n",
       "</div>"
      ],
      "text/plain": [
       "     grid_id  cluster  riqueza_ponderada  score_riqueza\n",
       "0         25      2.0           0.849014       0.009046\n",
       "1         26      2.0           0.258155       0.002750\n",
       "2         27      2.0           0.751786       0.008010\n",
       "3         28      2.0           0.020158       0.000215\n",
       "5         70      2.0           1.053349       0.011223\n",
       "..       ...      ...                ...            ...\n",
       "909     2300      1.0           0.055650       0.001281\n",
       "910     2301      1.0           0.352171       0.008110\n",
       "912     2346      2.0           0.034854       0.000371\n",
       "914     2392      1.0           4.802218       0.110583\n",
       "915     2438      1.0           1.523447       0.035081\n",
       "\n",
       "[393 rows x 4 columns]"
      ]
     },
     "execution_count": 110,
     "metadata": {},
     "output_type": "execute_result"
    }
   ],
   "source": [
    "df_calc"
   ]
  },
  {
   "cell_type": "markdown",
   "id": "0bc76221",
   "metadata": {},
   "source": [
    "## Agregar las nuevas variables a la grilla espacial"
   ]
  },
  {
   "cell_type": "code",
   "execution_count": 107,
   "id": "f18ace12",
   "metadata": {},
   "outputs": [],
   "source": [
    "# Agregar el resultado del modelo a la grilla espacial\n",
    "gdf_grid = utils.grillar_res_mod(\n",
    "    grilla=grilla,\n",
    "    id_grid=df_calc['grid_id'],\n",
    "    clusters=df_calc['score_riqueza'],\n",
    "    nombre='score_riqueza'\n",
    ")"
   ]
  },
  {
   "cell_type": "code",
   "execution_count": 108,
   "id": "7393ecf0",
   "metadata": {},
   "outputs": [
    {
     "name": "stdout",
     "output_type": "stream",
     "text": [
      "Grilla con clusters guardada en: ../data/processed/grilla_riqueza.gpkg\n"
     ]
    }
   ],
   "source": [
    "# Guardo el resultado en un nuevo .gpkg\n",
    "ruta_salida = \"../data/processed/grilla_riqueza.gpkg\"\n",
    "gdf_grid.to_file(ruta_salida, driver=\"GPKG\", layer=\"grilla_clusters\")\n",
    "\n",
    "print(\"Grilla con clusters guardada en:\", ruta_salida)"
   ]
  }
 ],
 "metadata": {
  "kernelspec": {
   "display_name": "Python 3",
   "language": "python",
   "name": "python3"
  },
  "language_info": {
   "codemirror_mode": {
    "name": "ipython",
    "version": 3
   },
   "file_extension": ".py",
   "mimetype": "text/x-python",
   "name": "python",
   "nbconvert_exporter": "python",
   "pygments_lexer": "ipython3",
   "version": "3.13.0"
  }
 },
 "nbformat": 4,
 "nbformat_minor": 5
}
