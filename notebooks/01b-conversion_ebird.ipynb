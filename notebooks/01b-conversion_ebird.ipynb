{
 "cells": [
  {
   "cell_type": "markdown",
   "id": "afd87c4d",
   "metadata": {},
   "source": [
    "# Potencial Ornitológico Fueguino\n",
    "### **Autor:** Pablo Jusim"
   ]
  },
  {
   "cell_type": "markdown",
   "id": "f60bfb8e",
   "metadata": {},
   "source": [
    "# Script de preprocesamiento de observaciones de eBird\n",
    "\n",
    "![title](../data/external/logo_ebird.png)\n",
    "\n",
    "Se realizan verificaciones antes de obtener el dataframe final.\n",
    "\n",
    "La salida de este script será un dataframe de pandas donde cada fila representará una observación de eBird.\n",
    "\n",
    "El dataframe final tendrá las siguientes **columnas**: id_obs, id_celda, especie, familia, orden, fecha"
   ]
  },
  {
   "cell_type": "markdown",
   "id": "16679e68",
   "metadata": {},
   "source": [
    "## Importaciones"
   ]
  },
  {
   "cell_type": "code",
   "execution_count": null,
   "id": "b5dfea0c",
   "metadata": {},
   "outputs": [],
   "source": [
    "import pandas as pd\n",
    "from IPython.display import display"
   ]
  },
  {
   "cell_type": "markdown",
   "id": "fba8ad6b",
   "metadata": {},
   "source": [
    "## Carga de datos"
   ]
  },
  {
   "cell_type": "markdown",
   "id": "6c69152d",
   "metadata": {},
   "source": [
    "**Nota para el usuario del notebook:** EL archivo \"obs_ebird.txt\" pesa 166 mb, por lo que es muy pesado para subirlo a GitHub. El mismo puede ser descargado de [google drive](https://drive.google.com/file/d/1Dlc4CDrUaHSdlqO_qWHAMROhHPoJIOhG/view?usp=sharing)."
   ]
  },
  {
   "cell_type": "code",
   "execution_count": null,
   "id": "f8722166",
   "metadata": {},
   "outputs": [],
   "source": [
    "archivo = '../data/external/obs_ebird.txt'\n",
    "try:\n",
    "    df_base = pd.read_csv(archivo, sep='\\t')\n",
    "    display(df_base.head())\n",
    "except FileNotFoundError:\n",
    "    print('No se encuentra el archivo en la ruta ' + archivo)"
   ]
  },
  {
   "cell_type": "markdown",
   "id": "b80bf7af",
   "metadata": {},
   "source": [
    "## Limpieza de datos"
   ]
  },
  {
   "cell_type": "markdown",
   "id": "94530678",
   "metadata": {},
   "source": [
    "### Revisión y eliminación de columnas no útiles"
   ]
  },
  {
   "cell_type": "code",
   "execution_count": null,
   "id": "48889324",
   "metadata": {},
   "outputs": [],
   "source": [
    "# Conservo únicamente las columnas necesarias y renombro según el formato de iNaturalist\n",
    "df_filtrado = df_base[['COMMON NAME', 'SCIENTIFIC NAME', 'LATITUDE', 'LONGITUDE', 'OBSERVATION DATE']].rename(columns={\n",
    "    'COMMON NAME': 'common_name',\n",
    "    'SCIENTIFIC NAME': 'scientific_name',\n",
    "    'LATITUDE': 'latitude',\n",
    "    'LONGITUDE': 'longitude',\n",
    "    'OBSERVATION DATE': 'observed_on'\n",
    "})\n"
   ]
  },
  {
   "cell_type": "markdown",
   "id": "718784e3",
   "metadata": {},
   "source": [
    "##### Ver resumen de valores"
   ]
  },
  {
   "cell_type": "code",
   "execution_count": null,
   "id": "b9c9a34d",
   "metadata": {},
   "outputs": [],
   "source": [
    "# Ver la cantidad de datos faltantes en cada fila\n",
    "print(df_filtrado.isnull().sum())"
   ]
  },
  {
   "cell_type": "code",
   "execution_count": null,
   "id": "bd30a0c0",
   "metadata": {},
   "outputs": [],
   "source": [
    "# Reviso puntos extremos de las coordenadas\n",
    "df_filtrado.describe()"
   ]
  },
  {
   "cell_type": "markdown",
   "id": "db707b60",
   "metadata": {},
   "source": [
    "## Exportar el data frame resultante"
   ]
  },
  {
   "cell_type": "code",
   "execution_count": null,
   "id": "00d3a18a",
   "metadata": {},
   "outputs": [],
   "source": [
    "df_filtrado.to_csv('../data/raw/data_ebird.csv', index=False)"
   ]
  }
 ],
 "metadata": {
  "kernelspec": {
   "display_name": "Python 3",
   "language": "python",
   "name": "python3"
  },
  "language_info": {
   "codemirror_mode": {
    "name": "ipython",
    "version": 3
   },
   "file_extension": ".py",
   "mimetype": "text/x-python",
   "name": "python",
   "nbconvert_exporter": "python",
   "pygments_lexer": "ipython3",
   "version": "3.13.0"
  }
 },
 "nbformat": 4,
 "nbformat_minor": 5
}
