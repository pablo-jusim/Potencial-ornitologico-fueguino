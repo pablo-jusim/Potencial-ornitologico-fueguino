{
 "cells": [
  {
   "cell_type": "markdown",
   "id": "afd87c4d",
   "metadata": {},
   "source": [
    "# Potencial Ornitológico Fueguino\n",
    "### **Autor:** Pablo Jusim"
   ]
  },
  {
   "cell_type": "markdown",
   "id": "f60bfb8e",
   "metadata": {},
   "source": [
    "# Script de preprocesamiento de observaciones de eBird\n",
    "\n",
    "![title](../data/external/logo_ebird.png)\n",
    "\n",
    "Se realizan verificaciones antes de obtener el dataframe final.\n",
    "\n",
    "La salida de este script será un dataframe de pandas donde cada fila representará una observación de eBird.\n",
    "\n",
    "El dataframe final tendrá las siguientes **columnas**: id_obs, id_celda, especie, familia, orden, fecha"
   ]
  },
  {
   "cell_type": "markdown",
   "id": "16679e68",
   "metadata": {},
   "source": [
    "## Importaciones"
   ]
  },
  {
   "cell_type": "code",
   "execution_count": 1,
   "id": "b5dfea0c",
   "metadata": {},
   "outputs": [],
   "source": [
    "import pandas as pd\n",
    "from IPython.display import display"
   ]
  },
  {
   "cell_type": "markdown",
   "id": "fba8ad6b",
   "metadata": {},
   "source": [
    "## Carga de datos"
   ]
  },
  {
   "cell_type": "markdown",
   "id": "6c69152d",
   "metadata": {},
   "source": [
    "**Nota para el usuario del notebook:** EL archivo \"obs_ebird.txt\" pesa 166 mb, por lo que es muy pesado para subirlo a GitHub. El mismo puede ser descargado de [google drive](https://drive.google.com/file/d/1Dlc4CDrUaHSdlqO_qWHAMROhHPoJIOhG/view?usp=sharing)."
   ]
  },
  {
   "cell_type": "code",
   "execution_count": 2,
   "id": "f8722166",
   "metadata": {},
   "outputs": [
    {
     "name": "stderr",
     "output_type": "stream",
     "text": [
      "C:\\Users\\pablo\\AppData\\Local\\Temp\\ipykernel_13284\\3404752771.py:3: DtypeWarning: Columns (11,12,13,14,33,38) have mixed types. Specify dtype option on import or set low_memory=False.\n",
      "  df_base = pd.read_csv(archivo, sep='\\t')\n"
     ]
    },
    {
     "data": {
      "application/vnd.microsoft.datawrangler.viewer.v0+json": {
       "columns": [
        {
         "name": "index",
         "rawType": "int64",
         "type": "integer"
        },
        {
         "name": "GLOBAL UNIQUE IDENTIFIER",
         "rawType": "object",
         "type": "string"
        },
        {
         "name": "LAST EDITED DATE",
         "rawType": "object",
         "type": "string"
        },
        {
         "name": "TAXONOMIC ORDER",
         "rawType": "int64",
         "type": "integer"
        },
        {
         "name": "CATEGORY",
         "rawType": "object",
         "type": "string"
        },
        {
         "name": "TAXON CONCEPT ID",
         "rawType": "object",
         "type": "string"
        },
        {
         "name": "COMMON NAME",
         "rawType": "object",
         "type": "string"
        },
        {
         "name": "SCIENTIFIC NAME",
         "rawType": "object",
         "type": "string"
        },
        {
         "name": "SUBSPECIES COMMON NAME",
         "rawType": "object",
         "type": "unknown"
        },
        {
         "name": "SUBSPECIES SCIENTIFIC NAME",
         "rawType": "object",
         "type": "unknown"
        },
        {
         "name": "EXOTIC CODE",
         "rawType": "object",
         "type": "unknown"
        },
        {
         "name": "OBSERVATION COUNT",
         "rawType": "object",
         "type": "string"
        },
        {
         "name": "BREEDING CODE",
         "rawType": "object",
         "type": "unknown"
        },
        {
         "name": "BREEDING CATEGORY",
         "rawType": "object",
         "type": "unknown"
        },
        {
         "name": "BEHAVIOR CODE",
         "rawType": "object",
         "type": "unknown"
        },
        {
         "name": "AGE/SEX",
         "rawType": "object",
         "type": "unknown"
        },
        {
         "name": "COUNTRY",
         "rawType": "object",
         "type": "string"
        },
        {
         "name": "COUNTRY CODE",
         "rawType": "object",
         "type": "string"
        },
        {
         "name": "STATE",
         "rawType": "object",
         "type": "string"
        },
        {
         "name": "STATE CODE",
         "rawType": "object",
         "type": "string"
        },
        {
         "name": "COUNTY",
         "rawType": "object",
         "type": "string"
        },
        {
         "name": "COUNTY CODE",
         "rawType": "object",
         "type": "string"
        },
        {
         "name": "IBA CODE",
         "rawType": "object",
         "type": "string"
        },
        {
         "name": "BCR CODE",
         "rawType": "float64",
         "type": "float"
        },
        {
         "name": "USFWS CODE",
         "rawType": "float64",
         "type": "float"
        },
        {
         "name": "ATLAS BLOCK",
         "rawType": "float64",
         "type": "float"
        },
        {
         "name": "LOCALITY",
         "rawType": "object",
         "type": "string"
        },
        {
         "name": "LOCALITY ID",
         "rawType": "object",
         "type": "string"
        },
        {
         "name": "LOCALITY TYPE",
         "rawType": "object",
         "type": "string"
        },
        {
         "name": "LATITUDE",
         "rawType": "float64",
         "type": "float"
        },
        {
         "name": "LONGITUDE",
         "rawType": "float64",
         "type": "float"
        },
        {
         "name": "OBSERVATION DATE",
         "rawType": "object",
         "type": "string"
        },
        {
         "name": "TIME OBSERVATIONS STARTED",
         "rawType": "object",
         "type": "string"
        },
        {
         "name": "OBSERVER ID",
         "rawType": "object",
         "type": "string"
        },
        {
         "name": "OBSERVER ORCID ID",
         "rawType": "object",
         "type": "unknown"
        },
        {
         "name": "SAMPLING EVENT IDENTIFIER",
         "rawType": "object",
         "type": "string"
        },
        {
         "name": "OBSERVATION TYPE",
         "rawType": "object",
         "type": "string"
        },
        {
         "name": "PROTOCOL NAME",
         "rawType": "object",
         "type": "string"
        },
        {
         "name": "PROTOCOL CODE",
         "rawType": "object",
         "type": "string"
        },
        {
         "name": "PROJECT NAMES",
         "rawType": "object",
         "type": "unknown"
        },
        {
         "name": "PROJECT IDENTIFIERS",
         "rawType": "float64",
         "type": "float"
        },
        {
         "name": "DURATION MINUTES",
         "rawType": "float64",
         "type": "float"
        },
        {
         "name": "EFFORT DISTANCE KM",
         "rawType": "float64",
         "type": "float"
        },
        {
         "name": "EFFORT AREA HA",
         "rawType": "float64",
         "type": "float"
        },
        {
         "name": "NUMBER OBSERVERS",
         "rawType": "float64",
         "type": "float"
        },
        {
         "name": "ALL SPECIES REPORTED",
         "rawType": "int64",
         "type": "integer"
        },
        {
         "name": "GROUP IDENTIFIER",
         "rawType": "object",
         "type": "unknown"
        },
        {
         "name": "HAS MEDIA",
         "rawType": "int64",
         "type": "integer"
        },
        {
         "name": "APPROVED",
         "rawType": "int64",
         "type": "integer"
        },
        {
         "name": "REVIEWED",
         "rawType": "int64",
         "type": "integer"
        },
        {
         "name": "REASON",
         "rawType": "float64",
         "type": "float"
        },
        {
         "name": "CHECKLIST COMMENTS",
         "rawType": "object",
         "type": "unknown"
        },
        {
         "name": "SPECIES COMMENTS",
         "rawType": "object",
         "type": "unknown"
        },
        {
         "name": "Unnamed: 52",
         "rawType": "float64",
         "type": "float"
        }
       ],
       "ref": "18de7e01-2faf-4249-9b05-53c3d227b573",
       "rows": [
        [
         "0",
         "URN:CornellLabOfOrnithology:EBIRD:OBS1966163490",
         "2025-03-19 15:41:50.266885",
         "6913",
         "species",
         "avibase-1819ECCE",
         "Light-mantled Albatross",
         "Phoebetria palpebrata",
         null,
         null,
         null,
         "X",
         null,
         null,
         null,
         null,
         "Argentina",
         "AR",
         "Tierra del Fuego",
         "AR-V",
         "Ushuaia",
         "AR-V-US",
         "BIRDLIFE_19577",
         null,
         null,
         null,
         "Isla de los Estados, Islas de Año Nuevo e islotes adyacentes",
         "L2763487",
         "H",
         "-54.773",
         "-64.2893333",
         "1900-02-01",
         "00:00:00",
         "obsr2910710",
         null,
         "S163220652",
         "Historical",
         "Historical",
         "P62",
         null,
         null,
         null,
         null,
         null,
         "1.0",
         "0",
         null,
         "0",
         "1",
         "0",
         null,
         null,
         null,
         null
        ],
        [
         "1",
         "URN:CornellLabOfOrnithology:EBIRD:OBS1966176209",
         "2025-03-19 15:41:50.266885",
         "7354",
         "species",
         "avibase-1EA575E0",
         "Magellanic Cormorant",
         "Leucocarbo magellanicus",
         null,
         null,
         null,
         "X",
         null,
         null,
         null,
         null,
         "Argentina",
         "AR",
         "Tierra del Fuego",
         "AR-V",
         "Ushuaia",
         "AR-V-US",
         "BIRDLIFE_19577",
         null,
         null,
         null,
         "Isla de los Estados, Islas de Año Nuevo e islotes adyacentes",
         "L2763487",
         "H",
         "-54.773",
         "-64.2893333",
         "1900-02-01",
         "00:00:00",
         "obsr2910710",
         null,
         "S163220652",
         "Historical",
         "Historical",
         "P62",
         null,
         null,
         null,
         null,
         null,
         "1.0",
         "0",
         null,
         "0",
         "1",
         "0",
         null,
         null,
         null,
         null
        ],
        [
         "2",
         "URN:CornellLabOfOrnithology:EBIRD:OBS2414496199",
         "2025-03-24 07:15:47.007622",
         "16879",
         "species",
         "avibase-644B907D",
         "Austral Negrito",
         "Lessonia rufa",
         null,
         null,
         null,
         "2",
         null,
         null,
         null,
         null,
         "Argentina",
         "AR",
         "Tierra del Fuego",
         "AR-V",
         "Ushuaia",
         "AR-V-US",
         "BIRDLIFE_19576",
         null,
         null,
         null,
         "Ushuaia--Área general (por favor, si es posible cargue sus listas en un sitio de interés más específico /please use more specific locations if possible)",
         "L487913",
         "H",
         "-54.8109743",
         "-68.321228",
         "1972-12-10",
         "08:30:00",
         "obsr504603",
         null,
         "S192799907",
         "Traveling",
         "Traveling",
         "P22",
         null,
         null,
         "180.0",
         "1.609",
         null,
         "4.0",
         "1",
         null,
         "0",
         "1",
         "0",
         null,
         null,
         null,
         null
        ],
        [
         "3",
         "URN:CornellLabOfOrnithology:EBIRD:OBS2414496193",
         "2025-03-24 07:15:47.007622",
         "28360",
         "species",
         "avibase-F09C3940",
         "Austral Thrush",
         "Turdus falcklandii",
         null,
         null,
         null,
         "1",
         null,
         null,
         null,
         null,
         "Argentina",
         "AR",
         "Tierra del Fuego",
         "AR-V",
         "Ushuaia",
         "AR-V-US",
         "BIRDLIFE_19576",
         null,
         null,
         null,
         "Ushuaia--Área general (por favor, si es posible cargue sus listas en un sitio de interés más específico /please use more specific locations if possible)",
         "L487913",
         "H",
         "-54.8109743",
         "-68.321228",
         "1972-12-10",
         "08:30:00",
         "obsr504603",
         null,
         "S192799907",
         "Traveling",
         "Traveling",
         "P22",
         null,
         null,
         "180.0",
         "1.609",
         null,
         "4.0",
         "1",
         null,
         "0",
         "1",
         "0",
         null,
         null,
         null,
         null
        ],
        [
         "4",
         "URN:CornellLabOfOrnithology:EBIRD:OBS2414496194",
         "2025-03-24 07:15:47.007622",
         "32378",
         "species",
         "avibase-AE31F0F3",
         "Black-chinned Siskin",
         "Spinus barbatus",
         null,
         null,
         null,
         "3",
         null,
         null,
         null,
         null,
         "Argentina",
         "AR",
         "Tierra del Fuego",
         "AR-V",
         "Ushuaia",
         "AR-V-US",
         "BIRDLIFE_19576",
         null,
         null,
         null,
         "Ushuaia--Área general (por favor, si es posible cargue sus listas en un sitio de interés más específico /please use more specific locations if possible)",
         "L487913",
         "H",
         "-54.8109743",
         "-68.321228",
         "1972-12-10",
         "08:30:00",
         "obsr504603",
         null,
         "S192799907",
         "Traveling",
         "Traveling",
         "P22",
         null,
         null,
         "180.0",
         "1.609",
         null,
         "4.0",
         "1",
         null,
         "0",
         "1",
         "0",
         null,
         null,
         null,
         null
        ]
       ],
       "shape": {
        "columns": 53,
        "rows": 5
       }
      },
      "text/html": [
       "<div>\n",
       "<style scoped>\n",
       "    .dataframe tbody tr th:only-of-type {\n",
       "        vertical-align: middle;\n",
       "    }\n",
       "\n",
       "    .dataframe tbody tr th {\n",
       "        vertical-align: top;\n",
       "    }\n",
       "\n",
       "    .dataframe thead th {\n",
       "        text-align: right;\n",
       "    }\n",
       "</style>\n",
       "<table border=\"1\" class=\"dataframe\">\n",
       "  <thead>\n",
       "    <tr style=\"text-align: right;\">\n",
       "      <th></th>\n",
       "      <th>GLOBAL UNIQUE IDENTIFIER</th>\n",
       "      <th>LAST EDITED DATE</th>\n",
       "      <th>TAXONOMIC ORDER</th>\n",
       "      <th>CATEGORY</th>\n",
       "      <th>TAXON CONCEPT ID</th>\n",
       "      <th>COMMON NAME</th>\n",
       "      <th>SCIENTIFIC NAME</th>\n",
       "      <th>SUBSPECIES COMMON NAME</th>\n",
       "      <th>SUBSPECIES SCIENTIFIC NAME</th>\n",
       "      <th>EXOTIC CODE</th>\n",
       "      <th>...</th>\n",
       "      <th>NUMBER OBSERVERS</th>\n",
       "      <th>ALL SPECIES REPORTED</th>\n",
       "      <th>GROUP IDENTIFIER</th>\n",
       "      <th>HAS MEDIA</th>\n",
       "      <th>APPROVED</th>\n",
       "      <th>REVIEWED</th>\n",
       "      <th>REASON</th>\n",
       "      <th>CHECKLIST COMMENTS</th>\n",
       "      <th>SPECIES COMMENTS</th>\n",
       "      <th>Unnamed: 52</th>\n",
       "    </tr>\n",
       "  </thead>\n",
       "  <tbody>\n",
       "    <tr>\n",
       "      <th>0</th>\n",
       "      <td>URN:CornellLabOfOrnithology:EBIRD:OBS1966163490</td>\n",
       "      <td>2025-03-19 15:41:50.266885</td>\n",
       "      <td>6913</td>\n",
       "      <td>species</td>\n",
       "      <td>avibase-1819ECCE</td>\n",
       "      <td>Light-mantled Albatross</td>\n",
       "      <td>Phoebetria palpebrata</td>\n",
       "      <td>NaN</td>\n",
       "      <td>NaN</td>\n",
       "      <td>NaN</td>\n",
       "      <td>...</td>\n",
       "      <td>1.0</td>\n",
       "      <td>0</td>\n",
       "      <td>NaN</td>\n",
       "      <td>0</td>\n",
       "      <td>1</td>\n",
       "      <td>0</td>\n",
       "      <td>NaN</td>\n",
       "      <td>NaN</td>\n",
       "      <td>NaN</td>\n",
       "      <td>NaN</td>\n",
       "    </tr>\n",
       "    <tr>\n",
       "      <th>1</th>\n",
       "      <td>URN:CornellLabOfOrnithology:EBIRD:OBS1966176209</td>\n",
       "      <td>2025-03-19 15:41:50.266885</td>\n",
       "      <td>7354</td>\n",
       "      <td>species</td>\n",
       "      <td>avibase-1EA575E0</td>\n",
       "      <td>Magellanic Cormorant</td>\n",
       "      <td>Leucocarbo magellanicus</td>\n",
       "      <td>NaN</td>\n",
       "      <td>NaN</td>\n",
       "      <td>NaN</td>\n",
       "      <td>...</td>\n",
       "      <td>1.0</td>\n",
       "      <td>0</td>\n",
       "      <td>NaN</td>\n",
       "      <td>0</td>\n",
       "      <td>1</td>\n",
       "      <td>0</td>\n",
       "      <td>NaN</td>\n",
       "      <td>NaN</td>\n",
       "      <td>NaN</td>\n",
       "      <td>NaN</td>\n",
       "    </tr>\n",
       "    <tr>\n",
       "      <th>2</th>\n",
       "      <td>URN:CornellLabOfOrnithology:EBIRD:OBS2414496199</td>\n",
       "      <td>2025-03-24 07:15:47.007622</td>\n",
       "      <td>16879</td>\n",
       "      <td>species</td>\n",
       "      <td>avibase-644B907D</td>\n",
       "      <td>Austral Negrito</td>\n",
       "      <td>Lessonia rufa</td>\n",
       "      <td>NaN</td>\n",
       "      <td>NaN</td>\n",
       "      <td>NaN</td>\n",
       "      <td>...</td>\n",
       "      <td>4.0</td>\n",
       "      <td>1</td>\n",
       "      <td>NaN</td>\n",
       "      <td>0</td>\n",
       "      <td>1</td>\n",
       "      <td>0</td>\n",
       "      <td>NaN</td>\n",
       "      <td>NaN</td>\n",
       "      <td>NaN</td>\n",
       "      <td>NaN</td>\n",
       "    </tr>\n",
       "    <tr>\n",
       "      <th>3</th>\n",
       "      <td>URN:CornellLabOfOrnithology:EBIRD:OBS2414496193</td>\n",
       "      <td>2025-03-24 07:15:47.007622</td>\n",
       "      <td>28360</td>\n",
       "      <td>species</td>\n",
       "      <td>avibase-F09C3940</td>\n",
       "      <td>Austral Thrush</td>\n",
       "      <td>Turdus falcklandii</td>\n",
       "      <td>NaN</td>\n",
       "      <td>NaN</td>\n",
       "      <td>NaN</td>\n",
       "      <td>...</td>\n",
       "      <td>4.0</td>\n",
       "      <td>1</td>\n",
       "      <td>NaN</td>\n",
       "      <td>0</td>\n",
       "      <td>1</td>\n",
       "      <td>0</td>\n",
       "      <td>NaN</td>\n",
       "      <td>NaN</td>\n",
       "      <td>NaN</td>\n",
       "      <td>NaN</td>\n",
       "    </tr>\n",
       "    <tr>\n",
       "      <th>4</th>\n",
       "      <td>URN:CornellLabOfOrnithology:EBIRD:OBS2414496194</td>\n",
       "      <td>2025-03-24 07:15:47.007622</td>\n",
       "      <td>32378</td>\n",
       "      <td>species</td>\n",
       "      <td>avibase-AE31F0F3</td>\n",
       "      <td>Black-chinned Siskin</td>\n",
       "      <td>Spinus barbatus</td>\n",
       "      <td>NaN</td>\n",
       "      <td>NaN</td>\n",
       "      <td>NaN</td>\n",
       "      <td>...</td>\n",
       "      <td>4.0</td>\n",
       "      <td>1</td>\n",
       "      <td>NaN</td>\n",
       "      <td>0</td>\n",
       "      <td>1</td>\n",
       "      <td>0</td>\n",
       "      <td>NaN</td>\n",
       "      <td>NaN</td>\n",
       "      <td>NaN</td>\n",
       "      <td>NaN</td>\n",
       "    </tr>\n",
       "  </tbody>\n",
       "</table>\n",
       "<p>5 rows × 53 columns</p>\n",
       "</div>"
      ],
      "text/plain": [
       "                          GLOBAL UNIQUE IDENTIFIER  \\\n",
       "0  URN:CornellLabOfOrnithology:EBIRD:OBS1966163490   \n",
       "1  URN:CornellLabOfOrnithology:EBIRD:OBS1966176209   \n",
       "2  URN:CornellLabOfOrnithology:EBIRD:OBS2414496199   \n",
       "3  URN:CornellLabOfOrnithology:EBIRD:OBS2414496193   \n",
       "4  URN:CornellLabOfOrnithology:EBIRD:OBS2414496194   \n",
       "\n",
       "             LAST EDITED DATE  TAXONOMIC ORDER CATEGORY  TAXON CONCEPT ID  \\\n",
       "0  2025-03-19 15:41:50.266885             6913  species  avibase-1819ECCE   \n",
       "1  2025-03-19 15:41:50.266885             7354  species  avibase-1EA575E0   \n",
       "2  2025-03-24 07:15:47.007622            16879  species  avibase-644B907D   \n",
       "3  2025-03-24 07:15:47.007622            28360  species  avibase-F09C3940   \n",
       "4  2025-03-24 07:15:47.007622            32378  species  avibase-AE31F0F3   \n",
       "\n",
       "               COMMON NAME          SCIENTIFIC NAME SUBSPECIES COMMON NAME  \\\n",
       "0  Light-mantled Albatross    Phoebetria palpebrata                    NaN   \n",
       "1     Magellanic Cormorant  Leucocarbo magellanicus                    NaN   \n",
       "2          Austral Negrito            Lessonia rufa                    NaN   \n",
       "3           Austral Thrush       Turdus falcklandii                    NaN   \n",
       "4     Black-chinned Siskin          Spinus barbatus                    NaN   \n",
       "\n",
       "  SUBSPECIES SCIENTIFIC NAME EXOTIC CODE  ... NUMBER OBSERVERS  \\\n",
       "0                        NaN         NaN  ...              1.0   \n",
       "1                        NaN         NaN  ...              1.0   \n",
       "2                        NaN         NaN  ...              4.0   \n",
       "3                        NaN         NaN  ...              4.0   \n",
       "4                        NaN         NaN  ...              4.0   \n",
       "\n",
       "  ALL SPECIES REPORTED GROUP IDENTIFIER HAS MEDIA APPROVED REVIEWED REASON  \\\n",
       "0                    0              NaN         0        1        0    NaN   \n",
       "1                    0              NaN         0        1        0    NaN   \n",
       "2                    1              NaN         0        1        0    NaN   \n",
       "3                    1              NaN         0        1        0    NaN   \n",
       "4                    1              NaN         0        1        0    NaN   \n",
       "\n",
       "  CHECKLIST COMMENTS SPECIES COMMENTS Unnamed: 52  \n",
       "0                NaN              NaN         NaN  \n",
       "1                NaN              NaN         NaN  \n",
       "2                NaN              NaN         NaN  \n",
       "3                NaN              NaN         NaN  \n",
       "4                NaN              NaN         NaN  \n",
       "\n",
       "[5 rows x 53 columns]"
      ]
     },
     "metadata": {},
     "output_type": "display_data"
    }
   ],
   "source": [
    "archivo = '../data/external/obs_ebird.txt'\n",
    "try:\n",
    "    df_base = pd.read_csv(archivo, sep='\\t')\n",
    "    display(df_base.head())\n",
    "except FileNotFoundError:\n",
    "    print('No se encuentra el archivo en la ruta ' + archivo)"
   ]
  },
  {
   "cell_type": "markdown",
   "id": "b80bf7af",
   "metadata": {},
   "source": [
    "## Limpieza de datos"
   ]
  },
  {
   "cell_type": "markdown",
   "id": "94530678",
   "metadata": {},
   "source": [
    "### Revisión y eliminación de columnas no útiles"
   ]
  },
  {
   "cell_type": "code",
   "execution_count": 3,
   "id": "48889324",
   "metadata": {},
   "outputs": [],
   "source": [
    "# Conservo únicamente las columnas necesarias y renombro según el formato de iNaturalist\n",
    "df_filtrado = df_base[['COMMON NAME', 'SCIENTIFIC NAME', 'LATITUDE', 'LONGITUDE', 'OBSERVATION DATE']].rename(columns={\n",
    "    'COMMON NAME': 'common_name',\n",
    "    'SCIENTIFIC NAME': 'scientific_name',\n",
    "    'LATITUDE': 'latitude',\n",
    "    'LONGITUDE': 'longitude',\n",
    "    'OBSERVATION DATE': 'observed_on'\n",
    "})\n"
   ]
  },
  {
   "cell_type": "markdown",
   "id": "718784e3",
   "metadata": {},
   "source": [
    "##### Ver resumen de valores"
   ]
  },
  {
   "cell_type": "code",
   "execution_count": 4,
   "id": "b9c9a34d",
   "metadata": {},
   "outputs": [
    {
     "name": "stdout",
     "output_type": "stream",
     "text": [
      "common_name        0\n",
      "scientific_name    0\n",
      "latitude           0\n",
      "longitude          0\n",
      "observed_on        0\n",
      "dtype: int64\n"
     ]
    }
   ],
   "source": [
    "# Ver la cantidad de datos faltantes en cada fila\n",
    "print(df_filtrado.isnull().sum())"
   ]
  },
  {
   "cell_type": "code",
   "execution_count": 5,
   "id": "bd30a0c0",
   "metadata": {},
   "outputs": [
    {
     "data": {
      "application/vnd.microsoft.datawrangler.viewer.v0+json": {
       "columns": [
        {
         "name": "index",
         "rawType": "object",
         "type": "string"
        },
        {
         "name": "latitude",
         "rawType": "float64",
         "type": "float"
        },
        {
         "name": "longitude",
         "rawType": "float64",
         "type": "float"
        }
       ],
       "ref": "7d4767d7-d4d8-4f9b-a201-d0649b831e91",
       "rows": [
        [
         "count",
         "426837.0",
         "426837.0"
        ],
        [
         "mean",
         "-54.55150238540988",
         "-67.8489631633516"
        ],
        [
         "std",
         "0.5255153582317349",
         "1.0719397767152326"
        ],
        [
         "min",
         "-57.9205812",
         "-68.774447"
        ],
        [
         "25%",
         "-54.8377863",
         "-68.350963"
        ],
        [
         "50%",
         "-54.811116",
         "-68.26824"
        ],
        [
         "75%",
         "-54.185825",
         "-67.7239537"
        ],
        [
         "max",
         "-52.45467",
         "-58.63661"
        ]
       ],
       "shape": {
        "columns": 2,
        "rows": 8
       }
      },
      "text/html": [
       "<div>\n",
       "<style scoped>\n",
       "    .dataframe tbody tr th:only-of-type {\n",
       "        vertical-align: middle;\n",
       "    }\n",
       "\n",
       "    .dataframe tbody tr th {\n",
       "        vertical-align: top;\n",
       "    }\n",
       "\n",
       "    .dataframe thead th {\n",
       "        text-align: right;\n",
       "    }\n",
       "</style>\n",
       "<table border=\"1\" class=\"dataframe\">\n",
       "  <thead>\n",
       "    <tr style=\"text-align: right;\">\n",
       "      <th></th>\n",
       "      <th>latitude</th>\n",
       "      <th>longitude</th>\n",
       "    </tr>\n",
       "  </thead>\n",
       "  <tbody>\n",
       "    <tr>\n",
       "      <th>count</th>\n",
       "      <td>426837.000000</td>\n",
       "      <td>426837.000000</td>\n",
       "    </tr>\n",
       "    <tr>\n",
       "      <th>mean</th>\n",
       "      <td>-54.551502</td>\n",
       "      <td>-67.848963</td>\n",
       "    </tr>\n",
       "    <tr>\n",
       "      <th>std</th>\n",
       "      <td>0.525515</td>\n",
       "      <td>1.071940</td>\n",
       "    </tr>\n",
       "    <tr>\n",
       "      <th>min</th>\n",
       "      <td>-57.920581</td>\n",
       "      <td>-68.774447</td>\n",
       "    </tr>\n",
       "    <tr>\n",
       "      <th>25%</th>\n",
       "      <td>-54.837786</td>\n",
       "      <td>-68.350963</td>\n",
       "    </tr>\n",
       "    <tr>\n",
       "      <th>50%</th>\n",
       "      <td>-54.811116</td>\n",
       "      <td>-68.268240</td>\n",
       "    </tr>\n",
       "    <tr>\n",
       "      <th>75%</th>\n",
       "      <td>-54.185825</td>\n",
       "      <td>-67.723954</td>\n",
       "    </tr>\n",
       "    <tr>\n",
       "      <th>max</th>\n",
       "      <td>-52.454670</td>\n",
       "      <td>-58.636610</td>\n",
       "    </tr>\n",
       "  </tbody>\n",
       "</table>\n",
       "</div>"
      ],
      "text/plain": [
       "            latitude      longitude\n",
       "count  426837.000000  426837.000000\n",
       "mean      -54.551502     -67.848963\n",
       "std         0.525515       1.071940\n",
       "min       -57.920581     -68.774447\n",
       "25%       -54.837786     -68.350963\n",
       "50%       -54.811116     -68.268240\n",
       "75%       -54.185825     -67.723954\n",
       "max       -52.454670     -58.636610"
      ]
     },
     "execution_count": 5,
     "metadata": {},
     "output_type": "execute_result"
    }
   ],
   "source": [
    "# Reviso puntos extremos de las coordenadas\n",
    "df_filtrado.describe()"
   ]
  },
  {
   "cell_type": "markdown",
   "id": "db707b60",
   "metadata": {},
   "source": [
    "## Exportar el data frame resultante"
   ]
  },
  {
   "cell_type": "code",
   "execution_count": 6,
   "id": "00d3a18a",
   "metadata": {},
   "outputs": [],
   "source": [
    "df_filtrado.to_csv('../data/raw/data_ebird.csv', index=False)"
   ]
  }
 ],
 "metadata": {
  "kernelspec": {
   "display_name": "Python 3",
   "language": "python",
   "name": "python3"
  },
  "language_info": {
   "codemirror_mode": {
    "name": "ipython",
    "version": 3
   },
   "file_extension": ".py",
   "mimetype": "text/x-python",
   "name": "python",
   "nbconvert_exporter": "python",
   "pygments_lexer": "ipython3",
   "version": "3.13.0"
  }
 },
 "nbformat": 4,
 "nbformat_minor": 5
}
